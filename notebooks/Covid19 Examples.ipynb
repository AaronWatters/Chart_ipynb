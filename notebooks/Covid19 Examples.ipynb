{
 "cells": [
  {
   "cell_type": "markdown",
   "metadata": {},
   "source": [
    "# Covid-19 examples\n",
    "\n",
    "The data is provided by NYTimes which can be found here: https://github.com/nytimes/covid-19-data.  \n",
    "The data file used here is state-based US data."
   ]
  },
  {
   "cell_type": "code",
   "execution_count": 1,
   "metadata": {},
   "outputs": [],
   "source": [
    "from chart_ipynb.chart_framework import ChartSuperClass\n",
    "from chart_ipynb import utils, line, time_series, bar, scatter, bubble\n",
    "import numpy as np\n",
    "import pandas as pd"
   ]
  },
  {
   "cell_type": "code",
   "execution_count": 2,
   "metadata": {},
   "outputs": [],
   "source": [
    "url = 'https://raw.githubusercontent.com/nytimes/covid-19-data/master/us-states.csv'\n",
    "data = pd.read_csv(url)"
   ]
  },
  {
   "cell_type": "code",
   "execution_count": 3,
   "metadata": {},
   "outputs": [
    {
     "data": {
      "text/html": [
       "<div>\n",
       "<style scoped>\n",
       "    .dataframe tbody tr th:only-of-type {\n",
       "        vertical-align: middle;\n",
       "    }\n",
       "\n",
       "    .dataframe tbody tr th {\n",
       "        vertical-align: top;\n",
       "    }\n",
       "\n",
       "    .dataframe thead th {\n",
       "        text-align: right;\n",
       "    }\n",
       "</style>\n",
       "<table border=\"1\" class=\"dataframe\">\n",
       "  <thead>\n",
       "    <tr style=\"text-align: right;\">\n",
       "      <th></th>\n",
       "      <th>date</th>\n",
       "      <th>state</th>\n",
       "      <th>fips</th>\n",
       "      <th>cases</th>\n",
       "      <th>deaths</th>\n",
       "    </tr>\n",
       "  </thead>\n",
       "  <tbody>\n",
       "    <tr>\n",
       "      <td>0</td>\n",
       "      <td>2020-01-21</td>\n",
       "      <td>Washington</td>\n",
       "      <td>53</td>\n",
       "      <td>1</td>\n",
       "      <td>0</td>\n",
       "    </tr>\n",
       "    <tr>\n",
       "      <td>1</td>\n",
       "      <td>2020-01-22</td>\n",
       "      <td>Washington</td>\n",
       "      <td>53</td>\n",
       "      <td>1</td>\n",
       "      <td>0</td>\n",
       "    </tr>\n",
       "    <tr>\n",
       "      <td>2</td>\n",
       "      <td>2020-01-23</td>\n",
       "      <td>Washington</td>\n",
       "      <td>53</td>\n",
       "      <td>1</td>\n",
       "      <td>0</td>\n",
       "    </tr>\n",
       "    <tr>\n",
       "      <td>3</td>\n",
       "      <td>2020-01-24</td>\n",
       "      <td>Illinois</td>\n",
       "      <td>17</td>\n",
       "      <td>1</td>\n",
       "      <td>0</td>\n",
       "    </tr>\n",
       "    <tr>\n",
       "      <td>4</td>\n",
       "      <td>2020-01-24</td>\n",
       "      <td>Washington</td>\n",
       "      <td>53</td>\n",
       "      <td>1</td>\n",
       "      <td>0</td>\n",
       "    </tr>\n",
       "  </tbody>\n",
       "</table>\n",
       "</div>"
      ],
      "text/plain": [
       "         date       state  fips  cases  deaths\n",
       "0  2020-01-21  Washington    53      1       0\n",
       "1  2020-01-22  Washington    53      1       0\n",
       "2  2020-01-23  Washington    53      1       0\n",
       "3  2020-01-24    Illinois    17      1       0\n",
       "4  2020-01-24  Washington    53      1       0"
      ]
     },
     "execution_count": 3,
     "metadata": {},
     "output_type": "execute_result"
    }
   ],
   "source": [
    "data.head()"
   ]
  },
  {
   "cell_type": "markdown",
   "metadata": {},
   "source": [
    "First, we define a function called get_state_data to extract information based on states."
   ]
  },
  {
   "cell_type": "code",
   "execution_count": 4,
   "metadata": {},
   "outputs": [],
   "source": [
    "def get_state_data(data, state, start=None, end=None):\n",
    "    \"\"\"\n",
    "    data: pd.DataFrame\n",
    "    state: a str of state or a list of states\n",
    "    \"\"\"\n",
    "    if start is None:\n",
    "        start = data.iloc[0].date\n",
    "    if end is None:\n",
    "        end = data.iloc[-1].date\n",
    "    data = data[(data.date >= start) & (data.date <= end)]\n",
    "    states = data.reset_index().groupby('state')\n",
    "    if isinstance(state, str):\n",
    "        state = [state]\n",
    "    state_data = dict()\n",
    "    for s in state:\n",
    "        idx = states.groups[s]\n",
    "        state_data[s] = data.iloc[idx].reset_index()\n",
    "    return state_data"
   ]
  },
  {
   "cell_type": "code",
   "execution_count": 5,
   "metadata": {},
   "outputs": [],
   "source": [
    "state_name = ['California', 'Texas', 'Florida', 'New York', 'Pennsylvania', 'Illinois', 'Ohio', 'Georgia', 'North Carolina', 'Michigan', 'New Jersey', 'Virginia', 'Washington', 'Arizona', 'Massachusetts', 'Tennessee', 'Indiana', 'Missouri', 'Maryland', 'Wisconsin', 'Colorado', 'Minnesota', 'South Carolina', 'Alabama', 'Louisiana', 'Kentucky', 'Oregon', 'Oklahoma', 'Connecticut', 'Utah', 'Iowa', 'Nevada', 'Arkansas', 'Puerto Rico', 'Mississippi', 'Kansas', 'New Mexico', 'Nebraska', 'Idaho', 'West Virginia', 'Hawaii', 'New Hampshire', 'Maine', 'Montana', 'Rhode Island', 'Delaware', 'South Dakota', 'North Dakota', 'Alaska', 'District of Columbia', 'Vermont', 'Wyoming']"
   ]
  },
  {
   "cell_type": "markdown",
   "metadata": {},
   "source": [
    "## Covid-19 Cases by States\n",
    "\n",
    "We can compare the number of Covid-19 cases of New York and New Jersey starting from March 1st. "
   ]
  },
  {
   "cell_type": "code",
   "execution_count": 6,
   "metadata": {},
   "outputs": [],
   "source": [
    "state = ['New York', 'New Jersey']\n",
    "start = '2020-03-01'\n",
    "state_data = get_state_data(data, state, start = start)\n",
    "input_dataset = [state_data[s] for s in state]"
   ]
  },
  {
   "cell_type": "markdown",
   "metadata": {},
   "source": [
    "`time_series_Chart` support two types of charts: line and bar. More details about time series function can be found [here](https://github.com/AaronWatters/Chart_ipynb/blob/master/notebooks/time%20series%20example.ipynb).\n",
    "\n",
    "### Line Chart"
   ]
  },
  {
   "cell_type": "code",
   "execution_count": 7,
   "metadata": {},
   "outputs": [
    {
     "data": {
      "application/vnd.jupyter.widget-view+json": {
       "model_id": "ce809f8bd3b94ab0a37442fdd74e6c4e",
       "version_major": 2,
       "version_minor": 0
      },
      "text/plain": [
       "Line(status='deferring flush until render')"
      ]
     },
     "metadata": {},
     "output_type": "display_data"
    }
   ],
   "source": [
    "time_series.time_series_Chart('line', state, 'cases', date_col = 'date', colors = ['red', 'blue'], \n",
    "                           data_provide = True, title = 'Covid-19 Cases - line chart',\n",
    "                           input_dataset = input_dataset,\n",
    "                           multi_axis = True)"
   ]
  },
  {
   "cell_type": "markdown",
   "metadata": {},
   "source": [
    "Two states had their very first case on March 4th, and the number of cases both leaped to hundred thousand during next two months.   \n",
    "\n",
    "Looking at the cases for all states, most of states had their first case at the begining of March.  \n",
    "`mode` value is used to control the mouseover label  \n",
    "- 'point': present the value of one point  \n",
    "- 'index': present the value of points of all dataset at this x axis value  \n",
    "- 'dataset': present the value of all points of this particular datasets  \n",
    "- 'x': present all values at this x-axis value  \n",
    "- 'y': present all values at this y-axis value  "
   ]
  },
  {
   "cell_type": "code",
   "execution_count": 8,
   "metadata": {},
   "outputs": [
    {
     "data": {
      "application/vnd.jupyter.widget-view+json": {
       "model_id": "17bc8559f3404b858038c95cd9bc17e4",
       "version_major": 2,
       "version_minor": 0
      },
      "text/plain": [
       "Line(status='deferring flush until render')"
      ]
     },
     "metadata": {},
     "output_type": "display_data"
    }
   ],
   "source": [
    "all_state = get_state_data(data, state_name)\n",
    "all_dataset = [all_state[s] for s in state_name]\n",
    "time_series.time_series_Chart('line', state_name, 'cases', date_col = 'date', \n",
    "                           data_provide = True, title = 'Covid-19 Cases for all states - line chart',\n",
    "                           input_dataset = all_dataset,log_axis=True, mode = 'point', intersect = False,\n",
    "                           width=1500)"
   ]
  },
  {
   "cell_type": "markdown",
   "metadata": {},
   "source": [
    "### Bar Chart"
   ]
  },
  {
   "cell_type": "code",
   "execution_count": 9,
   "metadata": {},
   "outputs": [
    {
     "data": {
      "application/vnd.jupyter.widget-view+json": {
       "model_id": "98f8fbd4aa8743279b2c5505ea7793e6",
       "version_major": 2,
       "version_minor": 0
      },
      "text/plain": [
       "Bar(status='deferring flush until render')"
      ]
     },
     "metadata": {},
     "output_type": "display_data"
    }
   ],
   "source": [
    "state = ['New York', 'New Jersey']\n",
    "start = '2020-03-01'\n",
    "state_data = get_state_data(data, state, start = start)\n",
    "input_dataset = [state_data[s] for s in state]\n",
    "time_series.time_series_Chart('bar', state, 'cases', date_col = 'date', colors = ['red', 'blue'], \n",
    "                               data_provide = True, title = 'Covid-19 Cases - bar chart',\n",
    "                               input_dataset = input_dataset, \n",
    "                               stacked = True)"
   ]
  },
  {
   "cell_type": "markdown",
   "metadata": {},
   "source": [
    "From the stacked bar chart, we can notice that the number of Covid-19 cases doubled in New York state."
   ]
  },
  {
   "cell_type": "markdown",
   "metadata": {},
   "source": [
    "## Daily Increase  in Cases by States  \n",
    "\n",
    "Next, we can look at the daily increase cases for New York and New Jersey.  \n",
    "\n",
    "The following function is defined to extract the number of cases increasing daily."
   ]
  },
  {
   "cell_type": "code",
   "execution_count": 10,
   "metadata": {},
   "outputs": [],
   "source": [
    "def get_daily_increase(data, state, start=None, end=None):\n",
    "    df = get_state_data(data, state)\n",
    "    daily_df = {}\n",
    "    for i in df:\n",
    "        temp = df[i].set_index('date')[['cases','deaths']].diff().reset_index().fillna(0)\n",
    "        if start is None:\n",
    "            start = temp.iloc[0].date\n",
    "        if end is None:\n",
    "            end = temp.iloc[-1].date\n",
    "        daily_df[i] = temp[(temp.date >= start) & (temp.date <= end)]\n",
    "    return daily_df"
   ]
  },
  {
   "cell_type": "code",
   "execution_count": 11,
   "metadata": {},
   "outputs": [],
   "source": [
    "state = ['New York', 'New Jersey']\n",
    "start = '2020-03-01'\n",
    "daily_data = get_daily_increase(data, state, start=start, end=None)\n",
    "input_dataset = [daily_data[s] for s in state]"
   ]
  },
  {
   "cell_type": "code",
   "execution_count": 12,
   "metadata": {},
   "outputs": [
    {
     "data": {
      "application/vnd.jupyter.widget-view+json": {
       "model_id": "371023b04bf5499ab56e27806b95c00c",
       "version_major": 2,
       "version_minor": 0
      },
      "text/plain": [
       "Line(status='deferring flush until render')"
      ]
     },
     "metadata": {},
     "output_type": "display_data"
    }
   ],
   "source": [
    "time_series.time_series_Chart('line', state, 'cases', date_col = 'date', colors = ['red', 'blue'], \n",
    "                               data_provide = True, title = 'Covid-19 Daily Increase in Cases - line chart',\n",
    "                               input_dataset = input_dataset)"
   ]
  },
  {
   "cell_type": "markdown",
   "metadata": {},
   "source": [
    "From the end of March to the beginning of May, the number of cases increasing by day were more than 4000. On April 7th, the number of daily increase in cases reached 12,000. "
   ]
  },
  {
   "cell_type": "code",
   "execution_count": 13,
   "metadata": {},
   "outputs": [
    {
     "data": {
      "application/vnd.jupyter.widget-view+json": {
       "model_id": "71415dcf17544f8cbaf9601c4c0dd2de",
       "version_major": 2,
       "version_minor": 0
      },
      "text/plain": [
       "Line(status='deferring flush until render')"
      ]
     },
     "metadata": {},
     "output_type": "display_data"
    }
   ],
   "source": [
    "daily_data = get_daily_increase(data, state_name, end=None)\n",
    "input_dataset = [daily_data[s] for s in state_name]\n",
    "time_series.time_series_Chart('line', state_name, 'cases', date_col = 'date', \n",
    "                               data_provide = True, title = 'Covid-19 Daily Increase in Cases - line chart',\n",
    "                               input_dataset = input_dataset, intersect = True, width=2000)"
   ]
  },
  {
   "cell_type": "markdown",
   "metadata": {},
   "source": [
    "## Cases and Deaths - Population\n",
    "\n",
    "An additional dataset about population by states will be used to help demonstrate the information, which can be found [here](https://worldpopulationreview.com/states/)."
   ]
  },
  {
   "cell_type": "code",
   "execution_count": 14,
   "metadata": {},
   "outputs": [],
   "source": [
    "pop = pd.read_csv('../data/us-population.csv')\n",
    "population = pop.set_index('State').to_dict('dict')['Pop'] #key: state; value: population"
   ]
  },
  {
   "cell_type": "code",
   "execution_count": 15,
   "metadata": {},
   "outputs": [],
   "source": [
    "end_date = data.iloc[-1].date\n",
    "\n",
    "covid_bubble = bubble.Bubble()\n",
    "\n",
    "k=0\n",
    "for s in population:\n",
    "    df = data[(data.state==s)&(data.date==end_date)]\n",
    "    x = round(float(df['cases'].values[0]/population[s]*100),2)\n",
    "    y = round(float(df['deaths'].values[0]/population[s]*100),2)\n",
    "    r = round(float(np.log(population[s])),2)\n",
    "    dataset = [{'x':x, 'y': y}]\n",
    "    covid_bubble.add_dataset(\n",
    "                            dataset, s,\n",
    "                            radius = r,\n",
    "                            backgroundColor = utils.color_rgb(utils.color_name[k], 0.5),\n",
    "                            borderColor = utils.color_rgb(utils.color_name[k]),\n",
    "                            hoverBackgroundColor = 'transparent',\n",
    "                            hoverBorderColor = utils.color_rgb(utils.color_name[k])\n",
    "                            )\n",
    "    k+=1"
   ]
  },
  {
   "cell_type": "code",
   "execution_count": 16,
   "metadata": {},
   "outputs": [
    {
     "data": {
      "application/vnd.jupyter.widget-view+json": {
       "model_id": "4f5a13f20e8443a58fd413b84f3ca4c7",
       "version_major": 2,
       "version_minor": 0
      },
      "text/plain": [
       "Bubble(status='deferring flush until render')"
      ]
     },
     "metadata": {},
     "output_type": "display_data"
    }
   ],
   "source": [
    "covid_bubble.options.update({'scales':{\n",
    "    'xAxes':[utils.axes(\n",
    "                            display = True,\n",
    "                            scaleLabel = {\n",
    "                                'display': True,\n",
    "                                'labelString': 'Positive test/Population'\n",
    "                                }\n",
    "                        )],\n",
    "    'yAxes':[utils.axes(\n",
    "                            display = True,\n",
    "                            scaleLabel = {\n",
    "                                'display': True,\n",
    "                                'labelString': 'Deaths/Population'\n",
    "                                }\n",
    "                        )]\n",
    "    }})\n",
    "covid_bubble.set_title(\"Covid-19 Deaths/Population vs. Cases/Population\")\n",
    "covid_bubble.setup(width=1600)\n",
    "covid_bubble"
   ]
  },
  {
   "cell_type": "markdown",
   "metadata": {},
   "source": [
    "## Click to Compare on Date\n",
    "\n",
    "`chart_ipynb` provides several click event functions to allow to do something specifically with the clicked object. More details can refer to [quick reference](https://github.com/AaronWatters/Chart_ipynb/blob/master/notebooks/chart_ipynb%20quick%20reference.ipynb).  \n",
    "\n",
    "<img src=\"pics/covid_compare.png\" width=\"70%\">"
   ]
  },
  {
   "cell_type": "code",
   "execution_count": 60,
   "metadata": {},
   "outputs": [
    {
     "data": {
      "application/vnd.jupyter.widget-view+json": {
       "model_id": "8f94afd1f93e4530aaa6cac453a7efaa",
       "version_major": 2,
       "version_minor": 0
      },
      "text/plain": [
       "VBox(children=(Line(status='deferring flush until render'), Text(value='deferring flush until render', descrip…"
      ]
     },
     "metadata": {},
     "output_type": "display_data"
    }
   ],
   "source": [
    "state = ['New York']\n",
    "start = '2020-06-01'\n",
    "state_data = get_daily_increase(data, state, start=start, end=None)\n",
    "input_dataset = [state_data[s] for s in state]\n",
    "ny_daily = time_series.time_series_Chart('line', state, 'cases', date_col = 'date', colors = ['red'], \n",
    "                           data_provide = True, title = 'Covid-19 Daily Increases in Cases - New York',\n",
    "                           input_dataset = input_dataset)\n",
    "ny_daily.debugging_display()"
   ]
  },
  {
   "cell_type": "markdown",
   "metadata": {},
   "source": [
    "Let's define a function called `higher_daily` to take the information of clicked object as input. The following function extracts date and increase values of New York of the clicked point, and returns a dictionary of dictionary with date as key and state dictionary as value."
   ]
  },
  {
   "cell_type": "code",
   "execution_count": 61,
   "metadata": {},
   "outputs": [],
   "source": [
    "result = {}\n",
    "\n",
    "def higher_daily(*arguments):\n",
    "    global result\n",
    "    day = arguments[0]['label']\n",
    "    increase_case = arguments[0]['dataValue']\n",
    "    result[day] = {}\n",
    "    for i in daily_data:\n",
    "        val = daily_data[i][daily_data[i].date==day].cases.values[0]\n",
    "        if val > increase_case:\n",
    "            result[day][i] = val\n",
    "    \n",
    "ny_daily.click_callback(higher_daily)"
   ]
  },
  {
   "cell_type": "code",
   "execution_count": 62,
   "metadata": {},
   "outputs": [
    {
     "data": {
      "text/plain": [
       "{'2020-06-02': {'California': 2438.0, 'Texas': 1885.0, 'Illinois': 1578.0}}"
      ]
     },
     "execution_count": 62,
     "metadata": {},
     "output_type": "execute_result"
    }
   ],
   "source": [
    "result"
   ]
  },
  {
   "cell_type": "markdown",
   "metadata": {},
   "source": [
    "```\n",
    "{'2020-06-02': {'California': 2438.0, 'Texas': 1885.0, 'Illinois': 1578.0}}\n",
    "```\n",
    "\n",
    "Since the daily increases on June 2nd is highest, we can click on that point to see any other states having higher daily increases. On that day, California, Texas, and Illinois had higher daily increases."
   ]
  }
 ],
 "metadata": {
  "kernelspec": {
   "display_name": "Python 3",
   "language": "python",
   "name": "python3"
  },
  "language_info": {
   "codemirror_mode": {
    "name": "ipython",
    "version": 3
   },
   "file_extension": ".py",
   "mimetype": "text/x-python",
   "name": "python",
   "nbconvert_exporter": "python",
   "pygments_lexer": "ipython3",
   "version": "3.7.0"
  }
 },
 "nbformat": 4,
 "nbformat_minor": 4
}
