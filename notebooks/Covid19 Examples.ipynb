{
 "cells": [
  {
   "cell_type": "markdown",
   "metadata": {},
   "source": [
    "# Covid-19 examples\n",
    "\n",
    "The data is provided by NYTimes which can be found here: https://github.com/nytimes/covid-19-data.  \n",
    "The data file used here is state-based US data."
   ]
  },
  {
   "cell_type": "code",
   "execution_count": 1,
   "metadata": {},
   "outputs": [],
   "source": [
    "from chart_ipynb.chart_framework import ChartSuperClass\n",
    "from chart_ipynb import utils, line, time_series, bar, scatter, bubble\n",
    "import numpy as np\n",
    "import pandas as pd\n",
    "from jp_doodle import dual_canvas\n",
    "from IPython.display import display\n",
    "import ipywidgets as widgets"
   ]
  },
  {
   "cell_type": "code",
   "execution_count": 2,
   "metadata": {},
   "outputs": [],
   "source": [
    "url = 'https://raw.githubusercontent.com/nytimes/covid-19-data/master/us-states.csv'\n",
    "data = pd.read_csv(url)"
   ]
  },
  {
   "cell_type": "code",
   "execution_count": 3,
   "metadata": {},
   "outputs": [
    {
     "data": {
      "text/html": [
       "<div>\n",
       "<style scoped>\n",
       "    .dataframe tbody tr th:only-of-type {\n",
       "        vertical-align: middle;\n",
       "    }\n",
       "\n",
       "    .dataframe tbody tr th {\n",
       "        vertical-align: top;\n",
       "    }\n",
       "\n",
       "    .dataframe thead th {\n",
       "        text-align: right;\n",
       "    }\n",
       "</style>\n",
       "<table border=\"1\" class=\"dataframe\">\n",
       "  <thead>\n",
       "    <tr style=\"text-align: right;\">\n",
       "      <th></th>\n",
       "      <th>date</th>\n",
       "      <th>state</th>\n",
       "      <th>fips</th>\n",
       "      <th>cases</th>\n",
       "      <th>deaths</th>\n",
       "    </tr>\n",
       "  </thead>\n",
       "  <tbody>\n",
       "    <tr>\n",
       "      <td>0</td>\n",
       "      <td>2020-01-21</td>\n",
       "      <td>Washington</td>\n",
       "      <td>53</td>\n",
       "      <td>1</td>\n",
       "      <td>0</td>\n",
       "    </tr>\n",
       "    <tr>\n",
       "      <td>1</td>\n",
       "      <td>2020-01-22</td>\n",
       "      <td>Washington</td>\n",
       "      <td>53</td>\n",
       "      <td>1</td>\n",
       "      <td>0</td>\n",
       "    </tr>\n",
       "    <tr>\n",
       "      <td>2</td>\n",
       "      <td>2020-01-23</td>\n",
       "      <td>Washington</td>\n",
       "      <td>53</td>\n",
       "      <td>1</td>\n",
       "      <td>0</td>\n",
       "    </tr>\n",
       "    <tr>\n",
       "      <td>3</td>\n",
       "      <td>2020-01-24</td>\n",
       "      <td>Illinois</td>\n",
       "      <td>17</td>\n",
       "      <td>1</td>\n",
       "      <td>0</td>\n",
       "    </tr>\n",
       "    <tr>\n",
       "      <td>4</td>\n",
       "      <td>2020-01-24</td>\n",
       "      <td>Washington</td>\n",
       "      <td>53</td>\n",
       "      <td>1</td>\n",
       "      <td>0</td>\n",
       "    </tr>\n",
       "  </tbody>\n",
       "</table>\n",
       "</div>"
      ],
      "text/plain": [
       "         date       state  fips  cases  deaths\n",
       "0  2020-01-21  Washington    53      1       0\n",
       "1  2020-01-22  Washington    53      1       0\n",
       "2  2020-01-23  Washington    53      1       0\n",
       "3  2020-01-24    Illinois    17      1       0\n",
       "4  2020-01-24  Washington    53      1       0"
      ]
     },
     "execution_count": 3,
     "metadata": {},
     "output_type": "execute_result"
    }
   ],
   "source": [
    "data.head()"
   ]
  },
  {
   "cell_type": "markdown",
   "metadata": {},
   "source": [
    "First, we define a function called get_state_data to extract information based on states."
   ]
  },
  {
   "cell_type": "code",
   "execution_count": 4,
   "metadata": {},
   "outputs": [],
   "source": [
    "def get_state_data(data, state, start=None, end=None):\n",
    "    \"\"\"\n",
    "    data: pd.DataFrame\n",
    "    state: a str of state or a list of states\n",
    "    \"\"\"\n",
    "    if start is None:\n",
    "        start = data.iloc[0].date\n",
    "    if end is None:\n",
    "        end = data.iloc[-1].date\n",
    "    data = data[(data.date >= start) & (data.date <= end)]\n",
    "    states = data.reset_index().groupby('state')\n",
    "    if isinstance(state, str):\n",
    "        state = [state]\n",
    "    state_data = dict()\n",
    "    for s in state:\n",
    "        idx = states.groups[s]\n",
    "        state_data[s] = data.iloc[idx].reset_index(drop=True)\n",
    "    return state_data"
   ]
  },
  {
   "cell_type": "code",
   "execution_count": 5,
   "metadata": {},
   "outputs": [],
   "source": [
    "state_name = ['California', 'Texas', 'Florida', 'New York', 'Pennsylvania', 'Illinois', 'Ohio', 'Georgia', 'North Carolina', 'Michigan', 'New Jersey', 'Virginia', 'Washington', 'Arizona', 'Massachusetts', 'Tennessee', 'Indiana', 'Missouri', 'Maryland', 'Wisconsin', 'Colorado', 'Minnesota', 'South Carolina', 'Alabama', 'Louisiana', 'Kentucky', 'Oregon', 'Oklahoma', 'Connecticut', 'Utah', 'Iowa', 'Nevada', 'Arkansas', 'Puerto Rico', 'Mississippi', 'Kansas', 'New Mexico', 'Nebraska', 'Idaho', 'West Virginia', 'Hawaii', 'New Hampshire', 'Maine', 'Montana', 'Rhode Island', 'Delaware', 'South Dakota', 'North Dakota', 'Alaska', 'District of Columbia', 'Vermont', 'Wyoming']"
   ]
  },
  {
   "cell_type": "markdown",
   "metadata": {},
   "source": [
    "## Covid-19 Cases by States\n",
    "\n",
    "We can compare the number of Covid-19 cases of New York and New Jersey starting from March 1st. "
   ]
  },
  {
   "cell_type": "code",
   "execution_count": 6,
   "metadata": {},
   "outputs": [],
   "source": [
    "state = ['New York', 'New Jersey']\n",
    "start = '2020-03-01'\n",
    "state_data = get_state_data(data, state, start = start)\n",
    "input_dataset = [state_data[s] for s in state]"
   ]
  },
  {
   "cell_type": "markdown",
   "metadata": {},
   "source": [
    "`time_series_Chart` support two types of charts: line and bar. More details about time series function can be found [here](https://github.com/AaronWatters/Chart_ipynb/blob/master/notebooks/time%20series%20example.ipynb).\n",
    "\n",
    "### Line Chart"
   ]
  },
  {
   "cell_type": "code",
   "execution_count": 7,
   "metadata": {},
   "outputs": [
    {
     "data": {
      "application/vnd.jupyter.widget-view+json": {
       "model_id": "1cec97dabbf240bebe8178b5b6a36bad",
       "version_major": 2,
       "version_minor": 0
      },
      "text/plain": [
       "Line(status='deferring flush until render')"
      ]
     },
     "metadata": {},
     "output_type": "display_data"
    }
   ],
   "source": [
    "time_series.time_series_Chart('line', state, 'cases', date_col = 'date', colors = ['red', 'blue'], \n",
    "                           data_provide = True, title = 'Covid-19 Cases - line chart',\n",
    "                           input_dataset = input_dataset,\n",
    "                           multi_axis = True)"
   ]
  },
  {
   "cell_type": "markdown",
   "metadata": {},
   "source": [
    "Two states had their very first case on March 4th, and the number of cases both leaped to hundred thousand during next two months.   \n",
    "\n",
    "Looking at the cases for all states, most of states had their first case at the begining of March.  \n",
    "`mode` value is used to control the mouseover label  \n",
    "- 'point': present the value of one point  \n",
    "- 'index': present the value of points of all dataset at this x axis value  \n",
    "- 'dataset': present the value of all points of this particular datasets  \n",
    "- 'x': present all values at this x-axis value  \n",
    "- 'y': present all values at this y-axis value  "
   ]
  },
  {
   "cell_type": "code",
   "execution_count": 8,
   "metadata": {},
   "outputs": [
    {
     "data": {
      "application/vnd.jupyter.widget-view+json": {
       "model_id": "8306816b5245443fb4e22fb9ecbd22aa",
       "version_major": 2,
       "version_minor": 0
      },
      "text/plain": [
       "Line(status='deferring flush until render')"
      ]
     },
     "metadata": {},
     "output_type": "display_data"
    }
   ],
   "source": [
    "all_state = get_state_data(data, state_name)\n",
    "all_dataset = [all_state[s] for s in state_name]\n",
    "time_series.time_series_Chart('line', state_name, 'cases', date_col = 'date', \n",
    "                           data_provide = True, title = 'Covid-19 Cases for all states - line chart',\n",
    "                           input_dataset = all_dataset,log_axis=True, mode = 'point', intersect = False,\n",
    "                           width=1500)"
   ]
  },
  {
   "cell_type": "markdown",
   "metadata": {},
   "source": [
    "### Bar Chart"
   ]
  },
  {
   "cell_type": "code",
   "execution_count": 9,
   "metadata": {},
   "outputs": [
    {
     "data": {
      "application/vnd.jupyter.widget-view+json": {
       "model_id": "57d34951760a4df3b7f458782f336dbf",
       "version_major": 2,
       "version_minor": 0
      },
      "text/plain": [
       "Bar(status='deferring flush until render')"
      ]
     },
     "metadata": {},
     "output_type": "display_data"
    }
   ],
   "source": [
    "state = ['New York', 'New Jersey']\n",
    "start = '2020-03-01'\n",
    "state_data = get_state_data(data, state, start = start)\n",
    "input_dataset = [state_data[s] for s in state]\n",
    "time_series.time_series_Chart('bar', state, 'cases', date_col = 'date', colors = ['red', 'blue'], \n",
    "                               data_provide = True, title = 'Covid-19 Cases - bar chart',\n",
    "                               input_dataset = input_dataset, \n",
    "                               stacked = True)"
   ]
  },
  {
   "cell_type": "markdown",
   "metadata": {},
   "source": [
    "From the stacked bar chart, we can notice that the number of Covid-19 cases doubled in New York state."
   ]
  },
  {
   "cell_type": "markdown",
   "metadata": {},
   "source": [
    "## Daily Increase  in Cases by States  \n",
    "\n",
    "Next, we can look at the daily increase cases for New York and New Jersey.  \n",
    "\n",
    "The following function is defined to extract the number of cases increasing daily."
   ]
  },
  {
   "cell_type": "code",
   "execution_count": 10,
   "metadata": {},
   "outputs": [],
   "source": [
    "def get_daily_increase(data, state, start=None, end=None):\n",
    "    df = get_state_data(data, state)\n",
    "    daily_df = {}\n",
    "    for i in df:\n",
    "        temp = df[i].set_index('date')[['cases','deaths']].diff().reset_index().fillna(0)\n",
    "        if start is None:\n",
    "            start = temp.iloc[0].date\n",
    "        if end is None:\n",
    "            end = temp.iloc[-1].date\n",
    "        daily_df[i] = temp[(temp.date >= start) & (temp.date <= end)]\n",
    "    return daily_df"
   ]
  },
  {
   "cell_type": "code",
   "execution_count": 11,
   "metadata": {},
   "outputs": [],
   "source": [
    "state = ['New York', 'New Jersey']\n",
    "start = '2020-03-01'\n",
    "daily_data = get_daily_increase(data, state, start=start, end=None)\n",
    "input_dataset = [daily_data[s] for s in state]"
   ]
  },
  {
   "cell_type": "code",
   "execution_count": 12,
   "metadata": {},
   "outputs": [
    {
     "data": {
      "application/vnd.jupyter.widget-view+json": {
       "model_id": "69b9c039f1dd4f0fab98695eb6f9e9c0",
       "version_major": 2,
       "version_minor": 0
      },
      "text/plain": [
       "Line(status='deferring flush until render')"
      ]
     },
     "metadata": {},
     "output_type": "display_data"
    }
   ],
   "source": [
    "time_series.time_series_Chart('line', state, 'cases', date_col = 'date', colors = ['red', 'blue'], \n",
    "                               data_provide = True, title = 'Covid-19 Daily Increase in Cases - line chart',\n",
    "                               input_dataset = input_dataset)"
   ]
  },
  {
   "cell_type": "markdown",
   "metadata": {},
   "source": [
    "From the end of March to the beginning of May, the number of cases increasing by day were more than 4000. On April 7th, the number of daily increase in cases reached 12,000. "
   ]
  },
  {
   "cell_type": "code",
   "execution_count": 13,
   "metadata": {},
   "outputs": [
    {
     "data": {
      "application/vnd.jupyter.widget-view+json": {
       "model_id": "08df25cf577040c59c7a0b795587bade",
       "version_major": 2,
       "version_minor": 0
      },
      "text/plain": [
       "Line(status='deferring flush until render')"
      ]
     },
     "metadata": {},
     "output_type": "display_data"
    }
   ],
   "source": [
    "daily_data = get_daily_increase(data, state_name, end=None)\n",
    "input_dataset = [daily_data[s] for s in state_name]\n",
    "time_series.time_series_Chart('line', state_name, 'cases', date_col = 'date', \n",
    "                               data_provide = True, title = 'Covid-19 Daily Increase in Cases - line chart',\n",
    "                               input_dataset = input_dataset, intersect = True, width=2000)"
   ]
  },
  {
   "cell_type": "markdown",
   "metadata": {},
   "source": [
    "## Cases and Deaths - Population\n",
    "\n",
    "An additional dataset about population by states will be used to help demonstrate the information, which can be found [here](https://worldpopulationreview.com/states/)."
   ]
  },
  {
   "cell_type": "code",
   "execution_count": 14,
   "metadata": {},
   "outputs": [],
   "source": [
    "pop = pd.read_csv('../data/us-population.csv')\n",
    "population = pop.set_index('State').to_dict('dict')['Pop'] #key: state; value: population"
   ]
  },
  {
   "cell_type": "code",
   "execution_count": 15,
   "metadata": {},
   "outputs": [],
   "source": [
    "end_date = data.iloc[-1].date\n",
    "\n",
    "covid_bubble = bubble.Bubble()\n",
    "\n",
    "k=0\n",
    "for s in population:\n",
    "    df = data[(data.state==s)&(data.date==end_date)]\n",
    "    x = round(float(df['cases'].values[0]/population[s]*100),2)\n",
    "    y = round(float(df['deaths'].values[0]/population[s]*100),2)\n",
    "    r = round(float(np.log(population[s])),2)\n",
    "    dataset = [{'x':x, 'y': y}]\n",
    "    covid_bubble.add_dataset(\n",
    "                            dataset, s,\n",
    "                            radius = r,\n",
    "                            backgroundColor = utils.color_rgb(utils.color_name[k], 0.5),\n",
    "                            borderColor = utils.color_rgb(utils.color_name[k]),\n",
    "                            hoverBackgroundColor = 'transparent',\n",
    "                            hoverBorderColor = utils.color_rgb(utils.color_name[k])\n",
    "                            )\n",
    "    k+=1"
   ]
  },
  {
   "cell_type": "code",
   "execution_count": 16,
   "metadata": {},
   "outputs": [
    {
     "data": {
      "application/vnd.jupyter.widget-view+json": {
       "model_id": "cb1c861461f94ea197007894b849057b",
       "version_major": 2,
       "version_minor": 0
      },
      "text/plain": [
       "Bubble(status='deferring flush until render')"
      ]
     },
     "metadata": {},
     "output_type": "display_data"
    }
   ],
   "source": [
    "covid_bubble.options.update({'scales':{\n",
    "    'xAxes':[utils.axes(\n",
    "                            display = True,\n",
    "                            scaleLabel = {\n",
    "                                'display': True,\n",
    "                                'labelString': 'Positive test/Population'\n",
    "                                }\n",
    "                        )],\n",
    "    'yAxes':[utils.axes(\n",
    "                            display = True,\n",
    "                            scaleLabel = {\n",
    "                                'display': True,\n",
    "                                'labelString': 'Deaths/Population'\n",
    "                                }\n",
    "                        )]\n",
    "    }})\n",
    "covid_bubble.set_title(\"Covid-19 Deaths/Population vs. Cases/Population\")\n",
    "covid_bubble.setup(width=1600)\n",
    "covid_bubble"
   ]
  },
  {
   "cell_type": "markdown",
   "metadata": {},
   "source": [
    "## Click to Compare on Date\n",
    "\n",
    "`chart_ipynb` provides several click event functions to allow to do something specifically with the clicked object. More details can refer to [quick reference](https://github.com/AaronWatters/Chart_ipynb/blob/master/notebooks/chart_ipynb%20quick%20reference.ipynb).  \n",
    "\n",
    "<img src=\"pics/covid_compare.png\" width=\"70%\">"
   ]
  },
  {
   "cell_type": "code",
   "execution_count": 17,
   "metadata": {},
   "outputs": [
    {
     "data": {
      "application/vnd.jupyter.widget-view+json": {
       "model_id": "e1791a0b210c4f27b65c72327cd9d517",
       "version_major": 2,
       "version_minor": 0
      },
      "text/plain": [
       "VBox(children=(Line(status='deferring flush until render'), Text(value='deferring flush until render', descrip…"
      ]
     },
     "metadata": {},
     "output_type": "display_data"
    }
   ],
   "source": [
    "state = ['New York']\n",
    "start = '2020-06-01'\n",
    "state_data = get_daily_increase(data, state, start=start, end=None)\n",
    "input_dataset = [state_data[s] for s in state]\n",
    "ny_daily = time_series.time_series_Chart('line', state, 'cases', date_col = 'date', colors = ['red'], \n",
    "                           data_provide = True, title = 'Covid-19 Daily Increases in Cases - New York',\n",
    "                           input_dataset = input_dataset)\n",
    "ny_daily.debugging_display()"
   ]
  },
  {
   "cell_type": "markdown",
   "metadata": {},
   "source": [
    "Let's define a function called `higher_daily` to take the information of clicked object as input. The following function extracts date and increase values of New York of the clicked point, and returns a dictionary of dictionary with date as key and state dictionary as value."
   ]
  },
  {
   "cell_type": "code",
   "execution_count": 18,
   "metadata": {},
   "outputs": [],
   "source": [
    "result = {}\n",
    "\n",
    "def higher_daily(*arguments):\n",
    "    global result\n",
    "    day = arguments[0]['label']\n",
    "    increase_case = arguments[0]['dataValue']\n",
    "    result[day] = {}\n",
    "    for i in daily_data:\n",
    "        val = daily_data[i][daily_data[i].date==day].cases.values[0]\n",
    "        if val > increase_case:\n",
    "            result[day][i] = val\n",
    "    \n",
    "ny_daily.click_callback(higher_daily)"
   ]
  },
  {
   "cell_type": "code",
   "execution_count": 19,
   "metadata": {},
   "outputs": [
    {
     "data": {
      "text/plain": [
       "{}"
      ]
     },
     "execution_count": 19,
     "metadata": {},
     "output_type": "execute_result"
    }
   ],
   "source": [
    "result"
   ]
  },
  {
   "cell_type": "markdown",
   "metadata": {},
   "source": [
    "```\n",
    "{'2020-06-02': {'California': 2438.0, 'Texas': 1885.0, 'Illinois': 1578.0}}\n",
    "```\n",
    "\n",
    "Since the daily increases on June 2nd is highest, we can click on that point to see any other states having higher daily increases. On that day, California, Texas, and Illinois had higher daily increases."
   ]
  },
  {
   "cell_type": "markdown",
   "metadata": {},
   "source": [
    "## Cases by County —— New York City  \n",
    "\n",
    "We are also interested in specified counties at states, the following example explores into county-level analysis of cases. "
   ]
  },
  {
   "cell_type": "code",
   "execution_count": 20,
   "metadata": {},
   "outputs": [],
   "source": [
    "county_url = 'https://raw.githubusercontent.com/nytimes/covid-19-data/master/us-counties.csv'\n",
    "county_data = pd.read_csv(county_url)"
   ]
  },
  {
   "cell_type": "code",
   "execution_count": 21,
   "metadata": {},
   "outputs": [
    {
     "data": {
      "text/html": [
       "<div>\n",
       "<style scoped>\n",
       "    .dataframe tbody tr th:only-of-type {\n",
       "        vertical-align: middle;\n",
       "    }\n",
       "\n",
       "    .dataframe tbody tr th {\n",
       "        vertical-align: top;\n",
       "    }\n",
       "\n",
       "    .dataframe thead th {\n",
       "        text-align: right;\n",
       "    }\n",
       "</style>\n",
       "<table border=\"1\" class=\"dataframe\">\n",
       "  <thead>\n",
       "    <tr style=\"text-align: right;\">\n",
       "      <th></th>\n",
       "      <th>date</th>\n",
       "      <th>county</th>\n",
       "      <th>state</th>\n",
       "      <th>fips</th>\n",
       "      <th>cases</th>\n",
       "      <th>deaths</th>\n",
       "    </tr>\n",
       "  </thead>\n",
       "  <tbody>\n",
       "    <tr>\n",
       "      <td>0</td>\n",
       "      <td>2020-01-21</td>\n",
       "      <td>Snohomish</td>\n",
       "      <td>Washington</td>\n",
       "      <td>53061.0</td>\n",
       "      <td>1</td>\n",
       "      <td>0</td>\n",
       "    </tr>\n",
       "    <tr>\n",
       "      <td>1</td>\n",
       "      <td>2020-01-22</td>\n",
       "      <td>Snohomish</td>\n",
       "      <td>Washington</td>\n",
       "      <td>53061.0</td>\n",
       "      <td>1</td>\n",
       "      <td>0</td>\n",
       "    </tr>\n",
       "    <tr>\n",
       "      <td>2</td>\n",
       "      <td>2020-01-23</td>\n",
       "      <td>Snohomish</td>\n",
       "      <td>Washington</td>\n",
       "      <td>53061.0</td>\n",
       "      <td>1</td>\n",
       "      <td>0</td>\n",
       "    </tr>\n",
       "    <tr>\n",
       "      <td>3</td>\n",
       "      <td>2020-01-24</td>\n",
       "      <td>Cook</td>\n",
       "      <td>Illinois</td>\n",
       "      <td>17031.0</td>\n",
       "      <td>1</td>\n",
       "      <td>0</td>\n",
       "    </tr>\n",
       "    <tr>\n",
       "      <td>4</td>\n",
       "      <td>2020-01-24</td>\n",
       "      <td>Snohomish</td>\n",
       "      <td>Washington</td>\n",
       "      <td>53061.0</td>\n",
       "      <td>1</td>\n",
       "      <td>0</td>\n",
       "    </tr>\n",
       "  </tbody>\n",
       "</table>\n",
       "</div>"
      ],
      "text/plain": [
       "         date     county       state     fips  cases  deaths\n",
       "0  2020-01-21  Snohomish  Washington  53061.0      1       0\n",
       "1  2020-01-22  Snohomish  Washington  53061.0      1       0\n",
       "2  2020-01-23  Snohomish  Washington  53061.0      1       0\n",
       "3  2020-01-24       Cook    Illinois  17031.0      1       0\n",
       "4  2020-01-24  Snohomish  Washington  53061.0      1       0"
      ]
     },
     "execution_count": 21,
     "metadata": {},
     "output_type": "execute_result"
    }
   ],
   "source": [
    "county_data.head(5)"
   ]
  },
  {
   "cell_type": "code",
   "execution_count": 22,
   "metadata": {},
   "outputs": [],
   "source": [
    "def get_county_data(data, state, county_name=None, start=None, end=None):\n",
    "    \"\"\"\n",
    "    data: pd.DataFrame\n",
    "    state: a str of state or a list of states\n",
    "    \"\"\"\n",
    "    state_dict = get_state_data(data, state, start=start, end=start)\n",
    "    state_data = state_dict[state]\n",
    "    counties = state_data.reset_index(drop=True).groupby('county')\n",
    "    \n",
    "    county_dict = {}\n",
    "    if county_name is None:\n",
    "        county_name = list(set(county_data.query('state==\"%s\"' %state).county))\n",
    "    if isinstance(county_name, str):\n",
    "        county_name = [county_name]\n",
    "    for c in county_name:\n",
    "        idx = counties.groups[c]\n",
    "        county_dict[c] = state_data.iloc[idx].reset_index(drop=True)\n",
    "    return county_dict\n",
    "\n",
    "def get_multi_state_county(data, state, county_name, start=None, end=None):\n",
    "    '''\n",
    "    county: a nested dict; key: state; value: county or a list of county\n",
    "    '''\n",
    "    state_dict = get_state_data(data, state, start=start, end=start)\n",
    "    for s in county_name:\n",
    "        state_df = state_dict[s].reset_index(drop=True).groupby('county')\n",
    "        county_list = county_name[s]\n",
    "        county_dict = {}\n",
    "        if isinstance(county_list, str):\n",
    "            county_list = [county_list]\n",
    "        for c in county_list:\n",
    "            idx = state_df.groups[c]\n",
    "            county_dict[c] = state_df.iloc[idx].reset_index(drop=True)\n",
    "        state_dict[s] = county_dict\n",
    "    return state_dict\n",
    "\n",
    "def get_daily_county(data, state, county_name,start=None, end=None):\n",
    "    daily_county_df = {}\n",
    "    temp_data = get_county_data(data, state, county_name)     \n",
    "    for c in temp_data:\n",
    "        temp_county = temp_data[c].set_index('date')[['cases','deaths']].diff().reset_index().fillna(0)\n",
    "        if start is None:\n",
    "            start = temp_county.iloc[0].date\n",
    "        if end is None:\n",
    "            end = temp_county.iloc[-1].date\n",
    "        daily_county_df[c] = temp_county[(temp_county.date >= start) & (temp_county.date <= end)]\n",
    "    return daily_county_df"
   ]
  },
  {
   "cell_type": "code",
   "execution_count": 23,
   "metadata": {},
   "outputs": [
    {
     "data": {
      "application/vnd.jupyter.widget-view+json": {
       "model_id": "5af10f615f0241e5b135d2abc380a04e",
       "version_major": 2,
       "version_minor": 0
      },
      "text/plain": [
       "Bar(status='deferring flush until render')"
      ]
     },
     "metadata": {},
     "output_type": "display_data"
    }
   ],
   "source": [
    "state = 'New York'\n",
    "county_name = 'New York City'\n",
    "df = get_county_data(county_data, state, county_name)\n",
    "input_dataset = [df[county_name]]\n",
    "time_series.time_series_Chart('bar', county_name, 'cases', date_col = 'date', colors = ['red'], \n",
    "                               data_provide = True, title = 'Covid-19 Cases - New York City',\n",
    "                               input_dataset = input_dataset)"
   ]
  },
  {
   "cell_type": "code",
   "execution_count": 24,
   "metadata": {},
   "outputs": [
    {
     "data": {
      "application/vnd.jupyter.widget-view+json": {
       "model_id": "ab0df55e975347a3b8ab6207bab2c20e",
       "version_major": 2,
       "version_minor": 0
      },
      "text/plain": [
       "Line(status='deferring flush until render')"
      ]
     },
     "metadata": {},
     "output_type": "display_data"
    }
   ],
   "source": [
    "daily_df = get_daily_county(county_data, state, county_name)\n",
    "input_dataset = [daily_df[county_name]]\n",
    "time_series.time_series_Chart('line', county_name, 'cases', date_col = 'date', colors = ['red'], \n",
    "                           data_provide = True, title = 'Covid-19 Daily Increase in Cases - New York City',\n",
    "                           input_dataset = input_dataset)"
   ]
  },
  {
   "cell_type": "markdown",
   "metadata": {},
   "source": [
    "## Maps and Charts \n",
    "\n",
    "The following example combines the map outline and chart. The map outline can refer to https://github.com/AaronWatters/jp_doodle/blob/master/notebooks/State%20outlines.ipynb. The state area is clickable, after you click on the state, the dropdown list will have clicked state options."
   ]
  },
  {
   "cell_type": "code",
   "execution_count": 25,
   "metadata": {},
   "outputs": [],
   "source": [
    "xml_file = \"../data/states.xml\"\n",
    "import xml.etree.ElementTree as ET\n",
    "tree = ET.parse(xml_file)\n",
    "root = tree.getroot()\n",
    "name_to_boundary = {}\n",
    "allpoints = []\n",
    "for state in root:\n",
    "    name = state.attrib[\"name\"]\n",
    "    #print name\n",
    "    boundary = []\n",
    "    for point in state:\n",
    "        lat = float(point.attrib[\"lat\"])\n",
    "        lng = float(point.attrib[\"lng\"])\n",
    "        #pt = [lat, lng]\n",
    "        pt = [lng, lat]\n",
    "        boundary.append(pt)\n",
    "        allpoints.append(pt)\n",
    "    name_to_boundary[name] = boundary"
   ]
  },
  {
   "cell_type": "code",
   "execution_count": 26,
   "metadata": {},
   "outputs": [],
   "source": [
    "info_list = []\n",
    "state_selection = widgets.Dropdown(\n",
    "            options=['states'],\n",
    "            value='states',\n",
    "            description='States:',\n",
    "            disabled=False,\n",
    "        )\n",
    "chart_area = widgets.Box(children=[])\n",
    "def selection_callback(val):\n",
    "    s = val['new']\n",
    "    input_dataset = get_state_data(data, s)[s]\n",
    "    chart_widget = time_series.time_series_Chart('line', s, 'cases', date_col = 'date', \n",
    "                                   data_provide = True, title = 'Covid-19 Cases - %s' %s,\n",
    "                                   input_dataset = [input_dataset])\n",
    "    chart_area.children=[chart_widget]\n",
    "def get_name(info):\n",
    "    info_list.append(info)\n",
    "    chart_area = widgets.Box(children = [time_series.time_series_Chart('line', info, 'cases', date_col = 'date', \n",
    "                                   data_provide = True, title = 'Covid-19 Cases - %s' %info,\n",
    "                                   input_dataset = [get_state_data(data, info)[info]])])   \n",
    "    state_selection.options = list(set(info_list))\n",
    "    state_selection.value = info_list[-1]\n",
    "    \n",
    "state_selection.observe(selection_callback, names='value')"
   ]
  },
  {
   "cell_type": "code",
   "execution_count": 27,
   "metadata": {},
   "outputs": [
    {
     "data": {
      "application/vnd.jupyter.widget-view+json": {
       "model_id": "dc0c98039df14ee4a3db767775716cf5",
       "version_major": 2,
       "version_minor": 0
      },
      "text/plain": [
       "DualCanvasWidget(status='deferring flush until render')"
      ]
     },
     "metadata": {},
     "output_type": "display_data"
    },
    {
     "data": {
      "application/vnd.jupyter.widget-view+json": {
       "model_id": "2d3b4b3d868747e4b1481493945cdd17",
       "version_major": 2,
       "version_minor": 0
      },
      "text/plain": [
       "Dropdown(description='States:', options=('states',), value='states')"
      ]
     },
     "metadata": {},
     "output_type": "display_data"
    },
    {
     "data": {
      "application/vnd.jupyter.widget-view+json": {
       "model_id": "29f2f26d10aa49eca87683d46fdefaf3",
       "version_major": 2,
       "version_minor": 0
      },
      "text/plain": [
       "Box()"
      ]
     },
     "metadata": {},
     "output_type": "display_data"
    }
   ],
   "source": [
    "states = dual_canvas.DualCanvasWidget(width=520, height=320)\n",
    "states.check_jquery()\n",
    "\n",
    "states.text(text=\"Longitude\", y=-60, x=250, align=\"center\", font=\"bold 20px Arial\",)\n",
    "states.text(text=\"Latitude\", y=150, x=-50, align=\"center\", degrees=90, font=\"bold 20px Arial\",)\n",
    "minlng = min(x[0] for x in allpoints)\n",
    "maxlng = max(x[0] for x in allpoints)\n",
    "minlat = min(x[1] for x in allpoints)\n",
    "maxlat = max(x[1] for x in allpoints)\n",
    "\n",
    "\n",
    "# image underlay\n",
    "earth_image = 'pics/Earthmap1000x500.jpg'\n",
    "# local link does not work (as written) in Jupyter Lab\n",
    "earth_image = 'https://upload.wikimedia.org/wikipedia/commons/a/ac/Earthmap1000x500.jpg'\n",
    "def latitude_pixel(lat):\n",
    "    \"pixel from top edge = (90 - latitude) / 0,36\"\n",
    "    return (90.0 - lat) / 0.36\n",
    "def longitude_pixel(lng):\n",
    "    \"pixel from left hand side = (180 + longitude) / 0,36\"\n",
    "    return (180 + lng) / 0.36\n",
    "sx = longitude_pixel(minlng)\n",
    "sy = latitude_pixel(maxlat)\n",
    "sWidth = (maxlng - minlng) / 0.36\n",
    "sHeight = (maxlat - minlat) / 0.36\n",
    "\n",
    "\n",
    "states.name_image_url(\"earth\", earth_image)\n",
    "states.named_image(\"earth\", 0,0,500,300, degrees=0, \n",
    "                   sx=sx, sy=sy, sWidth=sWidth, sHeight=sHeight)\n",
    "\n",
    "# States polygons overlay.\n",
    "frame = states.frame_region(0,0,500,300,minlng, minlat, maxlng, maxlat)\n",
    "for name in name_to_boundary:\n",
    "    points = name_to_boundary[name]\n",
    "    # add semi-transparent filled polygon for state interior\n",
    "    frame.polygon(points=points, name=name, color=\"rgba(100,200,0,0.5)\")\n",
    "    # add unnamed state border\n",
    "    frame.polygon(points=points, color=\"#38f\", fill=False)\n",
    "\n",
    "# add reference axes\n",
    "frame.right_axis(\n",
    "    min_value= minlat,\n",
    "    max_value= maxlat,\n",
    "    max_tick_count= 6,\n",
    "    axis_origin= dict(x=maxlng+2, y=0),\n",
    "    tick_line_config= dict(color=\"#66f\"),\n",
    "    tick_text_config= dict(color=\"#875\"),\n",
    ")\n",
    "\n",
    "frame.bottom_axis(\n",
    "    min_value= minlng,\n",
    "    max_value= maxlng,\n",
    "    max_tick_count= 8,\n",
    "    axis_origin= dict(x=0, y= minlat-2),\n",
    "    tick_line_config= dict(color=\"#66f\"),\n",
    "    tick_text_config= dict(color=\"#875\", align=\"center\", valign=\"center\", degrees=0),\n",
    "    add_end_points= True,\n",
    ")\n",
    "\n",
    "#print minlng, minlat, maxlng, maxlat\n",
    "states.fit()\n",
    "\n",
    "# Use javascript to add mouse over event handling and a pop-up dialog.\n",
    "\n",
    "states.js_init(\"\"\"\n",
    "\n",
    "// Text info area and JQueryUI dialog\n",
    "var info = $(\"<div>info here</div>\").appendTo(element);\n",
    "var dialog = $(\"<div>dialog text</div>\").appendTo(element);\n",
    "dialog.dialog();\n",
    "\n",
    "// https://stackoverflow.com/questions/17358622/dialog-box-hide-and-show-jquery\n",
    "dialog.dialog(\"open\");\n",
    "// Using dialog.parent().hide() and *.show() avoids scrolling anomalies.\n",
    "dialog.parent().hide();\n",
    "\n",
    "var last_name = null\n",
    "var mouse_move = function(event) {\n",
    "    var name = event.canvas_name;\n",
    "    var pos = { my: \"left+10 top+10\", at: \"left bottom\", of: event }\n",
    "    dialog.dialog(\"option\", \"position\", pos);\n",
    "    if ((last_name) && ((last_name!=name) || event.type==\"mouseout\")) {\n",
    "        // obscure the interior)\n",
    "        element.change(last_name, {color: \"rgba(100,200,0,0.5)\"})\n",
    "        last_name = null;\n",
    "        dialog.parent().hide();\n",
    "    }\n",
    "    if (name) {\n",
    "        // make the interior transparent\n",
    "        element.change(name, {color: \"rgba(0,0,0,0)\"})\n",
    "        last_name = name;\n",
    "        dialog.html(\"<div>\"+name+\"</div>\");\n",
    "        dialog.parent().show();\n",
    "    }\n",
    "    info.html(\"<div>name=\"+name+\"; last_name=\"+last_name+\"</div>\");\n",
    "}\n",
    "\n",
    "var mouse_click = function(event) {\n",
    "    var name = event.canvas_name;\n",
    "    if (name) {\n",
    "        //click_state.push(name);\n",
    "        get_name(name);\n",
    "    }\n",
    "}\n",
    "element.on_canvas_event(\"mousemove\", mouse_move);\n",
    "element.on_canvas_event(\"click\", mouse_click);\n",
    "\"\"\", get_name=get_name)\n",
    "\n",
    "display(states, state_selection, chart_area)"
   ]
  }
 ],
 "metadata": {
  "kernelspec": {
   "display_name": "Python 3",
   "language": "python",
   "name": "python3"
  },
  "language_info": {
   "codemirror_mode": {
    "name": "ipython",
    "version": 3
   },
   "file_extension": ".py",
   "mimetype": "text/x-python",
   "name": "python",
   "nbconvert_exporter": "python",
   "pygments_lexer": "ipython3",
   "version": "3.7.0"
  }
 },
 "nbformat": 4,
 "nbformat_minor": 4
}
