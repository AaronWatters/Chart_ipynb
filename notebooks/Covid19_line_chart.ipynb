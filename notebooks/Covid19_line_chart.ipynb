{
 "cells": [
  {
   "cell_type": "markdown",
   "metadata": {},
   "source": [
    "# Covid-19 examples\n",
    "\n",
    "The data is provided by NYTimes which can be found here: https://github.com/nytimes/covid-19-data.  \n",
    "The data file used here is state-based US data."
   ]
  },
  {
   "cell_type": "code",
   "execution_count": 1,
   "metadata": {},
   "outputs": [],
   "source": [
    "from chart_ipynb.chart_framework import ChartSuperClass\n",
    "from chart_ipynb import utils, line, time_series, bar\n",
    "import numpy as np\n",
    "import pandas as pd"
   ]
  },
  {
   "cell_type": "code",
   "execution_count": 2,
   "metadata": {},
   "outputs": [],
   "source": [
    "path = '../data/us-states.csv'\n",
    "data = pd.read_csv(path)"
   ]
  },
  {
   "cell_type": "code",
   "execution_count": null,
   "metadata": {},
   "outputs": [],
   "source": [
    "data.head()"
   ]
  },
  {
   "cell_type": "code",
   "execution_count": 3,
   "metadata": {},
   "outputs": [],
   "source": [
    "def get_state_data(data, state, start=None, end=None):\n",
    "    \"\"\"\n",
    "    data: pd.DataFrame\n",
    "    state: a str of state or a list of states\n",
    "    \"\"\"\n",
    "    if start is None:\n",
    "        start = data.iloc[0].date\n",
    "    if end is None:\n",
    "        end = data.iloc[-1].date\n",
    "    data = data[(data.date >= start) & (data.date <= end)]\n",
    "    states = data.reset_index().groupby('state')\n",
    "    if isinstance(state, str):\n",
    "        state = [state]\n",
    "    state_data = dict()\n",
    "    for s in state:\n",
    "        idx = states.groups[s]\n",
    "        state_data[s] = data.iloc[idx].reset_index()\n",
    "    return state_data"
   ]
  },
  {
   "cell_type": "code",
   "execution_count": 4,
   "metadata": {},
   "outputs": [],
   "source": [
    "state = ['New York', 'New Jersey']\n",
    "start = '2020-03-01'\n",
    "state_data = get_state_data(data, state, start = start)\n",
    "input_dataset = [state_data[s] for s in state]"
   ]
  },
  {
   "cell_type": "code",
   "execution_count": null,
   "metadata": {},
   "outputs": [],
   "source": [
    "time_series.time_series_Chart('line', state, 'cases', date_col = 'date', colors = ['red', 'blue'], \n",
    "                           data_provide = True, \n",
    "                           input_dataset = input_dataset,\n",
    "                           multi_axis = True)"
   ]
  },
  {
   "cell_type": "markdown",
   "metadata": {},
   "source": [
    "## Bar chart"
   ]
  },
  {
   "cell_type": "code",
   "execution_count": 6,
   "metadata": {},
   "outputs": [
    {
     "data": {
      "application/vnd.jupyter.widget-view+json": {
       "model_id": "742cfeac2d3a40eabba8ff1becc8f9e1",
       "version_major": 2,
       "version_minor": 0
      },
      "text/plain": [
       "Bar(status='deferring flush until render')"
      ]
     },
     "metadata": {},
     "output_type": "display_data"
    }
   ],
   "source": [
    "time_series.time_series_Chart('bar', state, 'cases', date_col = 'date', colors = ['red', 'blue'], \n",
    "                           data_provide = True, \n",
    "                           input_dataset = input_dataset,\n",
    "                           multi_axis = True)"
   ]
  },
  {
   "cell_type": "code",
   "execution_count": 7,
   "metadata": {},
   "outputs": [
    {
     "data": {
      "application/vnd.jupyter.widget-view+json": {
       "model_id": "c7a58881a33542b193b706a065c78d4b",
       "version_major": 2,
       "version_minor": 0
      },
      "text/plain": [
       "Bar(status='deferring flush until render')"
      ]
     },
     "metadata": {},
     "output_type": "display_data"
    }
   ],
   "source": [
    "time_series.time_series_Chart('bar', state, 'cases', date_col = 'date', colors = ['red', 'blue'], \n",
    "                           data_provide = True, \n",
    "                           input_dataset = input_dataset)"
   ]
  },
  {
   "cell_type": "code",
   "execution_count": 5,
   "metadata": {},
   "outputs": [
    {
     "data": {
      "application/vnd.jupyter.widget-view+json": {
       "model_id": "3a02cdc5295a4996a5e6db82224a9434",
       "version_major": 2,
       "version_minor": 0
      },
      "text/plain": [
       "VBox(children=(Bar(status='deferring flush until render'), Text(value='deferring flush until render', descript…"
      ]
     },
     "metadata": {},
     "output_type": "display_data"
    }
   ],
   "source": [
    "time_series.time_series_Chart('bar', state, 'cases', date_col = 'date', colors = ['red', 'blue'], \n",
    "                               data_provide = True, \n",
    "                               input_dataset = input_dataset, \n",
    "                               stacked = True)\n"
   ]
  }
 ],
 "metadata": {
  "kernelspec": {
   "display_name": "Python 3",
   "language": "python",
   "name": "python3"
  },
  "language_info": {
   "codemirror_mode": {
    "name": "ipython",
    "version": 3
   },
   "file_extension": ".py",
   "mimetype": "text/x-python",
   "name": "python",
   "nbconvert_exporter": "python",
   "pygments_lexer": "ipython3",
   "version": "3.7.0"
  }
 },
 "nbformat": 4,
 "nbformat_minor": 4
}
