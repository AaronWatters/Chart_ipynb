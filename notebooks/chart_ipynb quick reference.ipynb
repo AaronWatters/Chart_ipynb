{
 "cells": [
  {
   "cell_type": "markdown",
   "metadata": {},
   "source": [
    "# `chart_ipynb` quick reference\n",
    "\n",
    "`chart_ipynb` is designed to present data on Jupyter interface more easily. It works as [`chart.js`](https://www.chartjs.org/samples/latest/) which is a JavaScript module but can be achieved nicely for Python user on Jupyter interface.\n",
    "\n",
    "There are several chart options, not as many as in `chart.js`, however, more charts will be available gradually. \n",
    "\n",
    "- line chart  \n",
    "- bar chart  \n",
    "- scatter chart  \n",
    "- doughnut chart  \n",
    "- pie chart   \n",
    "- radar chart  \n",
    "- polar area chart  \n",
    "- more is coming...\n",
    "\n",
    "<br>\n",
    "\n",
    "## Import `chart_ipynb`\n",
    "\n",
    "`chart_ipynb` provides multi classes. `line`, `bar`, `radar`, and `polarArea` are for each type of charts, `utils` contains several helper functions for property customization, and `time_series` provides a more convenient method to visual time-series data."
   ]
  },
  {
   "cell_type": "code",
   "execution_count": 1,
   "metadata": {},
   "outputs": [],
   "source": [
    "from chart_ipynb import utils, time_series, line, bar, scatter, doughnut \n",
    "from chart_ipynb import pie, radar, polarArea, bubble\n",
    "import random"
   ]
  },
  {
   "cell_type": "markdown",
   "metadata": {},
   "source": [
    "## Line Chart  \n",
    "\n",
    "Line chart is one of the fundamental charts for data visualization. It is useful for showing the information between categorical data and numeric data. In `chart_ipynb`, we can customize the options for line type, potins, and other property. For the following example, default option will be used.    "
   ]
  },
  {
   "cell_type": "markdown",
   "metadata": {},
   "source": [
    "- `add_dataset` function accepts a list of data as input data.  \n",
    "  ```\n",
    "    add_dataset(data_x, data_y, dataset_name, color = None, \n",
    "                 backgroundColor = None, borderColor = None, \n",
    "                 fill = False,\n",
    "                 **other_arguments,)\n",
    "  ```\n",
    "  - `data_x`:  the label which is x axis for the data; categorical data   \n",
    "  - `data_y`:  numeric data, y axis  \n",
    "  - `dataset_name`:  the name of the dataset for legend  \n",
    "  - `color`:  random color will be generated if the value is None.\n",
    " \n",
    " \n",
    "- `setup()` is to initialize the chart setting by fitting data and options to configuration of the chart.\n",
    "    ```\n",
    "    setup(width=800, **other_arguments)\n",
    "    ```\n",
    "  - `width`: default is 800\n",
    "  \n",
    "Three datasets have been created randomly below. If you only want to see one or two of three datasets, you can click the legend retangle of the dataset you want to remove to hide the data.   \n",
    "\n",
    "The js example can refer to https://www.chartjs.org/samples/latest/charts/line/basic.html"
   ]
  },
  {
   "cell_type": "code",
   "execution_count": 5,
   "metadata": {},
   "outputs": [
    {
     "data": {
      "application/vnd.jupyter.widget-view+json": {
       "model_id": "b82fcc6f72b8479cb4149a65161989f1",
       "version_major": 2,
       "version_minor": 0
      },
      "text/plain": [
       "Line(status='deferring flush until render')"
      ]
     },
     "metadata": {},
     "output_type": "display_data"
    }
   ],
   "source": [
    "labels = [['Eating', 'Dinner'], ['Drinking', 'Water'], \n",
    "          'Sleeping', ['Designing', 'Graphics'], \n",
    "          'Coding', 'Cycling', 'Running']\n",
    "line_chart = line.Line()\n",
    "for i in range(3):\n",
    "    data = [round(random.random() * 100) for i in range(len(labels))]\n",
    "    line_chart.add_dataset(labels, data, 'dataset'+str(i+1))\n",
    "line_chart.setup()\n",
    "line_chart"
   ]
  },
  {
   "cell_type": "markdown",
   "metadata": {},
   "source": [
    "### Line Chart - Multi Axis  \n",
    "\n",
    "The default options in line chart do not consider multi axis option, therefore, creating multi-axis line chart requires some customized options.   \n",
    "Multi-aixs line chart only requires two datasets.   \n",
    "`time_series.py` in `chart_ipynb` provides default options for multi-axis setting by setting `multi_axis=True`.    \n",
    "```\n",
    "ts_default_option(xAxes = None, yAxes = None, \n",
    "                       xAxes_name = None, yAxes_name = None,\n",
    "                       multi_axis = False, multi_axis_name = None,\n",
    "                       stacked = False, title = None)\n",
    "```\n",
    "To show how multi-axis works more clearly, the following codes specify some basic properties required by the multi-aixs chart.    \n",
    "\n",
    "`type='linear'` and `id = 'xxx'` are required for y axes, when you add dataset, you also need to emphasize the y axis id by setting `yAxisID = 'xxx'` for corresponding dataset.   \n",
    "\n",
    "The js example can refer to https://www.chartjs.org/samples/latest/charts/line/multi-axis.html"
   ]
  },
  {
   "cell_type": "code",
   "execution_count": 6,
   "metadata": {},
   "outputs": [],
   "source": [
    "x_axes = utils.axes(\n",
    "                display=True,\n",
    "                scaleLabel = dict(display = True, labelString = 'Activity'),\n",
    "                ticks = dict(\n",
    "                    major = {\n",
    "                            'enabled': True,\n",
    "                            'fontStyle': 'bold'\n",
    "                            },\n",
    "                    source = 'data'\n",
    "                ))\n",
    "y_axes = [utils.axes(\n",
    "                    display = True,\n",
    "                    scaleLabel = {\n",
    "                        'display': True,\n",
    "                        'labelString': 'dataset1'\n",
    "                        },\n",
    "                    type = 'linear',\n",
    "                    position = 'left',\n",
    "                    id = 'y-axis-1',\n",
    "                    gridLines = {\n",
    "                        'drawBorder': False\n",
    "                    }\n",
    "                ), utils.axes(\n",
    "                    display = True,\n",
    "                    scaleLabel = {\n",
    "                        'display': True,\n",
    "                        'labelString': 'dataset2'\n",
    "                        },\n",
    "                    type = 'linear',\n",
    "                    position = 'right',\n",
    "                    id = 'y-axis-2',\n",
    "                    gridLines = {\n",
    "                        'drawBorder': False,\n",
    "                        'drawOnChartArea': False\n",
    "                    }\n",
    "                )]\n",
    "options = utils.options(\n",
    "                        responsive=True,\n",
    "                        title=dict(display=True, text='Line Chart - Multi Axis'),\n",
    "                        animation = dict(duration=0),\n",
    "                        scales = { 'xAxes': x_axes, 'yAxes': y_axes}\n",
    "                )\n",
    "labels = [['Eating', 'Dinner'], ['Drinking', 'Water'], \n",
    "          'Sleeping', ['Designing', 'Graphics'], \n",
    "          'Coding', 'Cycling', 'Running']"
   ]
  },
  {
   "cell_type": "code",
   "execution_count": 8,
   "metadata": {},
   "outputs": [
    {
     "data": {
      "application/vnd.jupyter.widget-view+json": {
       "model_id": "49fdef3d017c4a198e3a33a256971030",
       "version_major": 2,
       "version_minor": 0
      },
      "text/plain": [
       "Line(status='deferring flush until render')"
      ]
     },
     "metadata": {},
     "output_type": "display_data"
    }
   ],
   "source": [
    "line_multi = line.Line(options = options)\n",
    "for i in range(2):\n",
    "    data = [round(random.random() * 100) for i in range(len(labels))]\n",
    "    line_multi.add_dataset(labels, data, 'dataset'+str(i+1),\n",
    "                        yAxisID = 'y-axis-'+str(i+1))\n",
    "line_multi.setup()\n",
    "line_multi"
   ]
  },
  {
   "cell_type": "markdown",
   "metadata": {},
   "source": [
    "## Bar Chart   \n",
    "\n",
    "Bar chart works similarly as line chart in `chart_ipynb`.  \n",
    "The js example can refer to https://www.chartjs.org/samples/latest/charts/bar/vertical.html"
   ]
  },
  {
   "cell_type": "code",
   "execution_count": 9,
   "metadata": {},
   "outputs": [
    {
     "data": {
      "application/vnd.jupyter.widget-view+json": {
       "model_id": "9585a79fca7743ea9b6e07e158abdfd1",
       "version_major": 2,
       "version_minor": 0
      },
      "text/plain": [
       "Bar(status='deferring flush until render')"
      ]
     },
     "metadata": {},
     "output_type": "display_data"
    }
   ],
   "source": [
    "labels = [['Eating', 'Dinner'], ['Drinking', 'Water'], \n",
    "          'Sleeping', ['Designing', 'Graphics'], \n",
    "          'Coding', 'Cycling', 'Running']\n",
    "bar_chart = bar.Bar()\n",
    "for i in range(3):\n",
    "    data = [round(random.random() * 100) for i in range(len(labels))]\n",
    "    bar_chart.add_dataset(labels, data, 'dataset'+str(i+1))\n",
    "bar_chart.setup()\n",
    "bar_chart"
   ]
  },
  {
   "cell_type": "markdown",
   "metadata": {},
   "source": [
    "### Bar Chart - Stacked  \n",
    "\n",
    "Bar chart also provides `stacked` option when initializing by setting `stacked = True`.  \n",
    "\n",
    "The js example can refer to https://www.chartjs.org/samples/latest/charts/bar/stacked.html"
   ]
  },
  {
   "cell_type": "code",
   "execution_count": 10,
   "metadata": {},
   "outputs": [
    {
     "data": {
      "application/vnd.jupyter.widget-view+json": {
       "model_id": "9ae0a0f7032e42c69ea62303fadcc7a5",
       "version_major": 2,
       "version_minor": 0
      },
      "text/plain": [
       "Bar(status='deferring flush until render')"
      ]
     },
     "metadata": {},
     "output_type": "display_data"
    }
   ],
   "source": [
    "labels = [['Eating', 'Dinner'], ['Drinking', 'Water'], \n",
    "          'Sleeping', ['Designing', 'Graphics'], \n",
    "          'Coding', 'Cycling', 'Running']\n",
    "bar_stacked = bar.Bar(stacked=True, title = 'Bar Chart - Stacked')\n",
    "for i in range(3):\n",
    "    data = [round(random.random() * 100) for i in range(len(labels))]\n",
    "    bar_stacked.add_dataset(labels, data, 'dataset'+str(i+1))\n",
    "bar_stacked.setup()\n",
    "bar_stacked"
   ]
  },
  {
   "cell_type": "markdown",
   "metadata": {},
   "source": [
    "## Scatter Chart  \n",
    "\n",
    "The axes of scatter charts are numeric, so there is no argument called labels in the `add` and `add_dataset` function. The input data should be indicated `x` and `y` axis in a list of dictionary structure.  \n",
    "Also, if you want to modify the radius of points, you can update the options dictionary by `scatter_chart.options.update({'elements':{'point':{'radius':5}}})` as below example.  \n",
    "\n",
    "The js example can refer to https://www.chartjs.org/samples/latest/charts/scatter/basic.html"
   ]
  },
  {
   "cell_type": "code",
   "execution_count": 19,
   "metadata": {},
   "outputs": [
    {
     "data": {
      "application/vnd.jupyter.widget-view+json": {
       "model_id": "f69a20969edc4a8494bd3812aa16a588",
       "version_major": 2,
       "version_minor": 0
      },
      "text/plain": [
       "Scatter(status='deferring flush until render')"
      ]
     },
     "metadata": {},
     "output_type": "display_data"
    }
   ],
   "source": [
    "scatter_chart = scatter.Scatter()\n",
    "colors = ['red', 'blue']\n",
    "for i in range(2):\n",
    "    data = []\n",
    "    for j in range(6):\n",
    "        x = round(random.random() * 100)\n",
    "        y = round(random.random() * 100)\n",
    "        data.append({'x': x,'y': y})\n",
    "    scatter_chart.add_dataset(data, 'dataset'+str(i+1), color = utils.color_rgb(colors[i]))\n",
    "scatter_chart.options.update({'elements':{'point':{'radius':5}}})\n",
    "scatter_chart.setup()\n",
    "scatter_chart"
   ]
  },
  {
   "cell_type": "markdown",
   "metadata": {},
   "source": [
    "## Doughnut Chart\n",
    "\n",
    "Doughnut chart is not suitable for multi datasets. It indicates the proportion of a single data among all data addded.  \n",
    "\n",
    "You can either add a single data at a time or a whole dataset.   \n",
    "- `add` function is used to add a single data  \n",
    "    ```\n",
    "    add(label, datum, color)\n",
    "    ```\n",
    "    - label: the name of the dataset  \n",
    "    - datum: a number (single data)  \n",
    "    - color: the color for the area of a single data  \n",
    "- `get_ready_data` function can be used when you want more properties added to the dataset   \n",
    "    ```\n",
    "    get_ready_data(label, backgroundColor=None, borderColor=None, fill = False, **other_arguments)\n",
    "    ```  \n",
    "    \n",
    "The js example can refer to https://www.chartjs.org/samples/latest/charts/doughnut.html"
   ]
  },
  {
   "cell_type": "code",
   "execution_count": 20,
   "metadata": {},
   "outputs": [
    {
     "data": {
      "application/vnd.jupyter.widget-view+json": {
       "model_id": "8409d2609d76463696c65708600a5c93",
       "version_major": 2,
       "version_minor": 0
      },
      "text/plain": [
       "Doughnut(status='deferring flush until render')"
      ]
     },
     "metadata": {},
     "output_type": "display_data"
    }
   ],
   "source": [
    "doughnut_chart = doughnut.Doughnut()\n",
    "doughnut_chart.set_title(\"Chocolate Frosted\")\n",
    "doughnut_chart.add(\"Big\", 10, \"brown\")\n",
    "doughnut_chart.add(\"Medium\", 7, \"pink\")\n",
    "doughnut_chart.add(\"Small\", 3, \"purple\")\n",
    "doughnut_chart.setup()\n",
    "doughnut_chart"
   ]
  },
  {
   "cell_type": "markdown",
   "metadata": {},
   "source": [
    "## Pie Chart\n",
    "\n",
    "Pie chart can accept both single dataset and multi datasets.  \n",
    "\n",
    "The js example can refer to https://www.chartjs.org/samples/latest/charts/pie.html"
   ]
  },
  {
   "cell_type": "markdown",
   "metadata": {},
   "source": [
    "### Single dataset"
   ]
  },
  {
   "cell_type": "code",
   "execution_count": 40,
   "metadata": {},
   "outputs": [
    {
     "data": {
      "application/vnd.jupyter.widget-view+json": {
       "model_id": "17172cee3cbf4faea6e9005a209ce03a",
       "version_major": 2,
       "version_minor": 0
      },
      "text/plain": [
       "Pie(status='deferring flush until render')"
      ]
     },
     "metadata": {},
     "output_type": "display_data"
    }
   ],
   "source": [
    "pie_chart = pie.Pie()\n",
    "labels = [['Eating', 'Dinner'], ['Drinking', 'Water'], \n",
    "          'Sleeping', ['Designing', 'Graphics'], \n",
    "          'Coding', 'Cycling', 'Running']\n",
    "colors = ['red', 'blue', 'green', 'cyan', 'pink', 'violet', 'purple']\n",
    "data = [round(random.random() * 100) for i in range(len(labels))]\n",
    "pie_chart.add_dataset(labels, data, 'dataset',\n",
    "                            backgroundColor = [utils.color_rgb(i,0.1) for i in colors],\n",
    "                            borderColor = [utils.color_rgb(i) for i in colors])\n",
    "pie_chart.set_title('Pie Chart - single dataset')\n",
    "pie_chart.setup()\n",
    "pie_chart"
   ]
  },
  {
   "cell_type": "markdown",
   "metadata": {},
   "source": [
    "### Multi datasets"
   ]
  },
  {
   "cell_type": "code",
   "execution_count": 47,
   "metadata": {},
   "outputs": [
    {
     "data": {
      "application/vnd.jupyter.widget-view+json": {
       "model_id": "c5e3bd03979440b99878161432563e18",
       "version_major": 2,
       "version_minor": 0
      },
      "text/plain": [
       "Pie(status='deferring flush until render')"
      ]
     },
     "metadata": {},
     "output_type": "display_data"
    }
   ],
   "source": [
    "pie_chart = pie.Pie()\n",
    "labels = [['Eating', 'Dinner'], ['Drinking', 'Water'], \n",
    "          'Sleeping', ['Designing', 'Graphics'], \n",
    "          'Coding', 'Cycling', 'Running']\n",
    "colors = ['red', 'blue', 'green', 'cyan', 'pink', 'violet', 'purple']\n",
    "for k in range(3):\n",
    "    data = [round(random.random() * 100) for i in range(len(labels))]\n",
    "    pie_chart.add_dataset(labels, data, 'dataset'+str(k+1),\n",
    "                                backgroundColor = [utils.color_rgb(i,0.5) for i in colors],\n",
    "                                borderColor = 'white')\n",
    "pie_chart.set_title('Pie Chart - three datasets')\n",
    "pie_chart.setup()\n",
    "pie_chart"
   ]
  },
  {
   "cell_type": "markdown",
   "metadata": {},
   "source": [
    "### Toggle Doughnut View  \n",
    "\n",
    "`cutoutPercentage = value` in the options can be used to toggle doughnut view of pie chart. The value is to control the percentage of cutout from the center of pie. The following example set cutoutPercentage to 30.\n",
    "\n",
    "The js example can refer to https://www.chartjs.org/samples/latest/scriptable/pie.html"
   ]
  },
  {
   "cell_type": "code",
   "execution_count": 45,
   "metadata": {},
   "outputs": [
    {
     "data": {
      "application/vnd.jupyter.widget-view+json": {
       "model_id": "5b439074c770471da45656d8fe58dbdd",
       "version_major": 2,
       "version_minor": 0
      },
      "text/plain": [
       "Pie(status='deferring flush until render')"
      ]
     },
     "metadata": {},
     "output_type": "display_data"
    }
   ],
   "source": [
    "pie_chart = pie.Pie()\n",
    "labels = [ 'Coding', 'Cycling', 'Running']\n",
    "colors = ['blue', 'green','violet']\n",
    "data = [30, 15, 20]\n",
    "pie_chart.add_dataset(labels, data, 'dataset',\n",
    "                            backgroundColor = [utils.color_rgb(i,0.1) for i in colors],\n",
    "                            borderColor = [utils.color_rgb(i) for i in colors])\n",
    "pie_chart.set_title('Pie Chart - doughnut view')\n",
    "pie_chart.options['cutoutPercentage'] = 30\n",
    "pie_chart.setup()\n",
    "pie_chart"
   ]
  },
  {
   "cell_type": "markdown",
   "metadata": {},
   "source": [
    "## Radar Chart   \n",
    "\n",
    "Radar chart works similarly as line chart and bar chart. If you want to fill the background color, you need to set `fill` option to be true.   \n",
    "\n",
    "The js example can refer to https://www.chartjs.org/samples/latest/charts/radar.html"
   ]
  },
  {
   "cell_type": "code",
   "execution_count": 5,
   "metadata": {},
   "outputs": [
    {
     "data": {
      "application/vnd.jupyter.widget-view+json": {
       "model_id": "7ffbf812f7e441f8b395fc0d7a01aa81",
       "version_major": 2,
       "version_minor": 0
      },
      "text/plain": [
       "Radar(status='deferring flush until render')"
      ]
     },
     "metadata": {},
     "output_type": "display_data"
    }
   ],
   "source": [
    "radar_chart = radar.Radar()\n",
    "labels = [['Eating', 'Dinner'], ['Drinking', 'Water'], \n",
    "          'Sleeping', ['Designing', 'Graphics'], \n",
    "          'Coding', 'Cycling', 'Running']\n",
    "colors = ['red', 'blue', 'green']\n",
    "for i in range(3):\n",
    "    data = [round(random.random() * 100) for i in range(len(labels))]\n",
    "    radar_chart.add_dataset(labels, data, 'dataset'+str(i+1),\n",
    "                            backgroundColor = utils.color_rgb(colors[i],0.1),\n",
    "                            borderColor = utils.color_rgb(colors[i]),\n",
    "                            pointBackgroundColor = utils.color_rgb(colors[i]),\n",
    "                            fill=True)\n",
    "radar_chart.setup()\n",
    "radar_chart"
   ]
  },
  {
   "cell_type": "markdown",
   "metadata": {},
   "source": [
    "## Polar Area Chart  \n",
    "\n",
    "Polar area chart is not suitable for multi datasets. You can either add a single data at a time or a whole dataset.   \n",
    "- `add` function is used to add a single data  \n",
    "    ```\n",
    "    add(label, datum, color)\n",
    "    ```\n",
    "    - label: the name of the dataset  \n",
    "    - datum: a number (single data)  \n",
    "    - color: the color for the area of a single data  \n",
    "- `get_ready_data` function can be used when you want more properties added to the dataset   \n",
    "    ```\n",
    "    get_ready_data(label, backgroundColor=None, borderColor=None, fill = False, **other_arguments)\n",
    "    ```\n",
    "    \n",
    "The js example can refer to https://www.chartjs.org/samples/latest/charts/polar-area.html"
   ]
  },
  {
   "cell_type": "code",
   "execution_count": 3,
   "metadata": {},
   "outputs": [
    {
     "data": {
      "application/vnd.jupyter.widget-view+json": {
       "model_id": "4d51f470e6cd4e56aec27bfe5c12f129",
       "version_major": 2,
       "version_minor": 0
      },
      "text/plain": [
       "PolarArea(status='deferring flush until render')"
      ]
     },
     "metadata": {},
     "output_type": "display_data"
    }
   ],
   "source": [
    "polarArea_chart = polarArea.PolarArea()\n",
    "label_polar = ['Coding', 'Cycling', 'Running']\n",
    "colors = ['red', 'green', 'blue']\n",
    "for i in range(3):\n",
    "    polarArea_chart.add(label = label_polar[i], \n",
    "                        datum = round(random.random() * 100), \n",
    "                        color = utils.color_rgb(colors[i],0.5))\n",
    "polarArea_chart.get_ready_data('activity')\n",
    "polarArea_chart.setup()\n",
    "polarArea_chart"
   ]
  },
  {
   "cell_type": "markdown",
   "metadata": {},
   "source": [
    "## Bubble Chart  \n",
    "\n",
    "Bubble chart and scatter chart are very similar. There are several more properties we can define for bubble chart, such as `hoverBackgroundColor`, `hoverBorderColor`, and `hoverBorderWidth`. You can also customize raidus of potins based on values.  \n",
    "\n",
    "The js example can refer to https://www.chartjs.org/samples/latest/scriptable/bubble.html"
   ]
  },
  {
   "cell_type": "code",
   "execution_count": 35,
   "metadata": {},
   "outputs": [],
   "source": [
    "import numpy as np\n",
    "\n",
    "n = 16\n",
    "min_val = 0\n",
    "max_val = 150\n",
    "import numpy as np"
   ]
  },
  {
   "cell_type": "code",
   "execution_count": 47,
   "metadata": {},
   "outputs": [
    {
     "data": {
      "application/vnd.jupyter.widget-view+json": {
       "model_id": "de55fb2608c848109c353261c402e09a",
       "version_major": 2,
       "version_minor": 0
      },
      "text/plain": [
       "Bubble(status='deferring flush until render')"
      ]
     },
     "metadata": {},
     "output_type": "display_data"
    }
   ],
   "source": [
    "bubble_chart = bubble.Bubble()\n",
    "colors = ['red', 'blue']\n",
    "for i in range(2):\n",
    "    data = []\n",
    "    borderWidth = []\n",
    "    hoverBorderWidth = []\n",
    "    radius = []\n",
    "    for j in range(n):\n",
    "        x = round(min_val + np.random.random()*max_val,2)\n",
    "        y = round(min_val + np.random.random()*max_val,2)\n",
    "        v = np.random.random()*1000\n",
    "        data.append({'x': x,'y': y})\n",
    "        borderWidth.append(abs(v) / 1000)\n",
    "        hoverBorderWidth.append(round(8*v / 1000))\n",
    "        radius.append(abs(10 + 10 * x / (max_val-min_val)))\n",
    "    bubble_chart.add_dataset(data, 'dataset'+str(i+1), \n",
    "                              backgroundColor = utils.color_rgb(colors[i], 0.5),\n",
    "                              borderColor = utils.color_rgb(colors[i]),\n",
    "                              borderWidth = borderWidth,\n",
    "                              hoverBackgroundColor = 'transparent',\n",
    "                              hoverBorderColor = utils.color_rgb(colors[i]),\n",
    "                              hoverBorderWidth = hoverBorderWidth,\n",
    "                              radius = radius\n",
    "                             )\n",
    "bubble_chart.setup()\n",
    "bubble_chart"
   ]
  },
  {
   "cell_type": "code",
   "execution_count": null,
   "metadata": {},
   "outputs": [],
   "source": []
  }
 ],
 "metadata": {
  "kernelspec": {
   "display_name": "Python 3",
   "language": "python",
   "name": "python3"
  },
  "language_info": {
   "codemirror_mode": {
    "name": "ipython",
    "version": 3
   },
   "file_extension": ".py",
   "mimetype": "text/x-python",
   "name": "python",
   "nbconvert_exporter": "python",
   "pygments_lexer": "ipython3",
   "version": "3.7.0"
  }
 },
 "nbformat": 4,
 "nbformat_minor": 4
}
