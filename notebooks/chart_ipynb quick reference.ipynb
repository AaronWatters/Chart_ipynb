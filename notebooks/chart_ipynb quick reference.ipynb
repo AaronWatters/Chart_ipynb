{
 "cells": [
  {
   "cell_type": "markdown",
   "metadata": {},
   "source": [
    "# `chart_ipynb` quick reference\n",
    "\n",
    "`chart_ipynb` is designed to present data on Jupyter interface more easily. It works as `chart.js` which is a JavaScript module but can be achieved nicely for Python user on Jupyter interface.\n",
    "\n",
    "There are several chart options, not as many as in `chart.js`, however, more charts will be available gradually. \n",
    "\n",
    "- line chart  \n",
    "- bar chart  \n",
    "- scatter chart  \n",
    "- doughnut chart  \n",
    "- pie chart   \n",
    "- radar chart  \n",
    "- polar area chart  \n",
    "- more is coming\n",
    "\n",
    "<br>\n",
    "\n",
    "## Import `chart_ipynb`\n",
    "\n"
   ]
  },
  {
   "cell_type": "code",
   "execution_count": 1,
   "metadata": {},
   "outputs": [],
   "source": [
    "from chart_ipynb import utils, line, bar, radar, polarArea, time_series"
   ]
  },
  {
   "cell_type": "code",
   "execution_count": null,
   "metadata": {},
   "outputs": [],
   "source": [
    "def randomScalingFactor():\n",
    "    import random\n",
    "    return round(random.random() * 100)"
   ]
  },
  {
   "cell_type": "markdown",
   "metadata": {},
   "source": [
    "## Radar Chart"
   ]
  },
  {
   "cell_type": "code",
   "execution_count": 2,
   "metadata": {},
   "outputs": [
    {
     "data": {
      "application/vnd.jupyter.widget-view+json": {
       "model_id": "b2466e585ed94f27ac9bfe376ac71e41",
       "version_major": 2,
       "version_minor": 0
      },
      "text/plain": [
       "Radar(status='deferring flush until render')"
      ]
     },
     "metadata": {},
     "output_type": "display_data"
    }
   ],
   "source": [
    "labels = [['Eating', 'Dinner'], ['Drinking', 'Water'], 'Sleeping', ['Designing', 'Graphics'], 'Coding', 'Cycling', 'Running']\n",
    "radar_chart = radar.Radar()\n",
    "for i in range(3):\n",
    "    data = [randomScalingFactor() for i in range(len(labels))]\n",
    "    radar_chart.add_dataset(labels, data, 'dataset'+str(i+1))\n",
    "radar_chart.setup()\n",
    "radar_chart"
   ]
  },
  {
   "cell_type": "markdown",
   "metadata": {},
   "source": [
    "## Polar Area Chart"
   ]
  },
  {
   "cell_type": "code",
   "execution_count": 3,
   "metadata": {},
   "outputs": [
    {
     "data": {
      "application/vnd.jupyter.widget-view+json": {
       "model_id": "8f04c517aff74a5c971767826a639c63",
       "version_major": 2,
       "version_minor": 0
      },
      "text/plain": [
       "PolarArea(status='deferring flush until render')"
      ]
     },
     "metadata": {},
     "output_type": "display_data"
    }
   ],
   "source": [
    "polarArea_chart = polarArea.PolarArea()\n",
    "labels = ['Coding', 'Cycling', 'Running']\n",
    "colors = ['red', 'green', 'blue']\n",
    "for i in range(3):\n",
    "    polarArea_chart.add(label = labels[i], \n",
    "                        datum = randomScalingFactor(), \n",
    "                        color = colors[i])\n",
    "polarArea_chart.get_ready_data('activity', colors, colors)\n",
    "polarArea_chart.setup()\n",
    "polarArea_chart"
   ]
  },
  {
   "cell_type": "code",
   "execution_count": null,
   "metadata": {},
   "outputs": [],
   "source": [
    "polarArea_chart.labels"
   ]
  }
 ],
 "metadata": {
  "kernelspec": {
   "display_name": "Python 3",
   "language": "python",
   "name": "python3"
  },
  "language_info": {
   "codemirror_mode": {
    "name": "ipython",
    "version": 3
   },
   "file_extension": ".py",
   "mimetype": "text/x-python",
   "name": "python",
   "nbconvert_exporter": "python",
   "pygments_lexer": "ipython3",
   "version": "3.7.0"
  }
 },
 "nbformat": 4,
 "nbformat_minor": 4
}
