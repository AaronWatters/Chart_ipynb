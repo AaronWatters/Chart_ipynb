{
 "cells": [
  {
   "cell_type": "markdown",
   "metadata": {},
   "source": [
    "# `chart_ipynb` quick reference\n",
    "\n",
    "`chart_ipynb` is designed to present data on Jupyter interface more easily. It works as `chart.js` which is a JavaScript module but can be achieved nicely for Python user on Jupyter interface.\n",
    "\n",
    "There are several chart options, not as many as in `chart.js`, however, more charts will be available gradually. \n",
    "\n",
    "- line chart  \n",
    "- bar chart  \n",
    "- scatter chart  \n",
    "- doughnut chart  \n",
    "- pie chart   \n",
    "- radar chart  \n",
    "- polar area chart  \n",
    "- more is coming\n",
    "\n",
    "<br>\n",
    "\n",
    "## Import `chart_ipynb`\n",
    "\n"
   ]
  },
  {
   "cell_type": "code",
   "execution_count": 2,
   "metadata": {},
   "outputs": [],
   "source": [
    "from chart_ipynb import utils, line, bar, radar, polarArea"
   ]
  },
  {
   "cell_type": "markdown",
   "metadata": {},
   "source": [
    "## Line Chart  \n",
    "\n",
    "Line chart is one of the fundamental charts for data visualization. It is useful for showing the information between categorical data and numeric data. In `chart_ipynb`, we can customize the options for line type, potins, and other property. For the following example, defult option will be used.   \n",
    "First, we will create some random data. "
   ]
  },
  {
   "cell_type": "code",
   "execution_count": 3,
   "metadata": {},
   "outputs": [],
   "source": [
    "def randomScalingFactor():\n",
    "    import random\n",
    "    return round(random.random() * 100)\n",
    "labels = [['Eating', 'Dinner'], ['Drinking', 'Water'], \n",
    "          'Sleeping', ['Designing', 'Graphics'], \n",
    "          'Coding', 'Cycling', 'Running']"
   ]
  },
  {
   "cell_type": "markdown",
   "metadata": {},
   "source": [
    "- `add_dataset` function accepts a list of data as input data.  \n",
    "  ```\n",
    "    add_dataset(data_x, data_y, dataset_name, color = None, \n",
    "                 backgroundColor = None, borderColor = None, \n",
    "                 fill = False,\n",
    "                 **other_arguments,)\n",
    "  ```\n",
    "  - `data_x`:  the label which is x axis for the data; categorical data   \n",
    "  - `data_y`:  numeric data, y axis  \n",
    "  - `dataset_name`:  the name of the dataset for legend  \n",
    "  - `color`:  random color will be generated if the value is None \n",
    " \n",
    " \n",
    "- `setup()` is to initialize the chart setting by fitting data and options to configuration of the chart.\n",
    "    ```\n",
    "    setup(width=800, **other_arguments)\n",
    "    ```\n",
    "  - `width`: default is 800\n",
    "  \n",
    "Three datasets have been created randomly below. If you only want to see one or two of three datasets, you can click the legend retangle of the dataset you want to remove to hide the data."
   ]
  },
  {
   "cell_type": "code",
   "execution_count": 9,
   "metadata": {},
   "outputs": [
    {
     "data": {
      "application/vnd.jupyter.widget-view+json": {
       "model_id": "2d86bf1573c2463480d15203f27ec1c9",
       "version_major": 2,
       "version_minor": 0
      },
      "text/plain": [
       "Line(status='deferring flush until render')"
      ]
     },
     "metadata": {},
     "output_type": "display_data"
    }
   ],
   "source": [
    "line_chart = line.Line()\n",
    "for i in range(3):\n",
    "    data = [randomScalingFactor() for i in range(len(labels))]\n",
    "    line_chart.add_dataset(labels, data, 'dataset'+str(i+1))\n",
    "line_chart.setup()\n",
    "line_chart"
   ]
  },
  {
   "cell_type": "markdown",
   "metadata": {},
   "source": [
    "## Bar Chart   \n",
    "\n",
    "Bar chart works similarly as line chart in `chart_ipynb`.  "
   ]
  },
  {
   "cell_type": "code",
   "execution_count": 10,
   "metadata": {},
   "outputs": [
    {
     "data": {
      "application/vnd.jupyter.widget-view+json": {
       "model_id": "9fcd6c9bf18d42a0aa54946dc784ea2f",
       "version_major": 2,
       "version_minor": 0
      },
      "text/plain": [
       "Bar(status='deferring flush until render')"
      ]
     },
     "metadata": {},
     "output_type": "display_data"
    }
   ],
   "source": [
    "bar_chart = bar.Bar()\n",
    "for i in range(3):\n",
    "    data = [randomScalingFactor() for i in range(len(labels))]\n",
    "    bar_chart.add_dataset(labels, data, 'dataset'+str(i+1))\n",
    "bar_chart.setup()\n",
    "bar_chart"
   ]
  },
  {
   "cell_type": "markdown",
   "metadata": {},
   "source": [
    "### Bar Chart - Stacked  \n",
    "\n",
    "Stacked bar chart requires some customized options as input since the dafult options are only for basic bar chart setting. "
   ]
  },
  {
   "cell_type": "code",
   "execution_count": null,
   "metadata": {},
   "outputs": [],
   "source": []
  },
  {
   "cell_type": "markdown",
   "metadata": {},
   "source": [
    "## Radar Chart"
   ]
  },
  {
   "cell_type": "code",
   "execution_count": 2,
   "metadata": {},
   "outputs": [
    {
     "data": {
      "application/vnd.jupyter.widget-view+json": {
       "model_id": "b2466e585ed94f27ac9bfe376ac71e41",
       "version_major": 2,
       "version_minor": 0
      },
      "text/plain": [
       "Radar(status='deferring flush until render')"
      ]
     },
     "metadata": {},
     "output_type": "display_data"
    }
   ],
   "source": [
    "labels = [['Eating', 'Dinner'], ['Drinking', 'Water'], 'Sleeping', ['Designing', 'Graphics'], 'Coding', 'Cycling', 'Running']\n",
    "radar_chart = radar.Radar()\n",
    "for i in range(3):\n",
    "    data = [randomScalingFactor() for i in range(len(labels))]\n",
    "    radar_chart.add_dataset(labels, data, 'dataset'+str(i+1))\n",
    "radar_chart.setup()\n",
    "radar_chart"
   ]
  },
  {
   "cell_type": "markdown",
   "metadata": {},
   "source": [
    "## Polar Area Chart"
   ]
  },
  {
   "cell_type": "code",
   "execution_count": 3,
   "metadata": {},
   "outputs": [
    {
     "data": {
      "application/vnd.jupyter.widget-view+json": {
       "model_id": "8f04c517aff74a5c971767826a639c63",
       "version_major": 2,
       "version_minor": 0
      },
      "text/plain": [
       "PolarArea(status='deferring flush until render')"
      ]
     },
     "metadata": {},
     "output_type": "display_data"
    }
   ],
   "source": [
    "polarArea_chart = polarArea.PolarArea()\n",
    "labels = ['Coding', 'Cycling', 'Running']\n",
    "colors = ['red', 'green', 'blue']\n",
    "for i in range(3):\n",
    "    polarArea_chart.add(label = labels[i], \n",
    "                        datum = randomScalingFactor(), \n",
    "                        color = colors[i])\n",
    "polarArea_chart.get_ready_data('activity', colors, colors)\n",
    "polarArea_chart.setup()\n",
    "polarArea_chart"
   ]
  },
  {
   "cell_type": "code",
   "execution_count": null,
   "metadata": {},
   "outputs": [],
   "source": [
    "polarArea_chart.labels"
   ]
  }
 ],
 "metadata": {
  "kernelspec": {
   "display_name": "Python 3",
   "language": "python",
   "name": "python3"
  },
  "language_info": {
   "codemirror_mode": {
    "name": "ipython",
    "version": 3
   },
   "file_extension": ".py",
   "mimetype": "text/x-python",
   "name": "python",
   "nbconvert_exporter": "python",
   "pygments_lexer": "ipython3",
   "version": "3.7.0"
  }
 },
 "nbformat": 4,
 "nbformat_minor": 4
}
