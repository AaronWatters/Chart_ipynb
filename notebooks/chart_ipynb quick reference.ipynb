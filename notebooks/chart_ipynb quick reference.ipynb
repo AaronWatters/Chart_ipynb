{
 "cells": [
  {
   "cell_type": "markdown",
   "metadata": {},
   "source": [
    "# `chart_ipynb` quick reference\n",
    "\n",
    "`chart_ipynb` is designed to present data on Jupyter interface more easily. It works as [`Chart.js`](https://www.chartjs.org/samples/latest/) which is a JavaScript module but can be achieved nicely for Python user on Jupyter interface.\n",
    "\n",
    "There are several chart options, not as many as in `chart.js`, however, more charts will be available gradually. \n",
    "\n",
    "- line chart  \n",
    "- bar chart  \n",
    "- scatter chart  \n",
    "- doughnut chart  \n",
    "- pie chart   \n",
    "- radar chart  \n",
    "- polar area chart  \n",
    "- bubble chart\n",
    "\n",
    "<br>\n",
    "\n",
    "## Import `chart_ipynb`\n",
    "\n",
    "`chart_ipynb` provides multi classes. `line`, `bar`, `radar`, and `polarArea` are for each type of charts, `utils` contains several helper functions for property customization, and `time_series` provides a more convenient method to visual time-series data."
   ]
  },
  {
   "cell_type": "code",
   "execution_count": 1,
   "metadata": {},
   "outputs": [],
   "source": [
    "from chart_ipynb import utils, time_series, line, bar, scatter, doughnut \n",
    "from chart_ipynb import pie, radar, polarArea, bubble\n",
    "import random"
   ]
  },
  {
   "cell_type": "markdown",
   "metadata": {},
   "source": [
    "## Line Chart  \n",
    "\n",
    "Line chart is one of the fundamental charts for data visualization. It is useful for showing the information between categorical data and numeric data. In `chart_ipynb`, we can customize the options for line type, potins, and other property. For the following example, default option will be used.    "
   ]
  },
  {
   "cell_type": "markdown",
   "metadata": {},
   "source": [
    "- `add_dataset` function accepts a list of data as input data.  \n",
    "  ```\n",
    "    add_dataset(data_x, data_y, dataset_name, color = None, \n",
    "                 backgroundColor = None, borderColor = None, \n",
    "                 fill = False,\n",
    "                 **other_arguments,)\n",
    "  ```\n",
    "  - `data_x`:  the label which is x axis for the data; categorical data   \n",
    "  - `data_y`:  numeric data, y axis  \n",
    "  - `dataset_name`:  the name of the dataset for legend  \n",
    "  - `color`:  random color will be generated if the value is None.\n",
    " \n",
    " \n",
    "- `setup()` is to initialize the chart setting by fitting data and options to configuration of the chart.\n",
    "    ```\n",
    "    setup(width=800, **other_arguments)\n",
    "    ```\n",
    "  - `width`: default is 800\n",
    "  \n",
    "Three datasets have been created randomly below. If you only want to see one or two of three datasets, you can click the legend retangle of the dataset you want to remove to hide the data.   \n",
    "\n",
    "The js example can refer to https://www.chartjs.org/samples/latest/charts/line/basic.html\n",
    "\n",
    "<img src=\"pics/lineC.png\" width=\"80%\">"
   ]
  },
  {
   "cell_type": "code",
   "execution_count": null,
   "metadata": {},
   "outputs": [],
   "source": [
    "labels = [['Eating', 'Dinner'], ['Drinking', 'Water'], \n",
    "          'Sleeping', ['Designing', 'Graphics'], \n",
    "          'Coding', 'Cycling', 'Running']\n",
    "colors = ['forestgreen', 'midnightblue', 'orange']\n",
    "line_chart = line.Line()\n",
    "for i in range(3):\n",
    "    data = [round(random.random() * 100) for i in range(len(labels))]\n",
    "    line_chart.add_dataset(labels, data, 'dataset'+str(i+1), color=colors[i])\n",
    "line_chart.setup()\n",
    "line_chart"
   ]
  },
  {
   "cell_type": "markdown",
   "metadata": {},
   "source": [
    "### Line Chart - Multi Axis  \n",
    "\n",
    "The default options in line chart do not consider multi axis option, therefore, creating multi-axis line chart requires some customized options.   \n",
    "Multi-aixs line chart only requires two datasets.   \n",
    "`time_series.py` in `chart_ipynb` provides default options for multi-axis setting by setting `multi_axis=True`.    \n",
    "```\n",
    "ts_default_option(xAxes = None, yAxes = None, \n",
    "                       xAxes_name = None, yAxes_name = None,\n",
    "                       multi_axis = False, multi_axis_name = None,\n",
    "                       stacked = False, title = None)\n",
    "```\n",
    "To show how multi-axis works more clearly, the following codes specify some basic properties required by the multi-aixs chart.    \n",
    "\n",
    "`type='linear'` and `id = 'xxx'` are required for y axes, when you add dataset, you also need to emphasize the y axis id by setting `yAxisID = 'xxx'` for corresponding dataset.   \n",
    "\n",
    "The js example can refer to https://www.chartjs.org/samples/latest/charts/line/multi-axis.html  \n",
    "\n",
    "<img src=\"pics/lineC_multi.png\" width=\"80%\">"
   ]
  },
  {
   "cell_type": "code",
   "execution_count": null,
   "metadata": {},
   "outputs": [],
   "source": [
    "x_axes = utils.axes(\n",
    "                display=True,\n",
    "                scaleLabel = dict(display = True, labelString = 'Activity'),\n",
    "                ticks = dict(\n",
    "                    major = {\n",
    "                            'enabled': True,\n",
    "                            'fontStyle': 'bold'\n",
    "                            },\n",
    "                    source = 'data'\n",
    "                ))\n",
    "y_axes = [utils.axes(\n",
    "                    display = True,\n",
    "                    scaleLabel = {\n",
    "                        'display': True,\n",
    "                        'labelString': 'dataset1'\n",
    "                        },\n",
    "                    type = 'linear',\n",
    "                    position = 'left',\n",
    "                    id = 'y-axis-1',\n",
    "                    gridLines = {\n",
    "                        'drawBorder': False\n",
    "                    }\n",
    "                ), utils.axes(\n",
    "                    display = True,\n",
    "                    scaleLabel = {\n",
    "                        'display': True,\n",
    "                        'labelString': 'dataset2'\n",
    "                        },\n",
    "                    type = 'linear',\n",
    "                    position = 'right',\n",
    "                    id = 'y-axis-2',\n",
    "                    gridLines = {\n",
    "                        'drawBorder': False,\n",
    "                        'drawOnChartArea': False\n",
    "                    }\n",
    "                )]\n",
    "options = utils.options(\n",
    "                        responsive=True,\n",
    "                        title=dict(display=True, text='Line Chart - Multi Axis'),\n",
    "                        animation = dict(duration=0),\n",
    "                        scales = { 'xAxes': x_axes, 'yAxes': y_axes}\n",
    "                )\n",
    "labels = [['Eating', 'Dinner'], ['Drinking', 'Water'], \n",
    "          'Sleeping', ['Designing', 'Graphics'], \n",
    "          'Coding', 'Cycling', 'Running']"
   ]
  },
  {
   "cell_type": "code",
   "execution_count": null,
   "metadata": {},
   "outputs": [],
   "source": [
    "line_multi = line.Line(options = options)\n",
    "for i in range(2):\n",
    "    data = [round(random.random() * 100) for i in range(len(labels))]\n",
    "    line_multi.add_dataset(labels, data, 'dataset'+str(i+1),\n",
    "                        yAxisID = 'y-axis-'+str(i+1))\n",
    "line_multi.setup()\n",
    "line_multi"
   ]
  },
  {
   "cell_type": "markdown",
   "metadata": {},
   "source": [
    "## Bar Chart   \n",
    "\n",
    "Bar chart works similarly as line chart in `chart_ipynb`.  \n",
    "The js example can refer to https://www.chartjs.org/samples/latest/charts/bar/vertical.html  \n",
    "\n",
    "<img src=\"pics/barC.png\" width=\"70%\">"
   ]
  },
  {
   "cell_type": "code",
   "execution_count": null,
   "metadata": {},
   "outputs": [],
   "source": [
    "labels = [['Eating', 'Dinner'], ['Drinking', 'Water'], \n",
    "          'Sleeping', ['Designing', 'Graphics'], \n",
    "          'Coding', 'Cycling', 'Running']\n",
    "bar_chart = bar.Bar()\n",
    "for i in range(3):\n",
    "    data = [round(random.random() * 100) for i in range(len(labels))]\n",
    "    bar_chart.add_dataset(labels, data, 'dataset'+str(i+1))\n",
    "bar_chart.setup()\n",
    "bar_chart"
   ]
  },
  {
   "cell_type": "markdown",
   "metadata": {},
   "source": [
    "### Bar Chart - Stacked  \n",
    "\n",
    "Bar chart also provides `stacked` option when initializing by setting `stacked = True`.  \n",
    "\n",
    "The js example can refer to https://www.chartjs.org/samples/latest/charts/bar/stacked.html\n",
    "\n",
    "<img src=\"pics/barC_stacked.png\" width=\"70%\">"
   ]
  },
  {
   "cell_type": "code",
   "execution_count": null,
   "metadata": {},
   "outputs": [],
   "source": [
    "labels = [['Eating', 'Dinner'], ['Drinking', 'Water'], \n",
    "          'Sleeping', ['Designing', 'Graphics'], \n",
    "          'Coding', 'Cycling', 'Running']\n",
    "bar_stacked = bar.Bar(stacked=True, title = 'Bar Chart - Stacked')\n",
    "for i in range(3):\n",
    "    data = [round(random.random() * 100) for i in range(len(labels))]\n",
    "    bar_stacked.add_dataset(labels, data, 'dataset'+str(i+1))\n",
    "bar_stacked.setup()\n",
    "bar_stacked"
   ]
  },
  {
   "cell_type": "markdown",
   "metadata": {},
   "source": [
    "## Scatter Chart  \n",
    "\n",
    "The axes of scatter charts are numeric, so there is no argument called labels in the `add` and `add_dataset` function. The input data should be indicated `x` and `y` axis in a list of dictionary structure.  \n",
    "Also, if you want to modify the radius of points, you can update the options dictionary by `scatter_chart.options.update({'elements':{'point':{'radius':5}}})` as below example.  \n",
    "\n",
    "The js example can refer to https://www.chartjs.org/samples/latest/charts/scatter/basic.html\n",
    "\n",
    "<img src=\"pics/scatterC.png\" width=\"70%\">"
   ]
  },
  {
   "cell_type": "code",
   "execution_count": null,
   "metadata": {},
   "outputs": [],
   "source": [
    "scatter_chart = scatter.Scatter()\n",
    "colors = ['red', 'blue']\n",
    "for i in range(2):\n",
    "    data = []\n",
    "    for j in range(6):\n",
    "        x = round(random.random() * 100)\n",
    "        y = round(random.random() * 100)\n",
    "        data.append({'x': x,'y': y})\n",
    "    scatter_chart.add_dataset(data, 'dataset'+str(i+1), color = utils.color_rgb(colors[i]))\n",
    "scatter_chart.options.update({'elements':{'point':{'radius':5}}})\n",
    "scatter_chart.setup()\n",
    "scatter_chart"
   ]
  },
  {
   "cell_type": "markdown",
   "metadata": {},
   "source": [
    "## Doughnut Chart\n",
    "\n",
    "Doughnut chart is not suitable for multi datasets. It indicates the proportion of a single data among all data addded.  \n",
    "\n",
    "You can either add a single data at a time or a whole dataset.   \n",
    "- `add` function is used to add a single data  \n",
    "    ```\n",
    "    add(label, datum, color)\n",
    "    ```\n",
    "    - label: the name of the dataset  \n",
    "    - datum: a number (single data)  \n",
    "    - color: the color for the area of a single data  \n",
    "- `get_ready_data` function can be used when you want more properties added to the dataset   \n",
    "    ```\n",
    "    get_ready_data(label, backgroundColor=None, borderColor=None, fill = False, **other_arguments)\n",
    "    ```  \n",
    "    \n",
    "The js example can refer to https://www.chartjs.org/samples/latest/charts/doughnut.html\n",
    "\n",
    "<img src=\"pics/doughnutC.png\" width=\"70%\">"
   ]
  },
  {
   "cell_type": "code",
   "execution_count": null,
   "metadata": {},
   "outputs": [],
   "source": [
    "doughnut_chart = doughnut.Doughnut()\n",
    "doughnut_chart.set_title(\"Chocolate Frosted\")\n",
    "doughnut_chart.add(\"Big\", 10, \"brown\")\n",
    "doughnut_chart.add(\"Medium\", 7, \"pink\")\n",
    "doughnut_chart.add(\"Small\", 3, \"purple\")\n",
    "doughnut_chart.setup()\n",
    "doughnut_chart"
   ]
  },
  {
   "cell_type": "markdown",
   "metadata": {},
   "source": [
    "## Pie Chart\n",
    "\n",
    "Pie chart can accept both single dataset and multi datasets.  \n",
    "\n",
    "The js example can refer to https://www.chartjs.org/samples/latest/charts/pie.html"
   ]
  },
  {
   "cell_type": "markdown",
   "metadata": {},
   "source": [
    "### Single dataset  \n",
    "\n",
    "<img src=\"pics/pieC_single.png\" width=\"70%\">"
   ]
  },
  {
   "cell_type": "code",
   "execution_count": null,
   "metadata": {},
   "outputs": [],
   "source": [
    "pie_chart = pie.Pie()\n",
    "labels = [['Eating', 'Dinner'], ['Drinking', 'Water'], \n",
    "          'Sleeping', ['Designing', 'Graphics'], \n",
    "          'Coding', 'Cycling', 'Running']\n",
    "colors = ['red', 'blue', 'green', 'cyan', 'pink', 'violet', 'purple']\n",
    "data = [round(random.random() * 100) for i in range(len(labels))]\n",
    "pie_chart.add_dataset(labels, data, 'dataset',\n",
    "                            backgroundColor = [utils.color_rgb(i,0.1) for i in colors],\n",
    "                            borderColor = [utils.color_rgb(i) for i in colors])\n",
    "pie_chart.set_title('Pie Chart - single dataset')\n",
    "pie_chart.setup()\n",
    "pie_chart"
   ]
  },
  {
   "cell_type": "markdown",
   "metadata": {},
   "source": [
    "### Multi datasets  \n",
    "\n",
    "<img src=\"pics/pieC_multi.png\" width=\"70%\">"
   ]
  },
  {
   "cell_type": "code",
   "execution_count": null,
   "metadata": {},
   "outputs": [],
   "source": [
    "pie_chart = pie.Pie()\n",
    "labels = [['Eating', 'Dinner'], ['Drinking', 'Water'], \n",
    "          'Sleeping', ['Designing', 'Graphics'], \n",
    "          'Coding', 'Cycling', 'Running']\n",
    "colors = ['red', 'blue', 'green', 'cyan', 'pink', 'violet', 'purple']\n",
    "for k in range(3):\n",
    "    data = [round(random.random() * 100) for i in range(len(labels))]\n",
    "    pie_chart.add_dataset(labels, data, 'dataset'+str(k+1),\n",
    "                                backgroundColor = [utils.color_rgb(i,0.5) for i in colors],\n",
    "                                borderColor = 'white')\n",
    "pie_chart.set_title('Pie Chart - three datasets')\n",
    "pie_chart.setup()\n",
    "pie_chart"
   ]
  },
  {
   "cell_type": "markdown",
   "metadata": {},
   "source": [
    "### Toggle Doughnut View  \n",
    "\n",
    "`cutoutPercentage = value` in the options can be used to toggle doughnut view of pie chart. The value is to control the percentage of cutout from the center of pie. The following example set cutoutPercentage to 30.\n",
    "\n",
    "The js example can refer to https://www.chartjs.org/samples/latest/scriptable/pie.html\n",
    "\n",
    "<img src=\"pics/pieC_doughnut.png\" width=\"70%\">"
   ]
  },
  {
   "cell_type": "code",
   "execution_count": null,
   "metadata": {},
   "outputs": [],
   "source": [
    "pie_chart = pie.Pie()\n",
    "labels = [ 'Coding', 'Cycling', 'Running']\n",
    "colors = ['blue', 'green','violet']\n",
    "data = [30, 15, 20]\n",
    "pie_chart.add_dataset(labels, data, 'dataset',\n",
    "                            backgroundColor = [utils.color_rgb(i,0.1) for i in colors],\n",
    "                            borderColor = [utils.color_rgb(i) for i in colors])\n",
    "pie_chart.set_title('Pie Chart - doughnut view')\n",
    "pie_chart.options['cutoutPercentage'] = 30\n",
    "pie_chart.setup()\n",
    "pie_chart"
   ]
  },
  {
   "cell_type": "markdown",
   "metadata": {},
   "source": [
    "## Radar Chart   \n",
    "\n",
    "Radar chart works similarly as line chart and bar chart. If you want to fill the background color, you need to set `fill` option to be true.   \n",
    "\n",
    "The js example can refer to https://www.chartjs.org/samples/latest/charts/radar.html\n",
    "\n",
    "<img src=\"pics/radarC.png\" width=\"70%\">"
   ]
  },
  {
   "cell_type": "code",
   "execution_count": null,
   "metadata": {},
   "outputs": [],
   "source": [
    "radar_chart = radar.Radar()\n",
    "labels = [['Eating', 'Dinner'], ['Drinking', 'Water'], \n",
    "          'Sleeping', ['Designing', 'Graphics'], \n",
    "          'Coding', 'Cycling', 'Running']\n",
    "colors = ['red', 'blue', 'green']\n",
    "for i in range(3):\n",
    "    data = [round(random.random() * 100) for i in range(len(labels))]\n",
    "    radar_chart.add_dataset(labels, data, 'dataset'+str(i+1),\n",
    "                            backgroundColor = utils.color_rgb(colors[i],0.1),\n",
    "                            borderColor = utils.color_rgb(colors[i]),\n",
    "                            pointBackgroundColor = utils.color_rgb(colors[i]),\n",
    "                            fill=True)\n",
    "radar_chart.setup()\n",
    "radar_chart"
   ]
  },
  {
   "cell_type": "markdown",
   "metadata": {},
   "source": [
    "## Polar Area Chart  \n",
    "\n",
    "Polar area chart is not suitable for multi datasets. You can either add a single data at a time or a whole dataset.   \n",
    "- `add` function is used to add a single data  \n",
    "    ```\n",
    "    add(label, datum, color)\n",
    "    ```\n",
    "    - label: the name of the dataset  \n",
    "    - datum: a number (single data)  \n",
    "    - color: the color for the area of a single data  \n",
    "- `get_ready_data` function can be used when you want more properties added to the dataset   \n",
    "    ```\n",
    "    get_ready_data(label, backgroundColor=None, borderColor=None, fill = False, **other_arguments)\n",
    "    ```\n",
    "    \n",
    "The js example can refer to https://www.chartjs.org/samples/latest/charts/polar-area.html\n",
    "\n",
    "<img src=\"pics/polarArea.png\" width=\"70%\">"
   ]
  },
  {
   "cell_type": "code",
   "execution_count": null,
   "metadata": {},
   "outputs": [],
   "source": [
    "polarArea_chart = polarArea.PolarArea()\n",
    "label_polar = ['Coding', 'Cycling', 'Running']\n",
    "colors = ['red', 'green', 'blue']\n",
    "for i in range(3):\n",
    "    polarArea_chart.add(label = label_polar[i], \n",
    "                        datum = round(random.random() * 100), \n",
    "                        color = utils.color_rgb(colors[i],0.5))\n",
    "polarArea_chart.get_ready_data('activity')\n",
    "polarArea_chart.setup()\n",
    "polarArea_chart"
   ]
  },
  {
   "cell_type": "markdown",
   "metadata": {},
   "source": [
    "## Bubble Chart  \n",
    "\n",
    "Bubble chart and scatter chart are very similar. There are several more properties we can define for bubble chart, such as `hoverBackgroundColor`, `hoverBorderColor`, and `hoverBorderWidth`. You can also customize raidus of potins based on values.  \n",
    "\n",
    "The js example can refer to https://www.chartjs.org/samples/latest/scriptable/bubble.html\n",
    "\n",
    "<img src=\"pics/bubbleC.png\" width=\"70%\">  \n",
    "\n",
    "The following cells define minimum value and maximum value that x and y can be generated. "
   ]
  },
  {
   "cell_type": "code",
   "execution_count": null,
   "metadata": {},
   "outputs": [],
   "source": [
    "import numpy as np\n",
    "\n",
    "n = 16\n",
    "min_val = 0\n",
    "max_val = 150\n",
    "import numpy as np"
   ]
  },
  {
   "cell_type": "markdown",
   "metadata": {},
   "source": [
    "We define `borderWidth` and `hoverBorderWidth` based on the value `v` which is also generated randomly. The radius of the points will be normalized based on x and y.   \n",
    "These properties can be done in options setting as elements point setting in Chart.js, however, on Jupyter interface, predefining the values before initializing the chart avoids the failure of communication between Python and JavaScript. "
   ]
  },
  {
   "cell_type": "code",
   "execution_count": null,
   "metadata": {},
   "outputs": [],
   "source": [
    "bubble_chart = bubble.Bubble()\n",
    "colors = ['red', 'blue']\n",
    "for i in range(2):\n",
    "    data = []\n",
    "    borderWidth = []\n",
    "    hoverBorderWidth = []\n",
    "    radius = []\n",
    "    for j in range(n):\n",
    "        x = round(min_val + np.random.random()*max_val,2)\n",
    "        y = round(min_val + np.random.random()*max_val,2)\n",
    "        v = np.random.random()*1000\n",
    "        data.append({'x': x,'y': y})\n",
    "        borderWidth.append(abs(v) / 1000)\n",
    "        hoverBorderWidth.append(round(8*v / 1000))\n",
    "        radius.append(abs(10 + 10 * x / (max_val-min_val)))\n",
    "    bubble_chart.add_dataset(data, 'dataset'+str(i+1), \n",
    "                              backgroundColor = utils.color_rgb(colors[i], 0.5),\n",
    "                              borderColor = utils.color_rgb(colors[i]),\n",
    "                              borderWidth = borderWidth,\n",
    "                              hoverBackgroundColor = 'transparent',\n",
    "                              hoverBorderColor = utils.color_rgb(colors[i]),\n",
    "                              hoverBorderWidth = hoverBorderWidth,\n",
    "                              radius = radius\n",
    "                             )\n",
    "bubble_chart.setup()\n",
    "bubble_chart"
   ]
  },
  {
   "cell_type": "markdown",
   "metadata": {},
   "source": [
    "## Other Features"
   ]
  },
  {
   "cell_type": "markdown",
   "metadata": {},
   "source": [
    "### Data/Dataset Update  \n",
    "\n",
    "`update_data` and `update_dataset` allows adding data or dataset to the chart after initialization.  \n",
    "```\n",
    "    update_data(data_value, label, dataset_name = None)\n",
    "```\n",
    "- data_value: the value of data  \n",
    "- label: the label of data  \n",
    "- dataset_name: if None, assume you are adding new data to the first dataset (if there is only one dataset, you don't need to specify)  \n",
    "\n",
    "\n",
    "```\n",
    "    update_dataset(data, label=None, color = None,\n",
    "                   backgroundColor=None, \n",
    "                   borderColor=None, \n",
    "                   **other_arguments)\n",
    "```\n",
    "- data: a list of data values (the length should not excess the length of labels)  \n",
    "- label: the name of your new dataset    \n",
    "\n",
    "<img src=\"pics/lineC_update.png\" width=\"70%\">  "
   ]
  },
  {
   "cell_type": "code",
   "execution_count": null,
   "metadata": {},
   "outputs": [],
   "source": [
    "labels = [['Eating', 'Dinner'], ['Drinking', 'Water'], \n",
    "          'Sleeping', ['Designing', 'Graphics'], \n",
    "          'Coding', 'Cycling', 'Running']\n",
    "colors = ['forestgreen', 'midnightblue', 'orange']\n",
    "line_chart = line.Line()\n",
    "for i in range(3):\n",
    "    data = [round(random.random() * 100) for i in range(len(labels))]\n",
    "    line_chart.add_dataset(labels, data, 'dataset'+str(i+1), color=colors[i])\n",
    "line_chart.set_title(\"Line Chart - Update Data/Dataset\")\n",
    "line_chart.setup(600)\n",
    "line_chart"
   ]
  },
  {
   "cell_type": "code",
   "execution_count": null,
   "metadata": {},
   "outputs": [],
   "source": [
    "line_chart.update_data(100, 'newLabel')"
   ]
  },
  {
   "cell_type": "code",
   "execution_count": null,
   "metadata": {},
   "outputs": [],
   "source": [
    "line_chart.update_dataset([30, 40, 50, 60, 70, 80, 90, 100], 'newDataset', color = 'red',fill=False)"
   ]
  },
  {
   "cell_type": "markdown",
   "metadata": {},
   "source": [
    "### Click Events  \n",
    "\n",
    "\n",
    "#### Click to Get Information of Obejct\n",
    "\n",
    "The `click_callback` function taking a callback function activates click event on chart element. Clicking a point or an area of the chart, you can get the infomation of the object back to the Jupyter interface. To see one or all infomration of the clicked objects, you can view in `clicked_info` which is a list of dictionary.  \n",
    "```\n",
    "click_callback(callback=None)\n",
    "```  \n",
    "- callback: a func to do something with the clicked object  \n",
    "\n",
    ">`clicked_info` example:\n",
    "```\n",
    "[{'dataIndex': 3,\n",
    "  'datasetIndex': 0,\n",
    "  'backgroundColor': 'rgba(0, 229, 230, 0.5)',\n",
    "  'borderColor': 'rgb(230, 230, 230)',\n",
    "  'datasetLabel': 'dataset1',\n",
    "  'label': ['Designing', 'Graphics'],\n",
    "  'dataValue': 45}]\n",
    "```"
   ]
  },
  {
   "cell_type": "code",
   "execution_count": 12,
   "metadata": {},
   "outputs": [
    {
     "data": {
      "application/vnd.jupyter.widget-view+json": {
       "model_id": "bba36fda94444bb696dd4cf985bf07ce",
       "version_major": 2,
       "version_minor": 0
      },
      "text/plain": [
       "VBox(children=(Pie(status='deferring flush until render'), Text(value='deferring flush until render', descript…"
      ]
     },
     "metadata": {},
     "output_type": "display_data"
    }
   ],
   "source": [
    "pie_chart = pie.Pie()\n",
    "labels = [['Eating', 'Dinner'], ['Drinking', 'Water'], \n",
    "          'Sleeping', ['Designing', 'Graphics'], \n",
    "          'Coding', 'Cycling', 'Running']\n",
    "colors = ['red', 'blue', 'green', 'cyan', 'pink', 'violet', 'purple']\n",
    "for k in range(3):\n",
    "    data = [round(random.random() * 100) for i in range(len(labels))]\n",
    "    pie_chart.add_dataset(labels, data, 'dataset'+str(k+1),\n",
    "                                backgroundColor = [utils.color_rgb(i,0.5) for i in colors],\n",
    "                                borderColor = 'white')\n",
    "pie_chart.set_title('Pie Chart - three datasets')\n",
    "pie_chart.setup()\n",
    "pie_chart.debugging_display()"
   ]
  },
  {
   "cell_type": "code",
   "execution_count": null,
   "metadata": {},
   "outputs": [],
   "source": [
    "pie_chart.click_callback()"
   ]
  },
  {
   "cell_type": "code",
   "execution_count": 3,
   "metadata": {},
   "outputs": [],
   "source": [
    "def callback(*argument):\n",
    "    from IPython.display import display, HTML\n",
    "    label = argument[0]['label']\n",
    "    value = argument[0]['dataValue']\n",
    "    print('<h1>You are clicking %s with value %d' %(label, value))\n",
    "pie_chart.click_callback(callback)"
   ]
  },
  {
   "cell_type": "code",
   "execution_count": null,
   "metadata": {},
   "outputs": [],
   "source": [
    "pie_chart.clicked_info"
   ]
  },
  {
   "cell_type": "markdown",
   "metadata": {},
   "source": [
    "####  Click to Remove Object¶\n",
    "\n",
    "To activate the click event to remove an object, you can call `remove_data` function, which will deactivate `click_info` function at the same time.   \n",
    "`remove_item` is a list of dictionary storing the indices of dataset and data you removed. The indices will be changing all the time when you remove an object."
   ]
  },
  {
   "cell_type": "code",
   "execution_count": 8,
   "metadata": {},
   "outputs": [],
   "source": [
    "pie_chart.remove_data()"
   ]
  },
  {
   "cell_type": "code",
   "execution_count": 10,
   "metadata": {},
   "outputs": [
    {
     "data": {
      "text/plain": [
       "[{'dataIndex': 5, 'datasetIndex': 0},\n",
       " {'dataIndex': 5, 'datasetIndex': 1},\n",
       " {'dataIndex': 5, 'datasetIndex': 2},\n",
       " {'dataIndex': 5, 'datasetIndex': 0},\n",
       " {'dataIndex': 5, 'datasetIndex': 1},\n",
       " {'dataIndex': 5, 'datasetIndex': 2}]"
      ]
     },
     "execution_count": 10,
     "metadata": {},
     "output_type": "execute_result"
    }
   ],
   "source": [
    "pie_chart.remove_item"
   ]
  },
  {
   "cell_type": "markdown",
   "metadata": {},
   "source": [
    "#### Off Click Event"
   ]
  },
  {
   "cell_type": "code",
   "execution_count": 11,
   "metadata": {},
   "outputs": [],
   "source": [
    "pie_chart.off_click_event()"
   ]
  },
  {
   "cell_type": "markdown",
   "metadata": {},
   "source": [
    "\n",
    "### Helper Functions  \n",
    "\n",
    "`utils` provides several helper functions to set up options, axes, scales, data, dataset, colors, and config. \n",
    "\n",
    "### Time Series  \n",
    "\n",
    "`time_series` provides quick inistialization of line and bar charts for time series data. More details about it can refer to the [example](https://github.com/AaronWatters/Chart_ipynb/blob/master/notebooks/time%20series%20example.ipynb).  \n"
   ]
  },
  {
   "cell_type": "markdown",
   "metadata": {},
   "source": [
    "### Point Style  \n",
    "\n",
    "You can specify `pointStyle` to change the shape of points when creating a dataset.   \n",
    "- 'circle'  \n",
    "- 'triangle'  \n",
    "- 'rect'  \n",
    "- 'rectRounded'  \n",
    "- 'rectRot'  \n",
    "- 'cross'  \n",
    "- 'crossRot'  \n",
    "- 'line'  \n",
    "- 'dash'\n",
    "\n",
    "You can also change other point setting by specifying `pointRadius`, `pointHoverRadius` and `pointHitRadius`.   \n",
    "An alternative way to set up point style is in options:\n",
    "```\n",
    "elements: {\n",
    "\t\t\t\tpoint: {\n",
    "\t\t\t\t\tbackgroundColor: 'red',\n",
    "\t\t\t\t\thoverBackgroundColor: 'transparent',\n",
    "\t\t\t\t\tradius: 4,\n",
    "\t\t\t\t\tpointStyle: 'rect',\n",
    "\t\t\t\t\thoverRadius: 15,\n",
    "\t\t\t\t}\n",
    "```"
   ]
  },
  {
   "cell_type": "code",
   "execution_count": null,
   "metadata": {},
   "outputs": [],
   "source": [
    "scatter_chart = scatter.Scatter()\n",
    "colors = ['red', 'blue']\n",
    "pts = ['rectRounded', 'crossRot']\n",
    "for i in range(2):\n",
    "    data = []\n",
    "    for j in range(6):\n",
    "        x = round(random.random() * 100)\n",
    "        y = round(random.random() * 100)\n",
    "        data.append({'x': x,'y': y})\n",
    "    scatter_chart.add_dataset(data, 'dataset'+str(i+1), \n",
    "                              color = utils.color_rgb(colors[i]),\n",
    "                              pointStyle = pts[i])\n",
    "scatter_chart.setup()\n",
    "scatter_chart"
   ]
  },
  {
   "cell_type": "markdown",
   "metadata": {},
   "source": [
    "In the legend, if you would like legend style to be the same as the point style, you can update legend setting as the following example. \n",
    "\n",
    "```\n",
    "scatter_chart.options['legend'].update({\n",
    "                                'labels':{'usePointStyle':True}\n",
    "                                    })\n",
    "```"
   ]
  },
  {
   "cell_type": "code",
   "execution_count": null,
   "metadata": {},
   "outputs": [],
   "source": [
    "scatter_chart = scatter.Scatter()\n",
    "colors = ['red', 'blue']\n",
    "pts = ['rectRounded', 'crossRot']\n",
    "for i in range(2):\n",
    "    data = []\n",
    "    for j in range(6):\n",
    "        x = round(random.random() * 100)\n",
    "        y = round(random.random() * 100)\n",
    "        data.append({'x': x,'y': y})\n",
    "    scatter_chart.add_dataset(data, 'dataset'+str(i+1), \n",
    "                              color = utils.color_rgb(colors[i]),\n",
    "                              pointStyle = pts[i])\n",
    "    \n",
    "scatter_chart.options['legend'].update({\n",
    "                                'labels':{'usePointStyle':True}\n",
    "                                    })\n",
    "scatter_chart.setup()\n",
    "scatter_chart"
   ]
  },
  {
   "cell_type": "markdown",
   "metadata": {},
   "source": [
    "### Line Style  \n",
    "\n",
    "By specifying `fill` and `borderDash`, you can change the style of line.  \n",
    "- `fill`: fill the area below the line and above zero or above the line and below zero.  \n",
    "- `borderDash`: change to dash line.  "
   ]
  },
  {
   "cell_type": "code",
   "execution_count": null,
   "metadata": {},
   "outputs": [],
   "source": [
    "labels = [['Eating', 'Dinner'], ['Drinking', 'Water'], \n",
    "          'Sleeping', ['Designing', 'Graphics'], \n",
    "          'Coding', 'Cycling', 'Running']\n",
    "colors = ['forestgreen', 'midnightblue', 'orange']\n",
    "\n",
    "line_chart = line.Line()\n",
    "# unfill\n",
    "data = [round(random.random() * 100) for i in range(len(labels))]\n",
    "line_chart.add_dataset(labels, data, 'unfill', color=colors[0],\n",
    "                          )\n",
    "# fill\n",
    "data = [round(random.random() * 100) for i in range(len(labels))]\n",
    "line_chart.add_dataset(labels, data, 'fill', color=colors[1],\n",
    "                          fill=True)\n",
    "\n",
    "# dash\n",
    "data = [round(random.random() * 100) for i in range(len(labels))]\n",
    "line_chart.add_dataset(labels, data, 'dash', color=colors[2],\n",
    "                          borderDash = [4,4])\n",
    "\n",
    "line_chart.setup()\n",
    "line_chart"
   ]
  },
  {
   "cell_type": "markdown",
   "metadata": {},
   "source": [
    "### Options Update  \n",
    "\n",
    "#### Title Update  \n",
    "\n",
    "Before setup, you can change the title of chart by calling `set_title`. "
   ]
  },
  {
   "cell_type": "code",
   "execution_count": null,
   "metadata": {},
   "outputs": [],
   "source": [
    "pie_chart = pie.Pie()\n",
    "labels = [ 'Coding', 'Cycling', 'Running']\n",
    "colors = ['blue', 'green','violet']\n",
    "data = [30, 15, 20]\n",
    "pie_chart.add_dataset(labels, data, 'dataset',\n",
    "                            backgroundColor = [utils.color_rgb(i,0.1) for i in colors],\n",
    "                            borderColor = [utils.color_rgb(i) for i in colors])\n",
    "pie_chart.set_title('Change Title')\n",
    "pie_chart.setup()\n",
    "pie_chart"
   ]
  },
  {
   "cell_type": "markdown",
   "metadata": {},
   "source": [
    "#### Axis Type Update\n",
    "\n",
    "In `chart_ipynb`, before final setup of the chart, you can update the axis type in options by call `update_axis_type`."
   ]
  },
  {
   "cell_type": "code",
   "execution_count": null,
   "metadata": {},
   "outputs": [],
   "source": [
    "labels = [['Eating', 'Dinner'], ['Drinking', 'Water'], \n",
    "          'Sleeping', ['Designing', 'Graphics'], \n",
    "          'Coding', 'Cycling', 'Running']\n",
    "colors = ['red', 'blue', 'green']\n",
    "line_chart = line.Line()\n",
    "data = [10**i for i in range(len(labels))]\n",
    "line_chart.add_dataset(labels, data, 'dataset', color='midnightblue')"
   ]
  },
  {
   "cell_type": "markdown",
   "metadata": {},
   "source": [
    "The chart object will use default options setting if no options input."
   ]
  },
  {
   "cell_type": "code",
   "execution_count": null,
   "metadata": {},
   "outputs": [],
   "source": [
    "line_chart.options"
   ]
  },
  {
   "cell_type": "markdown",
   "metadata": {},
   "source": [
    "We can update the type of axis by calling `update_axis_type(axis_position, axis_type)`.   \n",
    "- axis_position: 'x' for x axis; 'y' for y axis  \n",
    "- axis_type: 'linear', 'category', 'logarithmic'.(the type of multi-axis must be 'linear')  "
   ]
  },
  {
   "cell_type": "code",
   "execution_count": null,
   "metadata": {},
   "outputs": [],
   "source": [
    "line_chart.update_axis_type('y', 'logarithmic')"
   ]
  },
  {
   "cell_type": "code",
   "execution_count": null,
   "metadata": {},
   "outputs": [],
   "source": [
    "line_chart.options"
   ]
  },
  {
   "cell_type": "code",
   "execution_count": null,
   "metadata": {},
   "outputs": [],
   "source": [
    "line_chart.set_title('Line Chart - y Log-Scale')\n",
    "line_chart.setup()\n",
    "line_chart"
   ]
  },
  {
   "cell_type": "markdown",
   "metadata": {},
   "source": [
    "More options features can refer to [`Chart.js` tutorial](https://www.chartjs.org/docs/latest/getting-started/).  \n",
    "\n",
    "\n",
    "**Note:** For some of features require feature type to be function, it is still difficult to achieve the identical way as `Chart.js` since you are working by Python on Jupyter interface and JavaScript can not deal with Python function directly."
   ]
  },
  {
   "cell_type": "markdown",
   "metadata": {},
   "source": [
    "### Embed Image\n",
    "\n",
    "`embed_image()` enables the chart fit the screen as a static image "
   ]
  },
  {
   "cell_type": "code",
   "execution_count": null,
   "metadata": {},
   "outputs": [],
   "source": [
    "line_chart.embed_image()"
   ]
  },
  {
   "cell_type": "markdown",
   "metadata": {},
   "source": [
    "### Save Image  \n",
    "\n",
    "`save_image(path)` saves the chart as an image to the path specify."
   ]
  },
  {
   "cell_type": "code",
   "execution_count": null,
   "metadata": {},
   "outputs": [],
   "source": [
    "line_chart.save_image('pics/save_image_example.png')"
   ]
  }
 ],
 "metadata": {
  "kernelspec": {
   "display_name": "Python 3",
   "language": "python",
   "name": "python3"
  },
  "language_info": {
   "codemirror_mode": {
    "name": "ipython",
    "version": 3
   },
   "file_extension": ".py",
   "mimetype": "text/x-python",
   "name": "python",
   "nbconvert_exporter": "python",
   "pygments_lexer": "ipython3",
   "version": "3.7.0"
  }
 },
 "nbformat": 4,
 "nbformat_minor": 4
}
