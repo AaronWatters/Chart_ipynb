{
 "cells": [
  {
   "cell_type": "markdown",
   "metadata": {},
   "source": [
    "# Chart examples"
   ]
  },
  {
   "cell_type": "code",
   "execution_count": 1,
   "metadata": {},
   "outputs": [],
   "source": [
    "from chart_ipynb import utils, line, bar, radar, polarArea, time_series\n",
    "def randomScalingFactor():\n",
    "    import random\n",
    "    return round(random.random() * 100)"
   ]
  },
  {
   "cell_type": "markdown",
   "metadata": {},
   "source": [
    "## Radar Chart"
   ]
  },
  {
   "cell_type": "code",
   "execution_count": 2,
   "metadata": {},
   "outputs": [
    {
     "data": {
      "application/vnd.jupyter.widget-view+json": {
       "model_id": "2070abb465cc4a58b852fba4f5c499b3",
       "version_major": 2,
       "version_minor": 0
      },
      "text/plain": [
       "Radar(status='deferring flush until render')"
      ]
     },
     "metadata": {},
     "output_type": "display_data"
    }
   ],
   "source": [
    "labels = [['Eating', 'Dinner'], ['Drinking', 'Water'], 'Sleeping', ['Designing', 'Graphics'], 'Coding', 'Cycling', 'Running']\n",
    "radar_chart = radar.Radar()\n",
    "for i in range(3):\n",
    "    data = [randomScalingFactor() for i in range(len(labels))]\n",
    "    radar_chart.add_dataset(labels, data, 'dataset'+str(i+1))\n",
    "radar_chart.setup()\n",
    "radar_chart\n"
   ]
  },
  {
   "cell_type": "markdown",
   "metadata": {},
   "source": [
    "## Polar Area Chart"
   ]
  },
  {
   "cell_type": "code",
   "execution_count": 6,
   "metadata": {},
   "outputs": [
    {
     "data": {
      "application/vnd.jupyter.widget-view+json": {
       "model_id": "124ed61174bb4c6ea56d89e380d6bd7b",
       "version_major": 2,
       "version_minor": 0
      },
      "text/plain": [
       "PolarArea(status='deferring flush until render')"
      ]
     },
     "metadata": {},
     "output_type": "display_data"
    }
   ],
   "source": [
    "polarArea_chart = polarArea.PolarArea()\n",
    "labels = ['Coding', 'Cycling', 'Running']\n",
    "colors = ['red', 'green', 'blue']\n",
    "for i in range(3):\n",
    "    polarArea_chart.add(label = labels[i], \n",
    "                        datum = randomScalingFactor(), \n",
    "                        color = colors[i])\n",
    "polarArea_chart.get_ready_data('activity', colors, colors)\n",
    "polarArea_chart.setup()\n",
    "polarArea_chart"
   ]
  },
  {
   "cell_type": "code",
   "execution_count": null,
   "metadata": {},
   "outputs": [],
   "source": [
    "polarArea_chart.labels"
   ]
  }
 ],
 "metadata": {
  "kernelspec": {
   "display_name": "Python 3",
   "language": "python",
   "name": "python3"
  },
  "language_info": {
   "codemirror_mode": {
    "name": "ipython",
    "version": 3
   },
   "file_extension": ".py",
   "mimetype": "text/x-python",
   "name": "python",
   "nbconvert_exporter": "python",
   "pygments_lexer": "ipython3",
   "version": "3.7.0"
  }
 },
 "nbformat": 4,
 "nbformat_minor": 4
}
