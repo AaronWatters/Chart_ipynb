{
 "cells": [
  {
   "cell_type": "code",
   "execution_count": 1,
   "metadata": {},
   "outputs": [],
   "source": [
    "from chart_ipynb import utils, time_series, line, bar, scatter, doughnut \n",
    "from chart_ipynb import pie, radar, polarArea, bubble\n",
    "import random"
   ]
  },
  {
   "cell_type": "code",
   "execution_count": 7,
   "metadata": {},
   "outputs": [
    {
     "data": {
      "application/vnd.jupyter.widget-view+json": {
       "model_id": "d34d6cd1a2b0456b8fc9899d1cfed2bf",
       "version_major": 2,
       "version_minor": 0
      },
      "text/plain": [
       "VBox(children=(Pie(status='deferring flush until render'), Text(value='deferring flush until render', descript…"
      ]
     },
     "metadata": {},
     "output_type": "display_data"
    }
   ],
   "source": [
    "pie_chart = pie.Pie()\n",
    "labels = [['Eating', 'Dinner'], ['Drinking', 'Water'], \n",
    "          'Sleeping', ['Designing', 'Graphics'], \n",
    "          'Coding', 'Cycling', 'Running']\n",
    "colors = ['red', 'blue', 'green', 'cyan', 'pink', 'violet', 'purple']\n",
    "for k in range(3):\n",
    "    data = [round(random.random() * 100) for i in range(len(labels))]\n",
    "    pie_chart.add_dataset(labels, data, 'dataset'+str(k+1),\n",
    "                                backgroundColor = [utils.color_rgb(i,0.5) for i in colors],\n",
    "                                borderColor = 'white')\n",
    "pie_chart.set_title('Pie Chart - three datasets')\n",
    "pie_chart.setup()\n",
    "pie_chart.debugging_display()"
   ]
  },
  {
   "cell_type": "code",
   "execution_count": 8,
   "metadata": {},
   "outputs": [],
   "source": [
    "def callback(*arguments):\n",
    "    print(\"arguments = \", arguments)\n",
    "    dictionary = arguments[0]\n",
    "    dataIndex = dictionary[\"dataIndex\"]\n",
    "    label = dictionary[\"label\"]\n",
    "    print (\"You clicked\", dataIndex, label)\n",
    "    \n",
    "pie_chart.click_callback(callback)"
   ]
  },
  {
   "cell_type": "code",
   "execution_count": null,
   "metadata": {},
   "outputs": [],
   "source": []
  },
  {
   "cell_type": "code",
   "execution_count": null,
   "metadata": {},
   "outputs": [],
   "source": []
  }
 ],
 "metadata": {
  "kernelspec": {
   "display_name": "Python 3",
   "language": "python",
   "name": "python3"
  },
  "language_info": {
   "codemirror_mode": {
    "name": "ipython",
    "version": 3
   },
   "file_extension": ".py",
   "mimetype": "text/x-python",
   "name": "python",
   "nbconvert_exporter": "python",
   "pygments_lexer": "ipython3",
   "version": "3.6.8"
  }
 },
 "nbformat": 4,
 "nbformat_minor": 4
}
