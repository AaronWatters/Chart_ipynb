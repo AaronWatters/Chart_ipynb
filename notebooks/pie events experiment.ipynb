{
 "cells": [
  {
   "cell_type": "code",
   "execution_count": 1,
   "metadata": {},
   "outputs": [],
   "source": [
    "from chart_ipynb import pie, utils\n",
    "import random"
   ]
  },
  {
   "cell_type": "code",
   "execution_count": 2,
   "metadata": {},
   "outputs": [
    {
     "data": {
      "application/vnd.jupyter.widget-view+json": {
       "model_id": "3871a640df8b4bc7bbb82e27a7c782ee",
       "version_major": 2,
       "version_minor": 0
      },
      "text/plain": [
       "VBox(children=(Pie(status='deferring flush until render'), Text(value='deferring flush until render', descript…"
      ]
     },
     "metadata": {},
     "output_type": "display_data"
    }
   ],
   "source": [
    "pie_chart = pie.Pie()\n",
    "labels = [['Eating', 'Dinner'], ['Drinking', 'Water'], \n",
    "          'Sleeping', ['Designing', 'Graphics'], \n",
    "          'Coding', 'Cycling', 'Running']\n",
    "colors = ['red', 'blue', 'green', 'cyan', 'pink', 'violet', 'purple']\n",
    "data = [round(random.random() * 100) for i in range(len(labels))]\n",
    "pie_chart.add_dataset(labels, data, 'dataset',\n",
    "                            backgroundColor = [utils.color_rgb(i,0.1) for i in colors],\n",
    "                            borderColor = [utils.color_rgb(i) for i in colors])\n",
    "pie_chart.set_title('Pie Chart - single dataset')\n",
    "pie_chart.setup()\n",
    "pie_chart.debugging_display()"
   ]
  },
  {
   "cell_type": "code",
   "execution_count": 3,
   "metadata": {},
   "outputs": [],
   "source": [
    "# https://stackoverflow.com/questions/26257268/click-events-on-pie-charts-in-chart-js\n",
    "\n",
    "def index_callback(index):\n",
    "    print(\"for\", index, \"label is\", labels[index])\n",
    "\n",
    "pie_chart.js_init(\"\"\"\n",
    "    var canvas = element.chart_info.canvas[0];\n",
    "    var chart = element.chart_info.chart;\n",
    "    canvas.onclick = function(event) {\n",
    "        debugger;\n",
    "        console.log(\"onclick called\" + event);\n",
    "        var data = chart.getElementAtEvent(event);\n",
    "        console.log(\"data=\" + data);\n",
    "        var index = data[0]._index;\n",
    "        console.log(\"index = \" + index);\n",
    "        index_callback(index);\n",
    "    }\n",
    "\"\"\", index_callback=index_callback)"
   ]
  },
  {
   "cell_type": "code",
   "execution_count": null,
   "metadata": {},
   "outputs": [],
   "source": []
  }
 ],
 "metadata": {
  "kernelspec": {
   "display_name": "Python 3",
   "language": "python",
   "name": "python3"
  },
  "language_info": {
   "codemirror_mode": {
    "name": "ipython",
    "version": 3
   },
   "file_extension": ".py",
   "mimetype": "text/x-python",
   "name": "python",
   "nbconvert_exporter": "python",
   "pygments_lexer": "ipython3",
   "version": "3.6.8"
  }
 },
 "nbformat": 4,
 "nbformat_minor": 4
}
