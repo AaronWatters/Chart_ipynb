{
 "cells": [
  {
   "cell_type": "code",
   "execution_count": null,
   "metadata": {},
   "outputs": [],
   "source": [
    "from jp_doodle import doodle_files\n",
    "from jp_doodle import dual_canvas\n",
    "import jp_proxy_widget\n",
    "from jp_doodle import quantity_forest"
   ]
  },
  {
   "cell_type": "code",
   "execution_count": null,
   "metadata": {},
   "outputs": [],
   "source": [
    "c = dual_canvas.DualCanvasWidget(width=800)\n",
    "F = quantity_forest.FileSystemExplorer(c, \"~/repos\", degrees=45, background=\"#ddf\")"
   ]
  },
  {
   "cell_type": "code",
   "execution_count": null,
   "metadata": {},
   "outputs": [],
   "source": [
    "c"
   ]
  },
  {
   "cell_type": "code",
   "execution_count": 1,
   "metadata": {},
   "outputs": [],
   "source": [
    "from jp_doodle import doodle_files\n",
    "from jp_doodle import dual_canvas\n",
    "import jp_proxy_widget\n",
    "from chart_ipynb import pie\n",
    "from jp_doodle import quantity_forest\n",
    "from jp_doodle.quantity_forest import directory_usage\n",
    "import os\n",
    "\n",
    "class FileSystemChart(quantity_forest.FileSystemExplorer):\n",
    "\n",
    "    def __init__(self, path, width=800, epsilon=0.02):\n",
    "        path = os.path.expanduser(path)\n",
    "        path = os.path.abspath(path)\n",
    "        self.path = path\n",
    "        self.current_path = path\n",
    "        self.previous_path = path\n",
    "        self.parent_path = {path: None}\n",
    "        self.color_cache = {}\n",
    "        self.usage_cache = {}\n",
    "        self.id_to_data = {}\n",
    "        self.expanded = {}\n",
    "        self.epsilon = epsilon\n",
    "        self.width = width\n",
    "        \n",
    "        members = self.directory_members(path)\n",
    "\n",
    "        labels = [d['label'] for d in members]\n",
    "        color = [d['color'] for d in members]\n",
    "        value = [d['size'] for d in members]\n",
    "        quantity_pie = pie.Pie()\n",
    "        quantity_pie.add_dataset(labels, value, 'root', color = color)\n",
    "        self.widget = quantity_pie\n",
    "    \n",
    "    def path_update(self, directory_name):\n",
    "        path = directory_name\n",
    "        if '/' not in path:\n",
    "            path = self.current_path + '/' + directory_name\n",
    "        else:\n",
    "            directory_name = directory_name.split('/')[-1]\n",
    "        if directory_name in self.usage_cache[self.current_path]:\n",
    "            self.parent_path[path] = self.current_path\n",
    "        self.previous_path = self.current_path\n",
    "        self.current_path = path\n",
    "        self.chart_update(path)\n",
    "    \n",
    "    def go_root(self):\n",
    "        self.chart_update(self.path)\n",
    "        self.previous_path = self.current_path\n",
    "        self.current_path = self.path\n",
    "    \n",
    "    def go_previous(self):\n",
    "        temp_path = self.previous_path\n",
    "        self.previous_path = self.current_path\n",
    "        self.current_path = temp_path\n",
    "        self.chart_update(temp_path)\n",
    "    \n",
    "    def go_parent(self):\n",
    "        temp_path = self.parent_path[self.current_path]\n",
    "        if temp_path is None:\n",
    "            return\n",
    "        self.previous_path = self.current_path\n",
    "        self.current_path = temp_path\n",
    "        self.chart_update(temp_path)\n",
    "    \n",
    "    def chart_update(self, path):\n",
    "        members = self.directory_members(path)\n",
    "        labels = [d['label'] for d in members]\n",
    "        color = [d['color'] for d in members]\n",
    "        value = [d['size'] for d in members]\n",
    "        newdataset = {'label':labels,\n",
    "             'data':value,\n",
    "             'backgroundColor':color}\n",
    "        self.widget.js_init(\"\"\"\n",
    "    console.log(element.chart_info.chart.config);\n",
    "    element.chart_info.chart.config.data.datasets.splice(0, 1);\n",
    "    element.chart_info.chart.config.data.datasets.push(newDataset);\n",
    "    element.chart_info.chart.config.data.labels = newDataset.label;\n",
    "    element.chart_info.chart = new Chart(element.chart_info.context, element.chart_info.chart.config);\n",
    "\"\"\", newDataset=newdataset)\n",
    "        \n",
    "    \n",
    "    def setup_chart(self):\n",
    "        self.widget.setup(width=self.width)\n",
    "        return self.widget"
   ]
  },
  {
   "cell_type": "code",
   "execution_count": 2,
   "metadata": {},
   "outputs": [
    {
     "data": {
      "application/vnd.jupyter.widget-view+json": {
       "model_id": "8af30e0166fe4c90964dc413c6460acb",
       "version_major": 2,
       "version_minor": 0
      },
      "text/plain": [
       "Pie(status='deferring flush until render')"
      ]
     },
     "metadata": {},
     "output_type": "display_data"
    }
   ],
   "source": [
    "t = FileSystemChart(\"~/Chart_ipynb\")\n",
    "t.setup_chart()"
   ]
  },
  {
   "cell_type": "code",
   "execution_count": 3,
   "metadata": {},
   "outputs": [],
   "source": [
    "t.path_update('chart_ipynb')"
   ]
  },
  {
   "cell_type": "code",
   "execution_count": 4,
   "metadata": {},
   "outputs": [],
   "source": [
    "t.go_parent()"
   ]
  }
 ],
 "metadata": {
  "kernelspec": {
   "display_name": "Python 3",
   "language": "python",
   "name": "python3"
  },
  "language_info": {
   "codemirror_mode": {
    "name": "ipython",
    "version": 3
   },
   "file_extension": ".py",
   "mimetype": "text/x-python",
   "name": "python",
   "nbconvert_exporter": "python",
   "pygments_lexer": "ipython3",
   "version": "3.7.0"
  }
 },
 "nbformat": 4,
 "nbformat_minor": 4
}
