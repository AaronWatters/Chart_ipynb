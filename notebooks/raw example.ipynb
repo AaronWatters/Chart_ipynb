{
 "cells": [
  {
   "cell_type": "code",
   "execution_count": 1,
   "metadata": {},
   "outputs": [],
   "source": [
    "# link: https://www.chartjs.org/samples/latest/\n",
    "\n",
    "def example_function(**kw):\n",
    "    print(kw)"
   ]
  },
  {
   "cell_type": "code",
   "execution_count": 2,
   "metadata": {},
   "outputs": [
    {
     "name": "stdout",
     "output_type": "stream",
     "text": [
      "{'name': 'value', 'one': 1}\n"
     ]
    }
   ],
   "source": [
    "example_function(name=\"value\", one= 1)"
   ]
  },
  {
   "cell_type": "code",
   "execution_count": 3,
   "metadata": {},
   "outputs": [
    {
     "data": {
      "text/plain": [
       "{'type': 'pie',\n",
       " 'data': {'datasets': [{'data': [4, 5, 6, 7, 8],\n",
       "    'backgroundColor': ['red', 'orange', 'green', 'blue', 'pink'],\n",
       "    'label': 'Dataset 1'}],\n",
       "  'labels': ['Red', 'Orange', 'Yellow', 'Green', 'Blue']},\n",
       " 'options': {'responsive': True}}"
      ]
     },
     "execution_count": 3,
     "metadata": {},
     "output_type": "execute_result"
    }
   ],
   "source": [
    "config = {\n",
    "\t\t\t\"type\": 'pie',\n",
    "\t\t\t\"data\": {\n",
    "\t\t\t\t\"datasets\": [{\n",
    "\t\t\t\t\t\"data\": [4,5,6,7,8],\n",
    "\t\t\t\t\t\"backgroundColor\": \"red orange green blue pink\".split(),\n",
    "\t\t\t\t\t\"label\": 'Dataset 1'\n",
    "\t\t\t\t}],\n",
    "\t\t\t\t\"labels\": [\n",
    "\t\t\t\t\t'Red',\n",
    "\t\t\t\t\t'Orange',\n",
    "\t\t\t\t\t'Yellow',\n",
    "\t\t\t\t\t'Green',\n",
    "\t\t\t\t\t'Blue'\n",
    "\t\t\t\t]\n",
    "\t\t\t},\n",
    "\t\t\t\"options\": {\n",
    "\t\t\t\t\"responsive\": True\n",
    "\t\t\t}\n",
    "\t\t};\n",
    "config"
   ]
  },
  {
   "cell_type": "code",
   "execution_count": 4,
   "metadata": {},
   "outputs": [
    {
     "data": {
      "application/vnd.jupyter.widget-view+json": {
       "model_id": "209f42812b924f87a79f8a760645fd34",
       "version_major": 2,
       "version_minor": 0
      },
      "text/plain": [
       "ChartSuperClass(status='deferring flush until render')"
      ]
     },
     "metadata": {},
     "output_type": "display_data"
    }
   ],
   "source": [
    "from chart_ipynb.chart_framework import ChartSuperClass\n",
    "result = ChartSuperClass()\n",
    "result.initialize_chart(width=800, config=config)\n",
    "result"
   ]
  },
  {
   "cell_type": "code",
   "execution_count": 5,
   "metadata": {},
   "outputs": [
    {
     "data": {
      "text/plain": [
       "{'type': 'pie',\n",
       " 'data': {'datasets': [{'data': [4, 5, 6, 7, 8],\n",
       "    'label': 'Dataset 1',\n",
       "    'backgroundColor': ['red', 'orange', 'green', 'blue', 'pink']}],\n",
       "  'labels': ['Red', 'Orange', 'Yellow', 'Green', 'Blue']},\n",
       " 'options': {'responsive': True}}"
      ]
     },
     "execution_count": 5,
     "metadata": {},
     "output_type": "execute_result"
    }
   ],
   "source": [
    "from chart_ipynb import utils\n",
    "\n",
    "config = utils.config(\n",
    "\t\t\ttype= 'pie',\n",
    "\t\t\tdata= utils.data(\n",
    "\t\t\t\tdatasets= [\n",
    "                    utils.dataset(\n",
    "                        data= [4,5,6,7,8],\n",
    "                        backgroundColor= \"red orange green blue pink\".split(),\n",
    "                        label= 'Dataset 1'\n",
    "                    )\n",
    "                ],\n",
    "\t\t\t\tlabels= [\n",
    "\t\t\t\t\t'Red',\n",
    "\t\t\t\t\t'Orange',\n",
    "\t\t\t\t\t'Yellow',\n",
    "\t\t\t\t\t'Green',\n",
    "\t\t\t\t\t'Blue'\n",
    "\t\t\t\t],\n",
    "            ),\n",
    "\t\t\toptions= {\n",
    "\t\t\t\t\"responsive\": True\n",
    "\t\t\t},\n",
    ");\n",
    "config"
   ]
  },
  {
   "cell_type": "code",
   "execution_count": 6,
   "metadata": {},
   "outputs": [
    {
     "data": {
      "application/vnd.jupyter.widget-view+json": {
       "model_id": "9c8cf6f1e8e44fe4a7735c315579708f",
       "version_major": 2,
       "version_minor": 0
      },
      "text/plain": [
       "ChartSuperClass(status='deferring flush until render')"
      ]
     },
     "metadata": {},
     "output_type": "display_data"
    }
   ],
   "source": [
    "result = ChartSuperClass()\n",
    "result.initialize_chart(width=800, config=config)\n",
    "result"
   ]
  },
  {
   "cell_type": "markdown",
   "metadata": {},
   "source": [
    "__________"
   ]
  },
  {
   "cell_type": "markdown",
   "metadata": {},
   "source": [
    "# Line Chart"
   ]
  },
  {
   "cell_type": "code",
   "execution_count": 7,
   "metadata": {},
   "outputs": [],
   "source": [
    "from chart_ipynb import utils\n",
    "def randomScalingFactor():\n",
    "    import random\n",
    "    return round(random.random() * 100)\n",
    "config = utils.config(\n",
    "        type='line',\n",
    "        data=utils.data(\n",
    "            labels=['January', 'February', 'March', 'April', 'May', 'June', 'July','August', 'September', 'October', 'November', 'December'],\n",
    "            datasets= [utils.dataset(\n",
    "                label='My First dataset',\n",
    "                backgroundColor='red',\n",
    "                borderColor='red',\n",
    "                data=[\n",
    "                    randomScalingFactor(),\n",
    "                    randomScalingFactor(),\n",
    "                    randomScalingFactor(),\n",
    "                    randomScalingFactor(),\n",
    "                    randomScalingFactor(),\n",
    "                    randomScalingFactor(),\n",
    "                    randomScalingFactor(),\n",
    "                    randomScalingFactor(),\n",
    "                    randomScalingFactor(),\n",
    "                    randomScalingFactor(),\n",
    "                    randomScalingFactor(),\n",
    "                    randomScalingFactor()\n",
    "                ],\n",
    "                fill= False,\n",
    "                ), utils.dataset(\n",
    "                label='My Second dataset',\n",
    "                fill=False,\n",
    "                backgroundColor='blue',\n",
    "                borderColor='blue',\n",
    "                data=[\n",
    "                    randomScalingFactor(),\n",
    "                    randomScalingFactor(),\n",
    "                    randomScalingFactor(),\n",
    "                    randomScalingFactor(),\n",
    "                    randomScalingFactor(),\n",
    "                    randomScalingFactor(),\n",
    "                    randomScalingFactor(),\n",
    "                    randomScalingFactor(),\n",
    "                    randomScalingFactor(),\n",
    "                    randomScalingFactor(),\n",
    "                    randomScalingFactor(),\n",
    "                    randomScalingFactor()\n",
    "                ],\n",
    "                )]\n",
    "        ),\n",
    "        options={\n",
    "            \"responsive\":True,\n",
    "            \"title\":{\n",
    "                \"display\": True,\n",
    "                \"text\":'Chart.js Line Chart'\n",
    "            },\n",
    "            \"tooltips\":{\n",
    "                \"mode\":'index',\n",
    "                'intersect':False,\n",
    "            },\n",
    "            'hover':{\n",
    "                'mode':'nearest',\n",
    "                'intersect':True\n",
    "            },\n",
    "            'scales':{\n",
    "                'xAxes':[{\n",
    "                    'display': True,\n",
    "                    'scaleLabel':{\n",
    "                        'display': True,\n",
    "                        'labelString':'Month'\n",
    "                    }\n",
    "                }],\n",
    "                'yAxes':[{\n",
    "                    'display':True,\n",
    "                    'scaleLabel':{\n",
    "                        'display':True,\n",
    "                        'labelString':'Value'\n",
    "                    },\n",
    "                    'ticks':{\n",
    "                        'min': 0,\n",
    "                        'max': 100,\n",
    "\n",
    "#                         forces step size to be 5 units\n",
    "                        'stepSize': 5\n",
    "                    }\n",
    "                }]\n",
    "            }\n",
    "        }\n",
    ")"
   ]
  },
  {
   "cell_type": "code",
   "execution_count": 8,
   "metadata": {},
   "outputs": [
    {
     "data": {
      "application/vnd.jupyter.widget-view+json": {
       "model_id": "420736126b174f24ae298a365c6e2134",
       "version_major": 2,
       "version_minor": 0
      },
      "text/plain": [
       "ChartSuperClass(status='deferring flush until render')"
      ]
     },
     "metadata": {},
     "output_type": "display_data"
    }
   ],
   "source": [
    "from chart_ipynb.chart_framework import ChartSuperClass\n",
    "line_chart = ChartSuperClass()\n",
    "line_chart.initialize_chart(width=800, config=config)\n",
    "line_chart"
   ]
  },
  {
   "cell_type": "markdown",
   "metadata": {},
   "source": [
    "# Stacked Bar Chart"
   ]
  },
  {
   "cell_type": "code",
   "execution_count": 9,
   "metadata": {},
   "outputs": [],
   "source": [
    "from chart_ipynb import utils\n",
    "def randomScalingFactor():\n",
    "    import random\n",
    "    return round(random.random() * random.randint(-1,1) * 100)\n",
    "barChartData = utils.data(\n",
    "        labels = ['January', 'February', 'March', 'April', 'May', 'June', 'July'],\n",
    "        datasets = [utils.dataset(\n",
    "            label ='Dataset 1',\n",
    "            backgroundColor = 'rgb(255, 99, 132)',\n",
    "            data = [\n",
    "                randomScalingFactor(),\n",
    "                randomScalingFactor(),\n",
    "                randomScalingFactor(),\n",
    "                randomScalingFactor(),\n",
    "                randomScalingFactor(),\n",
    "                randomScalingFactor(),\n",
    "                randomScalingFactor()\n",
    "            ]\n",
    "        ), utils.dataset(\n",
    "            label = 'Dataset 2',\n",
    "            backgroundColor = 'rgb(54, 162, 235)',\n",
    "            data = [\n",
    "                randomScalingFactor(),\n",
    "                randomScalingFactor(),\n",
    "                randomScalingFactor(),\n",
    "                randomScalingFactor(),\n",
    "                randomScalingFactor(),\n",
    "                randomScalingFactor(),\n",
    "                randomScalingFactor()\n",
    "            ]\n",
    "            ), utils.dataset(\n",
    "            label = 'Dataset 3',\n",
    "            backgroundColor = 'rgb(75, 192, 192)',\n",
    "            data = [\n",
    "                randomScalingFactor(),\n",
    "                randomScalingFactor(),\n",
    "                randomScalingFactor(),\n",
    "                randomScalingFactor(),\n",
    "                randomScalingFactor(),\n",
    "                randomScalingFactor(),\n",
    "                randomScalingFactor()\n",
    "            ]\n",
    "        )]\n",
    ")\n",
    "config = utils.config(\n",
    "            type = 'bar',\n",
    "            data = barChartData,\n",
    "            options = {\n",
    "                'title': {\n",
    "                    'display': True,\n",
    "                    'text': 'Chart.js Bar Chart - Stacked'\n",
    "                },\n",
    "                'tooltips': {\n",
    "                    'mode': 'index',\n",
    "                    'intersect': False\n",
    "                },\n",
    "                'responsive': True,\n",
    "                'scales': {\n",
    "                    'xAxes': [{\n",
    "                        'stacked': True,\n",
    "                    }],\n",
    "                    'yAxes': [{\n",
    "                        'stacked': True\n",
    "                    }]\n",
    "                }\n",
    "            }\n",
    ")"
   ]
  },
  {
   "cell_type": "code",
   "execution_count": 10,
   "metadata": {},
   "outputs": [
    {
     "data": {
      "application/vnd.jupyter.widget-view+json": {
       "model_id": "3ac8db896ae44f8395e7373514da8da6",
       "version_major": 2,
       "version_minor": 0
      },
      "text/plain": [
       "ChartSuperClass(status='deferring flush until render')"
      ]
     },
     "metadata": {},
     "output_type": "display_data"
    }
   ],
   "source": [
    "from chart_ipynb.chart_framework import ChartSuperClass\n",
    "stacked_bar = ChartSuperClass()\n",
    "stacked_bar.initialize_chart(width=500, config=config)\n",
    "stacked_bar"
   ]
  },
  {
   "cell_type": "markdown",
   "metadata": {},
   "source": [
    "# Scatter Chart - Multi Axis"
   ]
  },
  {
   "cell_type": "code",
   "execution_count": 11,
   "metadata": {},
   "outputs": [],
   "source": [
    "from chart_ipynb import utils\n",
    "from chart_ipynb.chart_framework import ChartSuperClass\n",
    "def randomScalingFactor():\n",
    "    import random\n",
    "    return round(random.random() * random.randint(-1,1) * 100)"
   ]
  },
  {
   "cell_type": "code",
   "execution_count": 12,
   "metadata": {},
   "outputs": [],
   "source": [
    "scatterChartData = utils.data(\n",
    "    datasets =  [utils.dataset(\n",
    "        label = 'My First dataset',\n",
    "        xAxisID = 'x-axis-1',\n",
    "        yAxisID = 'y-axis-1',\n",
    "        borderColor = 'white',\n",
    "        backgroundColor = 'red',\n",
    "        data = [{\n",
    "            'x': randomScalingFactor(),\n",
    "            'y': randomScalingFactor(),\n",
    "        }, {\n",
    "            'x': randomScalingFactor(),\n",
    "            'y': randomScalingFactor(),\n",
    "        }, {\n",
    "            'x': randomScalingFactor(),\n",
    "            'y': randomScalingFactor(),\n",
    "        }, {\n",
    "            'x': randomScalingFactor(),\n",
    "            'y': randomScalingFactor(),\n",
    "        }, {\n",
    "            'x': randomScalingFactor(),\n",
    "            'y': randomScalingFactor(),\n",
    "        }, {\n",
    "            'x': randomScalingFactor(),\n",
    "            'y': randomScalingFactor(),\n",
    "        }, {\n",
    "            'x': randomScalingFactor(),\n",
    "            'y': randomScalingFactor(),\n",
    "        }]\n",
    "    ), utils.dataset(\n",
    "        label = 'My Second dataset',\n",
    "        xAxisID = 'x-axis-1',\n",
    "        yAxisID = 'y-axis-2',\n",
    "        borderColor = 'white',\n",
    "        backgroundColor = 'blue',\n",
    "        data = [{\n",
    "            'x': randomScalingFactor(),\n",
    "            'y': randomScalingFactor(),\n",
    "        }, {\n",
    "            'x': randomScalingFactor(),\n",
    "            'y': randomScalingFactor(),\n",
    "        }, {\n",
    "            'x': randomScalingFactor(),\n",
    "            'y': randomScalingFactor(),\n",
    "        }, {\n",
    "            'x': randomScalingFactor(),\n",
    "            'y': randomScalingFactor(),\n",
    "        }, {\n",
    "            'x': randomScalingFactor(),\n",
    "            'y': randomScalingFactor(),\n",
    "        }, {\n",
    "            'x': randomScalingFactor(),\n",
    "            'y': randomScalingFactor(),\n",
    "        }, {\n",
    "            'x': randomScalingFactor(),\n",
    "            'y': randomScalingFactor(),\n",
    "        }]\n",
    "    )]\n",
    ")\n",
    "config = utils.config(\n",
    "        type = 'scatter',\n",
    "        data = scatterChartData,\n",
    "        options = {\n",
    "            'responsive': True,\n",
    "            'hoverMode': 'nearest',\n",
    "            'intersect': True,\n",
    "            'title': {\n",
    "                'display': True,\n",
    "                'text': 'Chart.js Scatter Chart - Multi Axis'\n",
    "            },\n",
    "            'scales': {\n",
    "                'xAxes': [{\n",
    "                    'position': 'bottom',\n",
    "                    'gridLines': {\n",
    "                        'zeroLineColor': 'rgba(0,0,0,1)'\n",
    "                    }\n",
    "                }],\n",
    "                'yAxes': [{\n",
    "                    'type': 'linear', # only linear but allow scale type registration. This allows extensions to exist solely for log scale for instance\n",
    "                    'display': True,\n",
    "                    'position': 'left',\n",
    "                    'id': 'y-axis-1',\n",
    "                }, {\n",
    "                    'type': 'linear', # only linear but allow scale type registration. This allows extensions to exist solely for log scale for instance\n",
    "                    'display': True,\n",
    "                    'position': 'right',\n",
    "                    'reverse': True,\n",
    "                    'id': 'y-axis-2',\n",
    "\n",
    "                    # grid line settings\n",
    "                    'gridLines': {\n",
    "                        'drawOnChartArea': False, # only want the grid lines for one axis to show up\n",
    "                    },\n",
    "                }],\n",
    "            }\n",
    "        }\n",
    ")"
   ]
  },
  {
   "cell_type": "code",
   "execution_count": 13,
   "metadata": {},
   "outputs": [
    {
     "data": {
      "application/vnd.jupyter.widget-view+json": {
       "model_id": "72fbd5c0077748548997d1198530fcb2",
       "version_major": 2,
       "version_minor": 0
      },
      "text/plain": [
       "ChartSuperClass(status='deferring flush until render')"
      ]
     },
     "metadata": {},
     "output_type": "display_data"
    }
   ],
   "source": [
    "scatter_chart = ChartSuperClass()\n",
    "scatter_chart.initialize_chart(width=800, config=config)\n",
    "scatter_chart"
   ]
  },
  {
   "cell_type": "markdown",
   "metadata": {},
   "source": [
    "# Polar Area Chart"
   ]
  },
  {
   "cell_type": "code",
   "execution_count": 14,
   "metadata": {},
   "outputs": [],
   "source": [
    "from chart_ipynb import utils\n",
    "from chart_ipynb.chart_framework import ChartSuperClass\n",
    "def randomScalingFactor():\n",
    "    import random\n",
    "    return round(random.random() * 100)"
   ]
  },
  {
   "cell_type": "code",
   "execution_count": 15,
   "metadata": {},
   "outputs": [],
   "source": [
    "colors = dict(\n",
    "    red= 'rgb(255, 99, 132, 0.5)',\n",
    "    orange= 'rgb(255, 159, 64, 0.5)',\n",
    "    yellow= 'rgb(255, 205, 86, 0.5)',\n",
    "    green= 'rgb(75, 192, 192, 0.5)',\n",
    "    blue= 'rgb(54, 162, 235, 0.5)',\n",
    "    purple= 'rgb(153, 102, 255, 0.5)',\n",
    "    grey= 'rgb(201, 203, 207, 0.5)'\n",
    ")\n",
    "config = utils.config(\n",
    "        type = 'polarArea',\n",
    "        data = utils.data(\n",
    "            datasets = [utils.dataset(\n",
    "                data = [\n",
    "                    randomScalingFactor(),\n",
    "                    randomScalingFactor(),\n",
    "                    randomScalingFactor(),\n",
    "                    randomScalingFactor(),\n",
    "                    randomScalingFactor(),\n",
    "                ],\n",
    "                backgroundColor = [\n",
    "                    colors['red'],\n",
    "                    colors['orange'],\n",
    "                    colors['yellow'],\n",
    "                    colors['green'],\n",
    "                    colors['blue'],\n",
    "                ],\n",
    "                label = 'my dataset' # for legend\n",
    "            )],\n",
    "            labels = [\n",
    "                'Red',\n",
    "                'Orange',\n",
    "                'Yellow',\n",
    "                'Green',\n",
    "                'Blue'\n",
    "            ]\n",
    "        ),\n",
    "        options = utils.options(\n",
    "            responsive = True,\n",
    "            legend = {\n",
    "                'position': 'top',\n",
    "            },\n",
    "            title = {\n",
    "                'display': True,\n",
    "                'text': 'Chart.js Polar Area Chart'\n",
    "            },\n",
    "            scale = {\n",
    "                'ticks': {\n",
    "                    'beginAtZero': True\n",
    "                },\n",
    "                'reverse': False\n",
    "            },\n",
    "            animation = {\n",
    "                'animateRotate': False,\n",
    "                'animateScale': True\n",
    "            }\n",
    "        )\n",
    ")"
   ]
  },
  {
   "cell_type": "code",
   "execution_count": 16,
   "metadata": {},
   "outputs": [
    {
     "data": {
      "application/vnd.jupyter.widget-view+json": {
       "model_id": "e7e74c6cbaba4066bd7d50bd8ad896e7",
       "version_major": 2,
       "version_minor": 0
      },
      "text/plain": [
       "ChartSuperClass(status='deferring flush until render')"
      ]
     },
     "metadata": {},
     "output_type": "display_data"
    }
   ],
   "source": [
    "polar_area = ChartSuperClass()\n",
    "polar_area.initialize_chart(width=500, config=config)\n",
    "polar_area"
   ]
  },
  {
   "cell_type": "markdown",
   "metadata": {},
   "source": [
    "# Bubble Chart"
   ]
  },
  {
   "cell_type": "code",
   "execution_count": 17,
   "metadata": {},
   "outputs": [],
   "source": [
    "from chart_ipynb import utils\n",
    "from chart_ipynb.chart_framework import ChartSuperClass"
   ]
  },
  {
   "cell_type": "code",
   "execution_count": 18,
   "metadata": {},
   "outputs": [],
   "source": [
    "DATA_COUNT = 16\n",
    "MIN_XY = -150\n",
    "MAX_XY = 100\n",
    "\n",
    "def rand(_min, _max):\n",
    "    import numpy as np\n",
    "    return _min + np.random.random()*_max\n",
    "\n",
    "def generateData():\n",
    "    data = []\n",
    "    for i in range(DATA_COUNT):\n",
    "        data.append({\n",
    "            'x': rand(MIN_XY, MAX_XY),\n",
    "            'y': rand(MIN_XY, MAX_XY),\n",
    "            'v': rand(0, 1000)\n",
    "        })\n",
    "    return data\n",
    "\n",
    "def colorize(opaque, context):\n",
    "    value = context.dataset.data[context.dataIndex];\n",
    "    x = value.x / 100;\n",
    "    y = value.y / 100;\n",
    "    r, g, b = 0, 0, 0\n",
    "    if x < 0 & y<0 :\n",
    "        r = 250\n",
    "    elif x < 0:\n",
    "        r = 150\n",
    "        g = 50\n",
    "        b = 150\n",
    "    elif y < 0:\n",
    "        r = 50\n",
    "        g = 150\n",
    "        b = 150\n",
    "    else:\n",
    "        g = 250\n",
    "        b = 250\n",
    "    a = 1 if opaque else 0.5 * value.v / 1000\n",
    "    return 'rgb(' + r + ',' + g + ',' + b + ',' + a + ')'\n",
    "\n",
    "def radius(context):\n",
    "    value = context.dataset.data[context.dataIndex]\n",
    "    size = context.chart.width;\n",
    "    base = Math.abs(value.v) / 1000\n",
    "    return (size / 24) * base"
   ]
  },
  {
   "cell_type": "code",
   "execution_count": 53,
   "metadata": {},
   "outputs": [
    {
     "data": {
      "text/plain": [
       "['rgb(100, 100, 200)',\n",
       " 'rgb(100, 100, 200)',\n",
       " 'rgb(100, 100, 200)',\n",
       " 'rgb(100, 100, 200)',\n",
       " 'rgb(100, 100, 200)',\n",
       " 'rgb(100, 100, 200)',\n",
       " 'rgb(100, 100, 200)',\n",
       " 'rgb(100, 100, 200)',\n",
       " 'rgb(100, 100, 200)',\n",
       " 'rgb(100, 100, 200)',\n",
       " 'rgb(100, 100, 200)',\n",
       " 'rgb(100, 100, 200)',\n",
       " 'rgb(100, 100, 200)',\n",
       " 'rgb(100, 100, 200)',\n",
       " 'rgb(100, 100, 200)',\n",
       " 'rgb(100, 100, 200)']"
      ]
     },
     "execution_count": 53,
     "metadata": {},
     "output_type": "execute_result"
    }
   ],
   "source": [
    "mydata = generateData()\n",
    "mydata\n",
    "radii = [abs(d[\"v\"]*0.01) for d in mydata]\n",
    "radii\n",
    "\n",
    "import random\n",
    "COLORS = [\n",
    "    '#4dc9f6',\n",
    "    '#f67019',\n",
    "    '#f53794',\n",
    "    '#537bc4',\n",
    "    '#acc236',\n",
    "    '#166a8f',\n",
    "    '#00a950',\n",
    "    '#58595b',\n",
    "    '#8549ba'\n",
    "]\n",
    "def get_color():\n",
    "    return random.choice(COLORS)\n",
    "\n",
    "the_colors = [get_color() for d in mydata]\n",
    "the_colors = [\"rgb(100, 100, 200)\" for d in mydata]\n",
    "the_colors"
   ]
  },
  {
   "cell_type": "code",
   "execution_count": 58,
   "metadata": {},
   "outputs": [],
   "source": [
    "#radii = [radius(d) for d in mydata]\n",
    "COLORS = [\n",
    "    '#4dc9f6',\n",
    "    '#f67019',\n",
    "    '#f53794',\n",
    "    '#537bc4',\n",
    "    '#acc236',\n",
    "    '#166a8f',\n",
    "    '#00a950',\n",
    "    '#58595b',\n",
    "    '#8549ba'\n",
    "]\n",
    "data = utils.data(\n",
    "    datasets = [utils.dataset(\n",
    "        data = generateData(),\n",
    "        radius = radii,\n",
    "        backgroundColor = 'rgb(100, 100, 200)'\n",
    "    ), utils.dataset(\n",
    "        data = generateData(),\n",
    "        radius = radii,\n",
    "        backgroundColor = 'rgb(100, 200, 200)'\n",
    "    )]\n",
    ")\n",
    "options = utils.options(\n",
    "    aspectRatio =  1,\n",
    "    legend = False,\n",
    "    tooltips = False,\n",
    "\n",
    "#    elements = {\n",
    "#        'point': {\n",
    "#             'backgroundColor': colorize(False, context),\n",
    "\n",
    "#             'borderColor': colorize(True, context),\n",
    "\n",
    "#             'borderWidth': lambda context: min(max(1, context.datasetIndex + 1), 8),\n",
    "#             'hoverBackgroundColor' : 'transparent',\n",
    "\n",
    "             #'hoverBorderColor': lambda context:COLORS[context.datasetIndex],\n",
    "\n",
    "#             'hoverBorderWidth': lambda context: round(8 * context.dataset.data[context.dataIndex].v / 1000),\n",
    "\n",
    "#             'radius': radii\n",
    "#    }}\n",
    ")\n",
    "\n",
    "config = utils.config(\n",
    "    type = 'bubble',\n",
    "    data = data,\n",
    "    options = options\n",
    ")"
   ]
  },
  {
   "cell_type": "code",
   "execution_count": 59,
   "metadata": {
    "scrolled": false
   },
   "outputs": [
    {
     "data": {
      "application/vnd.jupyter.widget-view+json": {
       "model_id": "d77632e4f8ac4c5ca6168fd3bfe8dfc3",
       "version_major": 2,
       "version_minor": 0
      },
      "text/plain": [
       "VBox(children=(ChartSuperClass(status='deferring flush until render'), Text(value='deferring flush until rende…"
      ]
     },
     "metadata": {},
     "output_type": "display_data"
    }
   ],
   "source": [
    "bubble = ChartSuperClass()\n",
    "bubble.initialize_chart(width=500, config=config)\n",
    "bubble.debugging_display()"
   ]
  },
  {
   "cell_type": "code",
   "execution_count": null,
   "metadata": {},
   "outputs": [],
   "source": []
  }
 ],
 "metadata": {
  "kernelspec": {
   "display_name": "Python 3",
   "language": "python",
   "name": "python3"
  },
  "language_info": {
   "codemirror_mode": {
    "name": "ipython",
    "version": 3
   },
   "file_extension": ".py",
   "mimetype": "text/x-python",
   "name": "python",
   "nbconvert_exporter": "python",
   "pygments_lexer": "ipython3",
   "version": "3.6.8"
  }
 },
 "nbformat": 4,
 "nbformat_minor": 4
}
