{
 "cells": [
  {
   "cell_type": "code",
   "execution_count": 1,
   "metadata": {},
   "outputs": [],
   "source": [
    "# link: https://www.chartjs.org/samples/latest/\n",
    "\n",
    "def example_function(**kw):\n",
    "    print(kw)"
   ]
  },
  {
   "cell_type": "code",
   "execution_count": 4,
   "metadata": {},
   "outputs": [
    {
     "name": "stdout",
     "output_type": "stream",
     "text": [
      "{'name': 'value', 'one': 1}\n"
     ]
    }
   ],
   "source": [
    "example_function(name=\"value\", one= 1)"
   ]
  },
  {
   "cell_type": "code",
   "execution_count": 9,
   "metadata": {},
   "outputs": [
    {
     "data": {
      "text/plain": [
       "{'type': 'pie',\n",
       " 'data': {'datasets': [{'data': [4, 5, 6, 7, 8],\n",
       "    'backgroundColor': ['red', 'orange', 'green', 'blue', 'pink'],\n",
       "    'label': 'Dataset 1'}],\n",
       "  'labels': ['Red', 'Orange', 'Yellow', 'Green', 'Blue']},\n",
       " 'options': {'responsive': True}}"
      ]
     },
     "execution_count": 9,
     "metadata": {},
     "output_type": "execute_result"
    }
   ],
   "source": [
    "config = {\n",
    "\t\t\t\"type\": 'pie',\n",
    "\t\t\t\"data\": {\n",
    "\t\t\t\t\"datasets\": [{\n",
    "\t\t\t\t\t\"data\": [4,5,6,7,8],\n",
    "\t\t\t\t\t\"backgroundColor\": \"red orange green blue pink\".split(),\n",
    "\t\t\t\t\t\"label\": 'Dataset 1'\n",
    "\t\t\t\t}],\n",
    "\t\t\t\t\"labels\": [\n",
    "\t\t\t\t\t'Red',\n",
    "\t\t\t\t\t'Orange',\n",
    "\t\t\t\t\t'Yellow',\n",
    "\t\t\t\t\t'Green',\n",
    "\t\t\t\t\t'Blue'\n",
    "\t\t\t\t]\n",
    "\t\t\t},\n",
    "\t\t\t\"options\": {\n",
    "\t\t\t\t\"responsive\": True\n",
    "\t\t\t}\n",
    "\t\t};\n",
    "config"
   ]
  },
  {
   "cell_type": "code",
   "execution_count": 12,
   "metadata": {},
   "outputs": [
    {
     "data": {
      "application/vnd.jupyter.widget-view+json": {
       "model_id": "d5fca21a0e114a9ab978c6a610affe4b",
       "version_major": 2,
       "version_minor": 0
      },
      "text/plain": [
       "ChartSuperClass(status='deferring flush until render')"
      ]
     },
     "metadata": {},
     "output_type": "display_data"
    }
   ],
   "source": [
    "from chart_ipynb.chart_framework import ChartSuperClass\n",
    "result = ChartSuperClass()\n",
    "result.initialize_chart(width=800, config=config)\n",
    "result"
   ]
  },
  {
   "cell_type": "code",
   "execution_count": 17,
   "metadata": {},
   "outputs": [
    {
     "data": {
      "text/plain": [
       "{'type': 'pie',\n",
       " 'data': {'datasets': [{'data': [4, 5, 6, 7, 8],\n",
       "    'label': 'Dataset 1',\n",
       "    'backgroundColor': ['red', 'orange', 'green', 'blue', 'pink']}],\n",
       "  'labels': ['Red', 'Orange', 'Yellow', 'Green', 'Blue']},\n",
       " 'options': {'responsive': True}}"
      ]
     },
     "execution_count": 17,
     "metadata": {},
     "output_type": "execute_result"
    }
   ],
   "source": [
    "from chart_ipynb import utils\n",
    "\n",
    "config = utils.config(\n",
    "\t\t\ttype= 'pie',\n",
    "\t\t\tdata= utils.data(\n",
    "\t\t\t\tdatasets= [\n",
    "                    utils.dataset(\n",
    "                        data= [4,5,6,7,8],\n",
    "                        backgroundColor= \"red orange green blue pink\".split(),\n",
    "                        label= 'Dataset 1'\n",
    "                    )\n",
    "                ],\n",
    "\t\t\t\tlabels= [\n",
    "\t\t\t\t\t'Red',\n",
    "\t\t\t\t\t'Orange',\n",
    "\t\t\t\t\t'Yellow',\n",
    "\t\t\t\t\t'Green',\n",
    "\t\t\t\t\t'Blue'\n",
    "\t\t\t\t],\n",
    "            ),\n",
    "\t\t\toptions= {\n",
    "\t\t\t\t\"responsive\": True\n",
    "\t\t\t},\n",
    ");\n",
    "config"
   ]
  },
  {
   "cell_type": "code",
   "execution_count": 18,
   "metadata": {},
   "outputs": [
    {
     "data": {
      "application/vnd.jupyter.widget-view+json": {
       "model_id": "12fa1cf1f67e4ae8965627105a4e88c3",
       "version_major": 2,
       "version_minor": 0
      },
      "text/plain": [
       "ChartSuperClass(status='deferring flush until render')"
      ]
     },
     "metadata": {},
     "output_type": "display_data"
    }
   ],
   "source": [
    "result = ChartSuperClass()\n",
    "result.initialize_chart(width=800, config=config)\n",
    "result"
   ]
  },
  {
   "cell_type": "code",
   "execution_count": null,
   "metadata": {},
   "outputs": [],
   "source": []
  }
 ],
 "metadata": {
  "kernelspec": {
   "display_name": "Python 3",
   "language": "python",
   "name": "python3"
  },
  "language_info": {
   "codemirror_mode": {
    "name": "ipython",
    "version": 3
   },
   "file_extension": ".py",
   "mimetype": "text/x-python",
   "name": "python",
   "nbconvert_exporter": "python",
   "pygments_lexer": "ipython3",
   "version": "3.6.8"
  }
 },
 "nbformat": 4,
 "nbformat_minor": 4
}
