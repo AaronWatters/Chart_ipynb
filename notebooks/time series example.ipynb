{
 "cells": [
  {
   "cell_type": "code",
   "execution_count": 1,
   "metadata": {},
   "outputs": [],
   "source": [
    "from chart_ipynb import utils\n",
    "from chart_ipynb.chart_framework import ChartSuperClass\n",
    "import numpy as np\n",
    "import pandas as pd\n",
    "import pandas_datareader\n",
    "import pandas_datareader.data as web\n",
    "import datetime\n",
    "import time"
   ]
  },
  {
   "cell_type": "code",
   "execution_count": 2,
   "metadata": {},
   "outputs": [],
   "source": [
    "api_key = '1JFowowyzc-FnajAsDkY'\n",
    "start = datetime.datetime(2017,1,1)\n",
    "end = datetime.datetime(2018,1,1)\n",
    "aapl = web.DataReader('AAPL',\"quandl\", start, end, api_key = api_key)\n",
    "amzn = web.DataReader('AMZN',\"quandl\", start, end, api_key = api_key)\n",
    "googl = web.DataReader('GOOGL',\"quandl\", start, end, api_key = api_key)"
   ]
  },
  {
   "cell_type": "code",
   "execution_count": 3,
   "metadata": {},
   "outputs": [],
   "source": [
    "aapl.head()"
   ]
  },
  {
   "cell_type": "code",
   "execution_count": 4,
   "metadata": {},
   "outputs": [],
   "source": [
    "amzn.head()"
   ]
  },
  {
   "cell_type": "code",
   "execution_count": 5,
   "metadata": {},
   "outputs": [],
   "source": [
    "googl.head()"
   ]
  },
  {
   "cell_type": "code",
   "execution_count": 6,
   "metadata": {},
   "outputs": [],
   "source": [
    "col = 'Close'\n",
    "aapl_col = aapl[col]\n",
    "amzn_col = amzn[col]\n",
    "googl_col = googl[col]"
   ]
  },
  {
   "cell_type": "code",
   "execution_count": 7,
   "metadata": {},
   "outputs": [],
   "source": [
    "def data_format(dataset, val_col):\n",
    "    \"\"\"\n",
    "    dataset: pd.DataFrame\n",
    "    val_col: the column name for the target value. e.g 'Close'\n",
    "    \"\"\"\n",
    "    data = dataset[val_col]\n",
    "    idx_reset_df = dataset.reset_index()\n",
    "    if 'Date' not in idx_reset_df.columns:\n",
    "        return 'please rename the date columns to \"Date\"'\n",
    "    sort_df = idx_reset_df.sort_values(by='Date')\n",
    "    sort_df['Date']=sort_df['Date'].astype(str)\n",
    "    return  list(sort_df[val_col]), list(sort_df['Date'])"
   ]
  },
  {
   "cell_type": "code",
   "execution_count": 8,
   "metadata": {},
   "outputs": [],
   "source": [
    "aapl_val, aapl_label = data_format(aapl, 'Close')\n",
    "amzn_val, amzn_label = data_format(amzn, 'Close')\n",
    "googl_val, googl_label = data_format(googl, 'Close')"
   ]
  },
  {
   "cell_type": "code",
   "execution_count": 9,
   "metadata": {},
   "outputs": [],
   "source": [
    "dataset1 = utils.dataset(\n",
    "                label = 'AAPL',\n",
    "                backgroundColor = utils.color_rgb('red',0.5),\n",
    "                borderColor = utils.color_rgb('red'),\n",
    "                data = aapl_val,\n",
    "                type = 'line',\n",
    "                pointRadius = 0,\n",
    "                fill = False,\n",
    "                lineTension = 0,\n",
    "                borderWidth = 2\n",
    "            )\n",
    "dataset2 = utils.dataset(\n",
    "                label = 'AMZN',\n",
    "                backgroundColor = utils.color_rgb('blue',0.5),\n",
    "                borderColor = utils.color_rgb('blue'),\n",
    "                data = amzn_val,\n",
    "                type = 'line',\n",
    "                pointRadius = 0,\n",
    "                fill = False,\n",
    "                lineTension = 0,\n",
    "                borderWidth = 2\n",
    "            )\n",
    "dataset3 = utils.dataset(\n",
    "                label = 'GOOGL',\n",
    "                backgroundColor = utils.color_rgb('green',0.5),\n",
    "                borderColor = utils.color_rgb('green'),\n",
    "                data = googl_val,\n",
    "                type = 'line',\n",
    "                pointRadius = 0,\n",
    "                fill = False,\n",
    "                lineTension = 0,\n",
    "                borderWidth = 2\n",
    "            )\n",
    "data = utils.data(\n",
    "    labels = aapl_label,\n",
    "    datasets = [dataset1,dataset2,dataset3]\n",
    ")"
   ]
  },
  {
   "cell_type": "code",
   "execution_count": 10,
   "metadata": {},
   "outputs": [],
   "source": [
    "config = utils.config(\n",
    "        type = 'line',\n",
    "        data = data,\n",
    "        options = utils.options(\n",
    "            animation = {\n",
    "                'duration': 0\n",
    "            },\n",
    "            scales = {\n",
    "                'xAxes': [{\n",
    "                    'display':True,\n",
    "                    'scaleLabel':{\n",
    "                        'display':True,\n",
    "                        'labelString':'Date'\n",
    "                    }\n",
    "                    ,'ticks': {\n",
    "                        'major': {\n",
    "                            'enabled': True,\n",
    "                            'fontStyle': 'bold'\n",
    "                        },\n",
    "                        'source': 'data',\n",
    "                        'autoSkip': True,\n",
    "                        'autoSkipPadding': 10,\n",
    "                        'maxRotation': 60,\n",
    "                    },\n",
    "                }],\n",
    "                'yAxes': [{\n",
    "                    'gridLines': {\n",
    "                        'drawBorder': False\n",
    "                    },\n",
    "                    'scaleLabel': {\n",
    "                        'display': True,\n",
    "                        'labelString': 'Closing price ($)'\n",
    "                    }\n",
    "                }]\n",
    "            },\n",
    "        )\n",
    ")\n"
   ]
  },
  {
   "cell_type": "code",
   "execution_count": 11,
   "metadata": {},
   "outputs": [
    {
     "data": {
      "application/vnd.jupyter.widget-view+json": {
       "model_id": "b9568ee887eb4f3083a2be09caf5091b",
       "version_major": 2,
       "version_minor": 0
      },
      "text/plain": [
       "ChartSuperClass(status='deferring flush until render')"
      ]
     },
     "metadata": {},
     "output_type": "display_data"
    }
   ],
   "source": [
    "line_chart = ChartSuperClass()\n",
    "line_chart.initialize_chart(width=800, config=config)\n",
    "line_chart"
   ]
  },
  {
   "cell_type": "markdown",
   "metadata": {},
   "source": [
    "______\n",
    "\n",
    "# Test for time series line chart\n",
    "\n",
    "\n",
    "`time_series_Chart` support two types of charts: line and bar. \n",
    "\n",
    "```\n",
    "time_series_Chart(_chart_type, ticker_symbol, val_col, date_col = None, \n",
    "                  start=None, end=None, \n",
    "                  data_provide = False, input_dataset = None,\n",
    "                  website = None, api_key = None, \n",
    "                  multi_axis = False, axis_label = None, stacked = False,\n",
    "                  options = None, xAxes = None, yAxes = None,\n",
    "                  colors=None, backgroundColor = None, borderColor = None, \n",
    "                  title = None,\n",
    "                  fill = False,\n",
    "                  width=800,\n",
    "                  **other_arguments\n",
    "                  )\n",
    "```\n",
    "\n",
    "- `_chart_type`: the type of chart, 'line' or 'bar     \n",
    "- `ticker_symbol`: if use inner stock dataset, will be ticker symbol of company; \n",
    "                   if self provide data, will be the \n",
    "- `val_col`:  \n",
    "- `date_col`:  \n",
    "- `start`:  \n",
    "- `end`:\n",
    "- `data_provide`:  \n",
    "- `input_dataset`:  \n",
    "- `website`:  \n",
    "- `api_key`:  \n",
    "- `multi_axis`:  \n",
    "- `axis_label`:  \n",
    "- `stacked`:  \n",
    "- `options`:  \n",
    "- `xAxes`:  \n",
    "- `yAxes`:  "
   ]
  },
  {
   "cell_type": "code",
   "execution_count": 12,
   "metadata": {},
   "outputs": [],
   "source": [
    "from chart_ipynb import time_series "
   ]
  },
  {
   "cell_type": "markdown",
   "metadata": {},
   "source": [
    "## Three datasets of stock prices from quandl"
   ]
  },
  {
   "cell_type": "code",
   "execution_count": 13,
   "metadata": {},
   "outputs": [
    {
     "data": {
      "application/vnd.jupyter.widget-view+json": {
       "model_id": "c5ed73b821104d8ca268512cad3e798c",
       "version_major": 2,
       "version_minor": 0
      },
      "text/plain": [
       "Line(status='deferring flush until render')"
      ]
     },
     "metadata": {},
     "output_type": "display_data"
    }
   ],
   "source": [
    "start = '2017-1-1'\n",
    "end = '2018-1-1'\n",
    "symbols = ['AAPL','AMZN','GOOGL']\n",
    "col = 'Open'\n",
    "time_series.time_series_Chart('line', symbols, col, start = start, end = end, \n",
    "                              website='quandl')\n"
   ]
  },
  {
   "cell_type": "code",
   "execution_count": 14,
   "metadata": {},
   "outputs": [
    {
     "data": {
      "application/vnd.jupyter.widget-view+json": {
       "model_id": "c99ad6467a4f45a28b37f6d9bdc1c147",
       "version_major": 2,
       "version_minor": 0
      },
      "text/plain": [
       "Bar(status='deferring flush until render')"
      ]
     },
     "metadata": {},
     "output_type": "display_data"
    }
   ],
   "source": [
    "time_series.time_series_Chart('bar', symbols, col, start = start, end = end, \n",
    "                              website='quandl',stacked=True)"
   ]
  },
  {
   "cell_type": "markdown",
   "metadata": {},
   "source": [
    "## Two datasets of stock prices from quandl - Multi axis"
   ]
  },
  {
   "cell_type": "code",
   "execution_count": 15,
   "metadata": {},
   "outputs": [
    {
     "data": {
      "application/vnd.jupyter.widget-view+json": {
       "model_id": "90c0004407b3424ea7f8f29fea93ba76",
       "version_major": 2,
       "version_minor": 0
      },
      "text/plain": [
       "Line(status='deferring flush until render')"
      ]
     },
     "metadata": {},
     "output_type": "display_data"
    }
   ],
   "source": [
    "start = '2017-1-1'\n",
    "end = '2018-1-1'\n",
    "symbols = ['AAPL','AMZN']\n",
    "val_col = 'Open'\n",
    "time_series.time_series_Chart('line', symbols, val_col, start = start, end = end, website='quandl', multi_axis = True)"
   ]
  },
  {
   "cell_type": "markdown",
   "metadata": {},
   "source": [
    "## Self provide datasets "
   ]
  },
  {
   "cell_type": "code",
   "execution_count": 16,
   "metadata": {},
   "outputs": [
    {
     "data": {
      "application/vnd.jupyter.widget-view+json": {
       "model_id": "cf0e337f7e98469686459cd43b85b356",
       "version_major": 2,
       "version_minor": 0
      },
      "text/plain": [
       "Line(status='deferring flush until render')"
      ]
     },
     "metadata": {},
     "output_type": "display_data"
    }
   ],
   "source": [
    "symbols = ['AAPL','AMZN', 'GOOGL']\n",
    "input_dataset = [aapl, amzn, googl]\n",
    "val_col = 'Close'\n",
    "date_col = 'Date'\n",
    "time_series.time_series_Chart('line', symbols, val_col, \n",
    "                           date_col = date_col,\n",
    "                           start = start, end = end, \n",
    "                           data_provide=True, \n",
    "                           input_dataset = input_dataset)"
   ]
  },
  {
   "cell_type": "code",
   "execution_count": 17,
   "metadata": {},
   "outputs": [
    {
     "data": {
      "application/vnd.jupyter.widget-view+json": {
       "model_id": "852e83b9adec40498e153fb4fcfbdfe3",
       "version_major": 2,
       "version_minor": 0
      },
      "text/plain": [
       "Bar(status='deferring flush until render')"
      ]
     },
     "metadata": {},
     "output_type": "display_data"
    }
   ],
   "source": [
    "time_series.time_series_Chart('bar', symbols, val_col, \n",
    "                           date_col = date_col,\n",
    "                           start = start, end = end, \n",
    "                           data_provide=True, \n",
    "                           input_dataset = input_dataset,\n",
    "                            stacked=True)"
   ]
  },
  {
   "cell_type": "markdown",
   "metadata": {},
   "source": [
    "## Self provide datasets - Multi axis"
   ]
  },
  {
   "cell_type": "code",
   "execution_count": 23,
   "metadata": {},
   "outputs": [
    {
     "data": {
      "application/vnd.jupyter.widget-view+json": {
       "model_id": "4380fe347dd245eab69128f571a059ec",
       "version_major": 2,
       "version_minor": 0
      },
      "text/plain": [
       "Line(status='deferring flush until render')"
      ]
     },
     "metadata": {},
     "output_type": "display_data"
    }
   ],
   "source": [
    "symbols = ['AAPL','AMZN']\n",
    "input_dataset = [aapl, amzn]\n",
    "val_col = 'Close'\n",
    "date_col = 'Date'\n",
    "time_series.time_series_Chart('line', symbols, val_col, \n",
    "                           date_col = date_col,\n",
    "                           start = start, end = end, \n",
    "                           data_provide=True, title = 'Closing Price',\n",
    "                           input_dataset = input_dataset,\n",
    "                           multi_axis = True)"
   ]
  }
 ],
 "metadata": {
  "kernelspec": {
   "display_name": "Python 3",
   "language": "python",
   "name": "python3"
  },
  "language_info": {
   "codemirror_mode": {
    "name": "ipython",
    "version": 3
   },
   "file_extension": ".py",
   "mimetype": "text/x-python",
   "name": "python",
   "nbconvert_exporter": "python",
   "pygments_lexer": "ipython3",
   "version": "3.7.0"
  }
 },
 "nbformat": 4,
 "nbformat_minor": 4
}
