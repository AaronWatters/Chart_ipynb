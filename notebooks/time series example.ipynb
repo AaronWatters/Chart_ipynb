{
 "cells": [
  {
   "cell_type": "markdown",
   "metadata": {},
   "source": [
    "# `chart_ipynb`  Time Series  \n",
    "\n",
    "`chart_ipynb` provides additional functions specifically for time series data. Instead of using the function directly, we first set up the data and options manually to show how it works. \n",
    "\n",
    "In `time_series`, we use [`pandas_datareader`](https://pandas-datareader.readthedocs.io/en/latest/) to read stock data from [`quandl`](https://pandas-datareader.readthedocs.io/en/latest/readers/quandl.html) by default. Other data websites can also be used to access different kinds of data ([More details can be found here](https://pandas-datareader.readthedocs.io/en/latest/remote_data.html)). "
   ]
  },
  {
   "cell_type": "code",
   "execution_count": 12,
   "metadata": {},
   "outputs": [],
   "source": [
    "from chart_ipynb import utils\n",
    "from chart_ipynb.chart_framework import ChartSuperClass\n",
    "import numpy as np\n",
    "import pandas as pd\n",
    "import pandas_datareader\n",
    "import pandas_datareader.data as web\n",
    "import datetime\n",
    "import time"
   ]
  },
  {
   "cell_type": "markdown",
   "metadata": {},
   "source": [
    "For free multiple access to data, `quandl` requires api_key by creating your own accounts on the [official website](https://www.quandl.com/). API key can be found under your Account Settings.  \n",
    "\n",
    "In the following examples, we will use data of Apple, Amazon, Google. "
   ]
  },
  {
   "cell_type": "code",
   "execution_count": 13,
   "metadata": {},
   "outputs": [],
   "source": [
    "api_key = '1JFowowyzc-FnajAsDkY'\n",
    "start = datetime.datetime(2017,1,1)\n",
    "end = datetime.datetime(2018,1,1)\n",
    "aapl = web.DataReader('AAPL',\"quandl\", start, end, api_key = api_key)\n",
    "amzn = web.DataReader('AMZN',\"quandl\", start, end, api_key = api_key)\n",
    "googl = web.DataReader('GOOGL',\"quandl\", start, end, api_key = api_key)"
   ]
  },
  {
   "cell_type": "code",
   "execution_count": 3,
   "metadata": {},
   "outputs": [],
   "source": [
    "aapl.head()"
   ]
  },
  {
   "cell_type": "code",
   "execution_count": 4,
   "metadata": {},
   "outputs": [],
   "source": [
    "amzn.head()"
   ]
  },
  {
   "cell_type": "code",
   "execution_count": 5,
   "metadata": {},
   "outputs": [],
   "source": [
    "googl.head()"
   ]
  },
  {
   "cell_type": "markdown",
   "metadata": {},
   "source": [
    "We need to format the data to the structure available to feed into the chart initialization function.  \n",
    "\n",
    "The following function return two values, a list of price values, a list of date string."
   ]
  },
  {
   "cell_type": "code",
   "execution_count": 7,
   "metadata": {},
   "outputs": [],
   "source": [
    "def data_format(dataset, val_col):\n",
    "    \"\"\"\n",
    "    dataset: pd.DataFrame\n",
    "    val_col: the column name for the target value. e.g 'Close'\n",
    "    \"\"\"\n",
    "    data = dataset[val_col]\n",
    "    idx_reset_df = dataset.reset_index()\n",
    "    if 'Date' not in idx_reset_df.columns:\n",
    "        return 'please rename the date columns to \"Date\"'\n",
    "    sort_df = idx_reset_df.sort_values(by='Date')\n",
    "    sort_df['Date']=sort_df['Date'].astype(str)\n",
    "    return  list(sort_df[val_col]), list(sort_df['Date'])"
   ]
  },
  {
   "cell_type": "code",
   "execution_count": 8,
   "metadata": {},
   "outputs": [],
   "source": [
    "aapl_val, aapl_label = data_format(aapl, 'Close')\n",
    "amzn_val, amzn_label = data_format(amzn, 'Close')\n",
    "googl_val, googl_label = data_format(googl, 'Close')"
   ]
  },
  {
   "cell_type": "markdown",
   "metadata": {},
   "source": [
    "`utils` provides helper functions to create dataset formats and data formats.  \n",
    "The `label` in the dataset is the ticker symbol of the company, while `labels` in the data is a list of Date string which will be present as x axis."
   ]
  },
  {
   "cell_type": "code",
   "execution_count": 9,
   "metadata": {},
   "outputs": [],
   "source": [
    "dataset1 = utils.dataset(\n",
    "                label = 'AAPL',\n",
    "                backgroundColor = utils.color_rgb('red',0.5),\n",
    "                borderColor = utils.color_rgb('red'),\n",
    "                data = aapl_val,\n",
    "                type = 'line',\n",
    "                pointRadius = 0,\n",
    "                fill = False,\n",
    "                lineTension = 0,\n",
    "                borderWidth = 2\n",
    "            )\n",
    "dataset2 = utils.dataset(\n",
    "                label = 'AMZN',\n",
    "                backgroundColor = utils.color_rgb('blue',0.5),\n",
    "                borderColor = utils.color_rgb('blue'),\n",
    "                data = amzn_val,\n",
    "                type = 'line',\n",
    "                pointRadius = 0,\n",
    "                fill = False,\n",
    "                lineTension = 0,\n",
    "                borderWidth = 2\n",
    "            )\n",
    "dataset3 = utils.dataset(\n",
    "                label = 'GOOGL',\n",
    "                backgroundColor = utils.color_rgb('green',0.5),\n",
    "                borderColor = utils.color_rgb('green'),\n",
    "                data = googl_val,\n",
    "                type = 'line',\n",
    "                pointRadius = 0,\n",
    "                fill = False,\n",
    "                lineTension = 0,\n",
    "                borderWidth = 2\n",
    "            )\n",
    "data = utils.data(\n",
    "    labels = aapl_label,\n",
    "    datasets = [dataset1,dataset2,dataset3]\n",
    ")"
   ]
  },
  {
   "cell_type": "markdown",
   "metadata": {},
   "source": [
    "The configuration is required to initialize the chart. It contains type, data, options.   \n",
    "The value of type will be a string indicating the type of chart, such as 'line', 'bar', and 'bubble' etc. The dictionary of options contains many more features including title, legend scales and elements."
   ]
  },
  {
   "cell_type": "code",
   "execution_count": 10,
   "metadata": {},
   "outputs": [],
   "source": [
    "config = utils.config(\n",
    "        type = 'line',\n",
    "        data = data,\n",
    "        options = utils.options(\n",
    "            animation = {\n",
    "                'duration': 0\n",
    "            },\n",
    "            scales = {\n",
    "                'xAxes': [{\n",
    "                    'display':True,\n",
    "                    'scaleLabel':{\n",
    "                        'display':True,\n",
    "                        'labelString':'Date'\n",
    "                    }\n",
    "                    ,'ticks': {\n",
    "                        'major': {\n",
    "                            'enabled': True,\n",
    "                            'fontStyle': 'bold'\n",
    "                        },\n",
    "                        'source': 'data',\n",
    "                        'autoSkip': True,\n",
    "                        'autoSkipPadding': 10,\n",
    "                        'maxRotation': 60,\n",
    "                    },\n",
    "                }],\n",
    "                'yAxes': [{\n",
    "                    'gridLines': {\n",
    "                        'drawBorder': False\n",
    "                    },\n",
    "                    'scaleLabel': {\n",
    "                        'display': True,\n",
    "                        'labelString': 'Closing price ($)'\n",
    "                    }\n",
    "                }]\n",
    "            },\n",
    "        )\n",
    ")\n"
   ]
  },
  {
   "cell_type": "markdown",
   "metadata": {},
   "source": [
    "After setting up the configuration, we are ready to initialize the line chart by creating a ChartSuperClass object which is the super class for all the charts in `chart_ipynb`."
   ]
  },
  {
   "cell_type": "code",
   "execution_count": 11,
   "metadata": {},
   "outputs": [
    {
     "data": {
      "application/vnd.jupyter.widget-view+json": {
       "model_id": "b9568ee887eb4f3083a2be09caf5091b",
       "version_major": 2,
       "version_minor": 0
      },
      "text/plain": [
       "ChartSuperClass(status='deferring flush until render')"
      ]
     },
     "metadata": {},
     "output_type": "display_data"
    }
   ],
   "source": [
    "line_chart = ChartSuperClass()\n",
    "line_chart.initialize_chart(width=800, config=config)\n",
    "line_chart"
   ]
  },
  {
   "cell_type": "markdown",
   "metadata": {},
   "source": [
    "##  `time_series` line chart\n",
    "\n",
    "Now, we can directly use the function called `time_series_Chart` provided in `time_series` to create line chart.\n",
    "\n",
    "\n",
    "`time_series_Chart` support two types of charts: line and bar. \n",
    "\n",
    "```\n",
    "time_series_Chart(_chart_type, ticker_symbol, val_col, date_col = None, \n",
    "                  start=None, end=None, \n",
    "                  data_provide = False, input_dataset = None,\n",
    "                  website = None, api_key = None, \n",
    "                  multi_axis = False, axis_label = None, stacked = False,\n",
    "                  options = None, xAxes = None, yAxes = None,\n",
    "                  colors=None, backgroundColor = None, borderColor = None, \n",
    "                  title = None,\n",
    "                  fill = False,\n",
    "                  width=800,\n",
    "                  **other_arguments\n",
    "                  )\n",
    "```\n",
    "\n",
    "- `_chart_type`: the type of chart, 'line' or 'bar     \n",
    "- `ticker_symbol`: if use inner stock dataset, it will be ticker symbol of company; if self provide data, it will be the name of datasets shown in the legend\n",
    "- `val_col`: the name of value column  \n",
    "- `date_col`: the name of date column  \n",
    "- `start`: start date; a string format in  'yyyy-m-d'  \n",
    "- `end`: end date; a string format in  'yyyy-m-d'   \n",
    "- `data_provide`: self provide data or not; default is False    \n",
    "- `input_dataset`: if data_provide=True, must provide your own data   \n",
    "- `website`: the website you want to access the data   \n",
    "- `api_key`: API key to access the data from the website   \n",
    "- `multi_axis`: only work for two datasets    \n",
    "- `axis_label`: axis label \n",
    "- `stacked`: only work for bar chart and multi_aixs = False    \n",
    "- More arguments refer to [here](https://github.com/AaronWatters/Chart_ipynb/blob/master/chart_ipynb/time_series.py)"
   ]
  },
  {
   "cell_type": "code",
   "execution_count": 1,
   "metadata": {},
   "outputs": [],
   "source": [
    "from chart_ipynb import time_series "
   ]
  },
  {
   "cell_type": "markdown",
   "metadata": {},
   "source": [
    "## Stock Closing prices from quandl  \n",
    "\n",
    "### Line Chart"
   ]
  },
  {
   "cell_type": "code",
   "execution_count": 3,
   "metadata": {},
   "outputs": [
    {
     "data": {
      "application/vnd.jupyter.widget-view+json": {
       "model_id": "2681a45f15474f9ba35464868a0622de",
       "version_major": 2,
       "version_minor": 0
      },
      "text/plain": [
       "Line(status='deferring flush until render')"
      ]
     },
     "metadata": {},
     "output_type": "display_data"
    }
   ],
   "source": [
    "start = '2017-1-1'\n",
    "end = '2018-1-1'\n",
    "symbols = ['AAPL','AMZN','GOOGL']\n",
    "colors = ['red', 'blue', 'green']\n",
    "col = 'Close'\n",
    "time_series.time_series_Chart('line', symbols, col, start = start, end = end, colors = colors,\n",
    "                              website='quandl', title='Closing Price ($)')"
   ]
  },
  {
   "cell_type": "markdown",
   "metadata": {},
   "source": [
    "### Stacked Bar Chart"
   ]
  },
  {
   "cell_type": "code",
   "execution_count": 6,
   "metadata": {},
   "outputs": [
    {
     "data": {
      "application/vnd.jupyter.widget-view+json": {
       "model_id": "c4291b93079f4f25b578769d6b36a26a",
       "version_major": 2,
       "version_minor": 0
      },
      "text/plain": [
       "Bar(status='deferring flush until render')"
      ]
     },
     "metadata": {},
     "output_type": "display_data"
    }
   ],
   "source": [
    "time_series.time_series_Chart('bar', symbols, col, start = start, end = end, colors = ['violet', 'midnightblue', 'cyan'], \n",
    "                              website='quandl',stacked=True, title='Closing Price ($)')"
   ]
  },
  {
   "cell_type": "markdown",
   "metadata": {},
   "source": [
    "## Stock Open prices from quandl - Multi axis"
   ]
  },
  {
   "cell_type": "code",
   "execution_count": 10,
   "metadata": {},
   "outputs": [
    {
     "data": {
      "application/vnd.jupyter.widget-view+json": {
       "model_id": "e17a14625e2b463990389a1871d1fd7b",
       "version_major": 2,
       "version_minor": 0
      },
      "text/plain": [
       "Line(status='deferring flush until render')"
      ]
     },
     "metadata": {},
     "output_type": "display_data"
    }
   ],
   "source": [
    "start = '2017-1-1'\n",
    "end = '2018-1-1'\n",
    "symbols = ['AAPL','AMZN']\n",
    "colors = ['purple', 'brown']\n",
    "val_col = 'Open'\n",
    "time_series.time_series_Chart('line', symbols, val_col, start = start, end = end, \n",
    "                              website='quandl', multi_axis = True,\n",
    "                              colors = colors,\n",
    "                              title = 'Opening Price ($)')"
   ]
  },
  {
   "cell_type": "markdown",
   "metadata": {},
   "source": [
    "## Self Provide Datasets \n",
    "\n",
    "The following example show how the function works when using your own datasets.\n",
    "\n",
    "### Line Chart"
   ]
  },
  {
   "cell_type": "code",
   "execution_count": 16,
   "metadata": {},
   "outputs": [
    {
     "data": {
      "application/vnd.jupyter.widget-view+json": {
       "model_id": "fcfc6fcd66b243dc9c3410aaebe9b98a",
       "version_major": 2,
       "version_minor": 0
      },
      "text/plain": [
       "Line(status='deferring flush until render')"
      ]
     },
     "metadata": {},
     "output_type": "display_data"
    }
   ],
   "source": [
    "symbols = ['AAPL','AMZN', 'GOOGL']\n",
    "input_dataset = [aapl, amzn, googl]\n",
    "colors = ['salmon','seagreen','royalblue']\n",
    "val_col = 'Close'\n",
    "date_col = 'Date'\n",
    "time_series.time_series_Chart('line', symbols, val_col, \n",
    "                           date_col = date_col,\n",
    "                           start = start, end = end, \n",
    "                           data_provide=True, \n",
    "                           input_dataset = input_dataset,\n",
    "                           colors = colors,\n",
    "                           title = \"Closing Price ($)\")"
   ]
  },
  {
   "cell_type": "markdown",
   "metadata": {},
   "source": [
    "### Bar Chart"
   ]
  },
  {
   "cell_type": "code",
   "execution_count": 17,
   "metadata": {},
   "outputs": [
    {
     "data": {
      "application/vnd.jupyter.widget-view+json": {
       "model_id": "7ad9bbb22b734cfeb869ced058c116d8",
       "version_major": 2,
       "version_minor": 0
      },
      "text/plain": [
       "Bar(status='deferring flush until render')"
      ]
     },
     "metadata": {},
     "output_type": "display_data"
    }
   ],
   "source": [
    "colors = ['salmon','seagreen','royalblue']\n",
    "time_series.time_series_Chart('bar', symbols, val_col, \n",
    "                           date_col = date_col,\n",
    "                           start = start, end = end, \n",
    "                           data_provide=True, \n",
    "                           input_dataset = input_dataset,\n",
    "                           stacked=True,\n",
    "                           colors = colors,\n",
    "                           title = \"Closing Price ($)\")"
   ]
  }
 ],
 "metadata": {
  "kernelspec": {
   "display_name": "Python 3",
   "language": "python",
   "name": "python3"
  },
  "language_info": {
   "codemirror_mode": {
    "name": "ipython",
    "version": 3
   },
   "file_extension": ".py",
   "mimetype": "text/x-python",
   "name": "python",
   "nbconvert_exporter": "python",
   "pygments_lexer": "ipython3",
   "version": "3.7.0"
  }
 },
 "nbformat": 4,
 "nbformat_minor": 4
}
