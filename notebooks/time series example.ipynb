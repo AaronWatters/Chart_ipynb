{
 "cells": [
  {
   "cell_type": "markdown",
   "metadata": {},
   "source": [
    "# `chart_ipynb`  Time Series  \n",
    "\n",
    "`chart_ipynb` provides additional functions specifically for time series data. Instead of using the function directly, we first set up the data and options manually to show how it works. \n",
    "\n",
    "In `time_series`, we use [`pandas_datareader`](https://pandas-datareader.readthedocs.io/en/latest/) to read stock data from [`quandl`](https://pandas-datareader.readthedocs.io/en/latest/readers/quandl.html) by default. Other data websites can also be used to access different kinds of data ([More details can be found here](https://pandas-datareader.readthedocs.io/en/latest/remote_data.html)). "
   ]
  },
  {
   "cell_type": "code",
   "execution_count": 1,
   "metadata": {},
   "outputs": [],
   "source": [
    "from chart_ipynb import utils\n",
    "from chart_ipynb.chart_framework import ChartSuperClass\n",
    "import numpy as np\n",
    "import pandas as pd\n",
    "import pandas_datareader\n",
    "import pandas_datareader.data as web\n",
    "import datetime\n",
    "import time"
   ]
  },
  {
   "cell_type": "markdown",
   "metadata": {},
   "source": [
    "For free multiple access to data, `quandl` requires api_key by creating your own accounts on the [official website](https://www.quandl.com/). API key can be found under your Account Settings.  \n",
    "\n",
    "In the following examples, we will use data of Apple, Amazon, Google. "
   ]
  },
  {
   "cell_type": "code",
   "execution_count": 2,
   "metadata": {},
   "outputs": [],
   "source": [
    "api_key = '1JFowowyzc-FnajAsDkY'\n",
    "start = datetime.datetime(2017,1,1)\n",
    "end = datetime.datetime(2018,1,1)\n",
    "aapl = web.DataReader('AAPL',\"quandl\", start, end, api_key = api_key)\n",
    "amzn = web.DataReader('AMZN',\"quandl\", start, end, api_key = api_key)\n",
    "googl = web.DataReader('GOOGL',\"quandl\", start, end, api_key = api_key)"
   ]
  },
  {
   "cell_type": "code",
   "execution_count": 3,
   "metadata": {},
   "outputs": [
    {
     "data": {
      "text/html": [
       "<div>\n",
       "<style scoped>\n",
       "    .dataframe tbody tr th:only-of-type {\n",
       "        vertical-align: middle;\n",
       "    }\n",
       "\n",
       "    .dataframe tbody tr th {\n",
       "        vertical-align: top;\n",
       "    }\n",
       "\n",
       "    .dataframe thead th {\n",
       "        text-align: right;\n",
       "    }\n",
       "</style>\n",
       "<table border=\"1\" class=\"dataframe\">\n",
       "  <thead>\n",
       "    <tr style=\"text-align: right;\">\n",
       "      <th></th>\n",
       "      <th>Open</th>\n",
       "      <th>High</th>\n",
       "      <th>Low</th>\n",
       "      <th>Close</th>\n",
       "      <th>Volume</th>\n",
       "      <th>ExDividend</th>\n",
       "      <th>SplitRatio</th>\n",
       "      <th>AdjOpen</th>\n",
       "      <th>AdjHigh</th>\n",
       "      <th>AdjLow</th>\n",
       "      <th>AdjClose</th>\n",
       "      <th>AdjVolume</th>\n",
       "    </tr>\n",
       "    <tr>\n",
       "      <th>Date</th>\n",
       "      <th></th>\n",
       "      <th></th>\n",
       "      <th></th>\n",
       "      <th></th>\n",
       "      <th></th>\n",
       "      <th></th>\n",
       "      <th></th>\n",
       "      <th></th>\n",
       "      <th></th>\n",
       "      <th></th>\n",
       "      <th></th>\n",
       "      <th></th>\n",
       "    </tr>\n",
       "  </thead>\n",
       "  <tbody>\n",
       "    <tr>\n",
       "      <td>2017-12-29</td>\n",
       "      <td>170.52</td>\n",
       "      <td>170.590</td>\n",
       "      <td>169.220</td>\n",
       "      <td>169.23</td>\n",
       "      <td>25643711.0</td>\n",
       "      <td>0.0</td>\n",
       "      <td>1.0</td>\n",
       "      <td>170.52</td>\n",
       "      <td>170.590</td>\n",
       "      <td>169.220</td>\n",
       "      <td>169.23</td>\n",
       "      <td>25643711.0</td>\n",
       "    </tr>\n",
       "    <tr>\n",
       "      <td>2017-12-28</td>\n",
       "      <td>171.00</td>\n",
       "      <td>171.850</td>\n",
       "      <td>170.480</td>\n",
       "      <td>171.08</td>\n",
       "      <td>15997739.0</td>\n",
       "      <td>0.0</td>\n",
       "      <td>1.0</td>\n",
       "      <td>171.00</td>\n",
       "      <td>171.850</td>\n",
       "      <td>170.480</td>\n",
       "      <td>171.08</td>\n",
       "      <td>15997739.0</td>\n",
       "    </tr>\n",
       "    <tr>\n",
       "      <td>2017-12-27</td>\n",
       "      <td>170.10</td>\n",
       "      <td>170.780</td>\n",
       "      <td>169.710</td>\n",
       "      <td>170.60</td>\n",
       "      <td>21672062.0</td>\n",
       "      <td>0.0</td>\n",
       "      <td>1.0</td>\n",
       "      <td>170.10</td>\n",
       "      <td>170.780</td>\n",
       "      <td>169.710</td>\n",
       "      <td>170.60</td>\n",
       "      <td>21672062.0</td>\n",
       "    </tr>\n",
       "    <tr>\n",
       "      <td>2017-12-26</td>\n",
       "      <td>170.80</td>\n",
       "      <td>171.470</td>\n",
       "      <td>169.679</td>\n",
       "      <td>170.57</td>\n",
       "      <td>32968167.0</td>\n",
       "      <td>0.0</td>\n",
       "      <td>1.0</td>\n",
       "      <td>170.80</td>\n",
       "      <td>171.470</td>\n",
       "      <td>169.679</td>\n",
       "      <td>170.57</td>\n",
       "      <td>32968167.0</td>\n",
       "    </tr>\n",
       "    <tr>\n",
       "      <td>2017-12-22</td>\n",
       "      <td>174.68</td>\n",
       "      <td>175.424</td>\n",
       "      <td>174.500</td>\n",
       "      <td>175.01</td>\n",
       "      <td>16052615.0</td>\n",
       "      <td>0.0</td>\n",
       "      <td>1.0</td>\n",
       "      <td>174.68</td>\n",
       "      <td>175.424</td>\n",
       "      <td>174.500</td>\n",
       "      <td>175.01</td>\n",
       "      <td>16052615.0</td>\n",
       "    </tr>\n",
       "  </tbody>\n",
       "</table>\n",
       "</div>"
      ],
      "text/plain": [
       "              Open     High      Low   Close      Volume  ExDividend  \\\n",
       "Date                                                                   \n",
       "2017-12-29  170.52  170.590  169.220  169.23  25643711.0         0.0   \n",
       "2017-12-28  171.00  171.850  170.480  171.08  15997739.0         0.0   \n",
       "2017-12-27  170.10  170.780  169.710  170.60  21672062.0         0.0   \n",
       "2017-12-26  170.80  171.470  169.679  170.57  32968167.0         0.0   \n",
       "2017-12-22  174.68  175.424  174.500  175.01  16052615.0         0.0   \n",
       "\n",
       "            SplitRatio  AdjOpen  AdjHigh   AdjLow  AdjClose   AdjVolume  \n",
       "Date                                                                     \n",
       "2017-12-29         1.0   170.52  170.590  169.220    169.23  25643711.0  \n",
       "2017-12-28         1.0   171.00  171.850  170.480    171.08  15997739.0  \n",
       "2017-12-27         1.0   170.10  170.780  169.710    170.60  21672062.0  \n",
       "2017-12-26         1.0   170.80  171.470  169.679    170.57  32968167.0  \n",
       "2017-12-22         1.0   174.68  175.424  174.500    175.01  16052615.0  "
      ]
     },
     "execution_count": 3,
     "metadata": {},
     "output_type": "execute_result"
    }
   ],
   "source": [
    "aapl.head()"
   ]
  },
  {
   "cell_type": "code",
   "execution_count": 4,
   "metadata": {},
   "outputs": [
    {
     "data": {
      "text/html": [
       "<div>\n",
       "<style scoped>\n",
       "    .dataframe tbody tr th:only-of-type {\n",
       "        vertical-align: middle;\n",
       "    }\n",
       "\n",
       "    .dataframe tbody tr th {\n",
       "        vertical-align: top;\n",
       "    }\n",
       "\n",
       "    .dataframe thead th {\n",
       "        text-align: right;\n",
       "    }\n",
       "</style>\n",
       "<table border=\"1\" class=\"dataframe\">\n",
       "  <thead>\n",
       "    <tr style=\"text-align: right;\">\n",
       "      <th></th>\n",
       "      <th>Open</th>\n",
       "      <th>High</th>\n",
       "      <th>Low</th>\n",
       "      <th>Close</th>\n",
       "      <th>Volume</th>\n",
       "      <th>ExDividend</th>\n",
       "      <th>SplitRatio</th>\n",
       "      <th>AdjOpen</th>\n",
       "      <th>AdjHigh</th>\n",
       "      <th>AdjLow</th>\n",
       "      <th>AdjClose</th>\n",
       "      <th>AdjVolume</th>\n",
       "    </tr>\n",
       "    <tr>\n",
       "      <th>Date</th>\n",
       "      <th></th>\n",
       "      <th></th>\n",
       "      <th></th>\n",
       "      <th></th>\n",
       "      <th></th>\n",
       "      <th></th>\n",
       "      <th></th>\n",
       "      <th></th>\n",
       "      <th></th>\n",
       "      <th></th>\n",
       "      <th></th>\n",
       "      <th></th>\n",
       "    </tr>\n",
       "  </thead>\n",
       "  <tbody>\n",
       "    <tr>\n",
       "      <td>2017-12-29</td>\n",
       "      <td>1182.35</td>\n",
       "      <td>1184.00</td>\n",
       "      <td>1167.50</td>\n",
       "      <td>1169.47</td>\n",
       "      <td>2625283.0</td>\n",
       "      <td>0.0</td>\n",
       "      <td>1.0</td>\n",
       "      <td>1182.35</td>\n",
       "      <td>1184.00</td>\n",
       "      <td>1167.50</td>\n",
       "      <td>1169.47</td>\n",
       "      <td>2625283.0</td>\n",
       "    </tr>\n",
       "    <tr>\n",
       "      <td>2017-12-28</td>\n",
       "      <td>1189.00</td>\n",
       "      <td>1190.10</td>\n",
       "      <td>1184.38</td>\n",
       "      <td>1186.10</td>\n",
       "      <td>1803460.0</td>\n",
       "      <td>0.0</td>\n",
       "      <td>1.0</td>\n",
       "      <td>1189.00</td>\n",
       "      <td>1190.10</td>\n",
       "      <td>1184.38</td>\n",
       "      <td>1186.10</td>\n",
       "      <td>1803460.0</td>\n",
       "    </tr>\n",
       "    <tr>\n",
       "      <td>2017-12-27</td>\n",
       "      <td>1179.91</td>\n",
       "      <td>1187.29</td>\n",
       "      <td>1175.61</td>\n",
       "      <td>1182.26</td>\n",
       "      <td>1779382.0</td>\n",
       "      <td>0.0</td>\n",
       "      <td>1.0</td>\n",
       "      <td>1179.91</td>\n",
       "      <td>1187.29</td>\n",
       "      <td>1175.61</td>\n",
       "      <td>1182.26</td>\n",
       "      <td>1779382.0</td>\n",
       "    </tr>\n",
       "    <tr>\n",
       "      <td>2017-12-26</td>\n",
       "      <td>1168.36</td>\n",
       "      <td>1178.32</td>\n",
       "      <td>1160.55</td>\n",
       "      <td>1176.76</td>\n",
       "      <td>1964871.0</td>\n",
       "      <td>0.0</td>\n",
       "      <td>1.0</td>\n",
       "      <td>1168.36</td>\n",
       "      <td>1178.32</td>\n",
       "      <td>1160.55</td>\n",
       "      <td>1176.76</td>\n",
       "      <td>1964871.0</td>\n",
       "    </tr>\n",
       "    <tr>\n",
       "      <td>2017-12-22</td>\n",
       "      <td>1172.08</td>\n",
       "      <td>1174.62</td>\n",
       "      <td>1167.83</td>\n",
       "      <td>1168.36</td>\n",
       "      <td>1553997.0</td>\n",
       "      <td>0.0</td>\n",
       "      <td>1.0</td>\n",
       "      <td>1172.08</td>\n",
       "      <td>1174.62</td>\n",
       "      <td>1167.83</td>\n",
       "      <td>1168.36</td>\n",
       "      <td>1553997.0</td>\n",
       "    </tr>\n",
       "  </tbody>\n",
       "</table>\n",
       "</div>"
      ],
      "text/plain": [
       "               Open     High      Low    Close     Volume  ExDividend  \\\n",
       "Date                                                                    \n",
       "2017-12-29  1182.35  1184.00  1167.50  1169.47  2625283.0         0.0   \n",
       "2017-12-28  1189.00  1190.10  1184.38  1186.10  1803460.0         0.0   \n",
       "2017-12-27  1179.91  1187.29  1175.61  1182.26  1779382.0         0.0   \n",
       "2017-12-26  1168.36  1178.32  1160.55  1176.76  1964871.0         0.0   \n",
       "2017-12-22  1172.08  1174.62  1167.83  1168.36  1553997.0         0.0   \n",
       "\n",
       "            SplitRatio  AdjOpen  AdjHigh   AdjLow  AdjClose  AdjVolume  \n",
       "Date                                                                    \n",
       "2017-12-29         1.0  1182.35  1184.00  1167.50   1169.47  2625283.0  \n",
       "2017-12-28         1.0  1189.00  1190.10  1184.38   1186.10  1803460.0  \n",
       "2017-12-27         1.0  1179.91  1187.29  1175.61   1182.26  1779382.0  \n",
       "2017-12-26         1.0  1168.36  1178.32  1160.55   1176.76  1964871.0  \n",
       "2017-12-22         1.0  1172.08  1174.62  1167.83   1168.36  1553997.0  "
      ]
     },
     "execution_count": 4,
     "metadata": {},
     "output_type": "execute_result"
    }
   ],
   "source": [
    "amzn.head()"
   ]
  },
  {
   "cell_type": "code",
   "execution_count": 5,
   "metadata": {},
   "outputs": [
    {
     "data": {
      "text/html": [
       "<div>\n",
       "<style scoped>\n",
       "    .dataframe tbody tr th:only-of-type {\n",
       "        vertical-align: middle;\n",
       "    }\n",
       "\n",
       "    .dataframe tbody tr th {\n",
       "        vertical-align: top;\n",
       "    }\n",
       "\n",
       "    .dataframe thead th {\n",
       "        text-align: right;\n",
       "    }\n",
       "</style>\n",
       "<table border=\"1\" class=\"dataframe\">\n",
       "  <thead>\n",
       "    <tr style=\"text-align: right;\">\n",
       "      <th></th>\n",
       "      <th>Open</th>\n",
       "      <th>High</th>\n",
       "      <th>Low</th>\n",
       "      <th>Close</th>\n",
       "      <th>Volume</th>\n",
       "      <th>ExDividend</th>\n",
       "      <th>SplitRatio</th>\n",
       "      <th>AdjOpen</th>\n",
       "      <th>AdjHigh</th>\n",
       "      <th>AdjLow</th>\n",
       "      <th>AdjClose</th>\n",
       "      <th>AdjVolume</th>\n",
       "    </tr>\n",
       "    <tr>\n",
       "      <th>Date</th>\n",
       "      <th></th>\n",
       "      <th></th>\n",
       "      <th></th>\n",
       "      <th></th>\n",
       "      <th></th>\n",
       "      <th></th>\n",
       "      <th></th>\n",
       "      <th></th>\n",
       "      <th></th>\n",
       "      <th></th>\n",
       "      <th></th>\n",
       "      <th></th>\n",
       "    </tr>\n",
       "  </thead>\n",
       "  <tbody>\n",
       "    <tr>\n",
       "      <td>2017-12-29</td>\n",
       "      <td>1055.49</td>\n",
       "      <td>1058.05</td>\n",
       "      <td>1052.70</td>\n",
       "      <td>1053.40</td>\n",
       "      <td>1156357.0</td>\n",
       "      <td>0.0</td>\n",
       "      <td>1.0</td>\n",
       "      <td>1055.49</td>\n",
       "      <td>1058.05</td>\n",
       "      <td>1052.70</td>\n",
       "      <td>1053.40</td>\n",
       "      <td>1156357.0</td>\n",
       "    </tr>\n",
       "    <tr>\n",
       "      <td>2017-12-28</td>\n",
       "      <td>1062.25</td>\n",
       "      <td>1064.84</td>\n",
       "      <td>1053.38</td>\n",
       "      <td>1055.95</td>\n",
       "      <td>982285.0</td>\n",
       "      <td>0.0</td>\n",
       "      <td>1.0</td>\n",
       "      <td>1062.25</td>\n",
       "      <td>1064.84</td>\n",
       "      <td>1053.38</td>\n",
       "      <td>1055.95</td>\n",
       "      <td>982285.0</td>\n",
       "    </tr>\n",
       "    <tr>\n",
       "      <td>2017-12-27</td>\n",
       "      <td>1066.60</td>\n",
       "      <td>1068.27</td>\n",
       "      <td>1058.38</td>\n",
       "      <td>1060.20</td>\n",
       "      <td>1027634.0</td>\n",
       "      <td>0.0</td>\n",
       "      <td>1.0</td>\n",
       "      <td>1066.60</td>\n",
       "      <td>1068.27</td>\n",
       "      <td>1058.38</td>\n",
       "      <td>1060.20</td>\n",
       "      <td>1027634.0</td>\n",
       "    </tr>\n",
       "    <tr>\n",
       "      <td>2017-12-26</td>\n",
       "      <td>1068.64</td>\n",
       "      <td>1068.86</td>\n",
       "      <td>1058.64</td>\n",
       "      <td>1065.85</td>\n",
       "      <td>914574.0</td>\n",
       "      <td>0.0</td>\n",
       "      <td>1.0</td>\n",
       "      <td>1068.64</td>\n",
       "      <td>1068.86</td>\n",
       "      <td>1058.64</td>\n",
       "      <td>1065.85</td>\n",
       "      <td>914574.0</td>\n",
       "    </tr>\n",
       "    <tr>\n",
       "      <td>2017-12-22</td>\n",
       "      <td>1070.00</td>\n",
       "      <td>1071.72</td>\n",
       "      <td>1067.64</td>\n",
       "      <td>1068.86</td>\n",
       "      <td>860800.0</td>\n",
       "      <td>0.0</td>\n",
       "      <td>1.0</td>\n",
       "      <td>1070.00</td>\n",
       "      <td>1071.72</td>\n",
       "      <td>1067.64</td>\n",
       "      <td>1068.86</td>\n",
       "      <td>860800.0</td>\n",
       "    </tr>\n",
       "  </tbody>\n",
       "</table>\n",
       "</div>"
      ],
      "text/plain": [
       "               Open     High      Low    Close     Volume  ExDividend  \\\n",
       "Date                                                                    \n",
       "2017-12-29  1055.49  1058.05  1052.70  1053.40  1156357.0         0.0   \n",
       "2017-12-28  1062.25  1064.84  1053.38  1055.95   982285.0         0.0   \n",
       "2017-12-27  1066.60  1068.27  1058.38  1060.20  1027634.0         0.0   \n",
       "2017-12-26  1068.64  1068.86  1058.64  1065.85   914574.0         0.0   \n",
       "2017-12-22  1070.00  1071.72  1067.64  1068.86   860800.0         0.0   \n",
       "\n",
       "            SplitRatio  AdjOpen  AdjHigh   AdjLow  AdjClose  AdjVolume  \n",
       "Date                                                                    \n",
       "2017-12-29         1.0  1055.49  1058.05  1052.70   1053.40  1156357.0  \n",
       "2017-12-28         1.0  1062.25  1064.84  1053.38   1055.95   982285.0  \n",
       "2017-12-27         1.0  1066.60  1068.27  1058.38   1060.20  1027634.0  \n",
       "2017-12-26         1.0  1068.64  1068.86  1058.64   1065.85   914574.0  \n",
       "2017-12-22         1.0  1070.00  1071.72  1067.64   1068.86   860800.0  "
      ]
     },
     "execution_count": 5,
     "metadata": {},
     "output_type": "execute_result"
    }
   ],
   "source": [
    "googl.head()"
   ]
  },
  {
   "cell_type": "markdown",
   "metadata": {},
   "source": [
    "We need to format the data to the structure available to feed into the chart initialization function.  \n",
    "\n",
    "The following function return two values, a list of price values, a list of date string."
   ]
  },
  {
   "cell_type": "code",
   "execution_count": 6,
   "metadata": {},
   "outputs": [],
   "source": [
    "def data_format(dataset, val_col):\n",
    "    \"\"\"\n",
    "    dataset: pd.DataFrame\n",
    "    val_col: the column name for the target value. e.g 'Close'\n",
    "    \"\"\"\n",
    "    data = dataset[val_col]\n",
    "    idx_reset_df = dataset.reset_index()\n",
    "    if 'Date' not in idx_reset_df.columns:\n",
    "        return 'please rename the date columns to \"Date\"'\n",
    "    sort_df = idx_reset_df.sort_values(by='Date')\n",
    "    sort_df['Date']=sort_df['Date'].astype(str)\n",
    "    return  list(sort_df[val_col]), list(sort_df['Date'])"
   ]
  },
  {
   "cell_type": "code",
   "execution_count": 7,
   "metadata": {},
   "outputs": [],
   "source": [
    "aapl_val, aapl_label = data_format(aapl, 'Close')\n",
    "amzn_val, amzn_label = data_format(amzn, 'Close')\n",
    "googl_val, googl_label = data_format(googl, 'Close')"
   ]
  },
  {
   "cell_type": "markdown",
   "metadata": {},
   "source": [
    "`utils` provides helper functions to create dataset formats and data formats.  \n",
    "The `label` in the dataset is the ticker symbol of the company, while `labels` in the data is a list of Date string which will be present as x axis."
   ]
  },
  {
   "cell_type": "code",
   "execution_count": 8,
   "metadata": {},
   "outputs": [],
   "source": [
    "dataset1 = utils.dataset(\n",
    "                label = 'AAPL',\n",
    "                backgroundColor = utils.color_rgb('red',0.5),\n",
    "                borderColor = utils.color_rgb('red'),\n",
    "                data = aapl_val,\n",
    "                type = 'line',\n",
    "                pointRadius = 0,\n",
    "                fill = False,\n",
    "                lineTension = 0,\n",
    "                borderWidth = 2\n",
    "            )\n",
    "dataset2 = utils.dataset(\n",
    "                label = 'AMZN',\n",
    "                backgroundColor = utils.color_rgb('blue',0.5),\n",
    "                borderColor = utils.color_rgb('blue'),\n",
    "                data = amzn_val,\n",
    "                type = 'line',\n",
    "                pointRadius = 0,\n",
    "                fill = False,\n",
    "                lineTension = 0,\n",
    "                borderWidth = 2\n",
    "            )\n",
    "dataset3 = utils.dataset(\n",
    "                label = 'GOOGL',\n",
    "                backgroundColor = utils.color_rgb('green',0.5),\n",
    "                borderColor = utils.color_rgb('green'),\n",
    "                data = googl_val,\n",
    "                type = 'line',\n",
    "                pointRadius = 0,\n",
    "                fill = False,\n",
    "                lineTension = 0,\n",
    "                borderWidth = 2\n",
    "            )\n",
    "data = utils.data(\n",
    "    labels = aapl_label,\n",
    "    datasets = [dataset1,dataset2,dataset3]\n",
    ")"
   ]
  },
  {
   "cell_type": "markdown",
   "metadata": {},
   "source": [
    "The configuration is required to initialize the chart. It contains type, data, options.   \n",
    "The value of type will be a string indicating the type of chart, such as 'line', 'bar', and 'bubble' etc. The dictionary of options contains many more features including title, legend scales and elements."
   ]
  },
  {
   "cell_type": "code",
   "execution_count": 9,
   "metadata": {},
   "outputs": [],
   "source": [
    "config = utils.config(\n",
    "        type = 'line',\n",
    "        data = data,\n",
    "        options = utils.options(\n",
    "            animation = {\n",
    "                'duration': 0\n",
    "            },\n",
    "            scales = {\n",
    "                'xAxes': [{\n",
    "                    'display':True,\n",
    "                    'scaleLabel':{\n",
    "                        'display':True,\n",
    "                        'labelString':'Date'\n",
    "                    }\n",
    "                    ,'ticks': {\n",
    "                        'major': {\n",
    "                            'enabled': True,\n",
    "                            'fontStyle': 'bold'\n",
    "                        },\n",
    "                        'source': 'data',\n",
    "                        'autoSkip': True,\n",
    "                        'autoSkipPadding': 10,\n",
    "                        'maxRotation': 60,\n",
    "                    },\n",
    "                }],\n",
    "                'yAxes': [{\n",
    "                    'gridLines': {\n",
    "                        'drawBorder': False\n",
    "                    },\n",
    "                    'scaleLabel': {\n",
    "                        'display': True,\n",
    "                        'labelString': 'Closing price ($)'\n",
    "                    }\n",
    "                }]\n",
    "            },\n",
    "        )\n",
    ")\n"
   ]
  },
  {
   "cell_type": "markdown",
   "metadata": {},
   "source": [
    "After setting up the configuration, we are ready to initialize the line chart by creating a ChartSuperClass object which is the super class for all the charts in `chart_ipynb`."
   ]
  },
  {
   "cell_type": "code",
   "execution_count": 10,
   "metadata": {},
   "outputs": [
    {
     "data": {
      "application/vnd.jupyter.widget-view+json": {
       "model_id": "c67f6110d48a449f940751765d3cfbce",
       "version_major": 2,
       "version_minor": 0
      },
      "text/plain": [
       "ChartSuperClass(status='deferring flush until render')"
      ]
     },
     "metadata": {},
     "output_type": "display_data"
    }
   ],
   "source": [
    "line_chart = ChartSuperClass()\n",
    "line_chart.initialize_chart(width=800, config=config)\n",
    "line_chart"
   ]
  },
  {
   "cell_type": "markdown",
   "metadata": {},
   "source": [
    "##  `time_series` line chart\n",
    "\n",
    "Now, we can directly use the function called `time_series_Chart` provided in `time_series` to create line chart.\n",
    "\n",
    "\n",
    "`time_series_Chart` support two types of charts: line and bar. \n",
    "\n",
    "```\n",
    "time_series_Chart(_chart_type, ticker_symbol, val_col, date_col = None, \n",
    "                  start=None, end=None, \n",
    "                  data_provide = False, input_dataset = None,\n",
    "                  website = None, api_key = None, \n",
    "                  multi_axis = False, axis_label = None, stacked = False,\n",
    "                  options = None, xAxes = None, yAxes = None,\n",
    "                  colors=None, backgroundColor = None, borderColor = None, \n",
    "                  title = None,\n",
    "                  fill = False,\n",
    "                  width=800,\n",
    "                  **other_arguments\n",
    "                  )\n",
    "```\n",
    "\n",
    "- `_chart_type`: the type of chart, 'line' or 'bar     \n",
    "- `ticker_symbol`: if use inner stock dataset, it will be ticker symbol of company; if self provide data, it will be the name of datasets shown in the legend\n",
    "- `val_col`: the name of value column  \n",
    "- `date_col`: the name of date column  \n",
    "- `start`: start date; a string format in  'yyyy-m-d'  \n",
    "- `end`: end date; a string format in  'yyyy-m-d'   \n",
    "- `data_provide`: self provide data or not; default is False    \n",
    "- `input_dataset`: if data_provide=True, must provide your own data   \n",
    "- `website`: the website you want to access the data   \n",
    "- `api_key`: API key to access the data from the website   \n",
    "- `multi_axis`: only work for two datasets    \n",
    "- `axis_label`: axis label \n",
    "- `stacked`: only work for bar chart and multi_aixs = False    \n",
    "- More arguments refer to [here](https://github.com/AaronWatters/Chart_ipynb/blob/master/chart_ipynb/time_series.py)"
   ]
  },
  {
   "cell_type": "code",
   "execution_count": 11,
   "metadata": {},
   "outputs": [],
   "source": [
    "from chart_ipynb import time_series "
   ]
  },
  {
   "cell_type": "markdown",
   "metadata": {},
   "source": [
    "## Stock Closing prices from quandl  \n",
    "\n",
    "### Line Chart"
   ]
  },
  {
   "cell_type": "code",
   "execution_count": 12,
   "metadata": {},
   "outputs": [
    {
     "data": {
      "application/vnd.jupyter.widget-view+json": {
       "model_id": "079e46f0b44a43abba403454a804f40e",
       "version_major": 2,
       "version_minor": 0
      },
      "text/plain": [
       "Line(status='deferring flush until render')"
      ]
     },
     "metadata": {},
     "output_type": "display_data"
    }
   ],
   "source": [
    "start = '2017-1-1'\n",
    "end = '2018-1-1'\n",
    "symbols = ['AAPL','AMZN','GOOGL']\n",
    "colors = ['red', 'blue', 'green']\n",
    "col = 'Close'\n",
    "time_series.time_series_Chart('line', symbols, col, start = start, end = end, colors = colors,\n",
    "                              website='quandl', title='Closing Price ($)')"
   ]
  },
  {
   "cell_type": "markdown",
   "metadata": {},
   "source": [
    "### Stacked Bar Chart"
   ]
  },
  {
   "cell_type": "code",
   "execution_count": 13,
   "metadata": {},
   "outputs": [
    {
     "data": {
      "application/vnd.jupyter.widget-view+json": {
       "model_id": "fd94228f59204b12b62be95162909691",
       "version_major": 2,
       "version_minor": 0
      },
      "text/plain": [
       "Bar(status='deferring flush until render')"
      ]
     },
     "metadata": {},
     "output_type": "display_data"
    }
   ],
   "source": [
    "time_series.time_series_Chart('bar', symbols, col, start = start, end = end, colors = ['violet', 'midnightblue', 'cyan'], \n",
    "                              website='quandl',stacked=True, title='Closing Price ($)')"
   ]
  },
  {
   "cell_type": "markdown",
   "metadata": {},
   "source": [
    "## Stock Open prices from quandl - Multi axis"
   ]
  },
  {
   "cell_type": "code",
   "execution_count": 14,
   "metadata": {},
   "outputs": [
    {
     "data": {
      "application/vnd.jupyter.widget-view+json": {
       "model_id": "00409c5492464fbea916702945084f5c",
       "version_major": 2,
       "version_minor": 0
      },
      "text/plain": [
       "Line(status='deferring flush until render')"
      ]
     },
     "metadata": {},
     "output_type": "display_data"
    }
   ],
   "source": [
    "start = '2017-1-1'\n",
    "end = '2018-1-1'\n",
    "symbols = ['AAPL','AMZN']\n",
    "colors = ['purple', 'brown']\n",
    "val_col = 'Open'\n",
    "time_series.time_series_Chart('line', symbols, val_col, start = start, end = end, \n",
    "                              website='quandl', multi_axis = True,\n",
    "                              colors = colors,\n",
    "                              title = 'Opening Price ($)')"
   ]
  },
  {
   "cell_type": "markdown",
   "metadata": {},
   "source": [
    "## Self Provide Datasets \n",
    "\n",
    "The following example show how the function works when using your own datasets.\n",
    "\n",
    "### Line Chart"
   ]
  },
  {
   "cell_type": "code",
   "execution_count": 15,
   "metadata": {},
   "outputs": [
    {
     "data": {
      "application/vnd.jupyter.widget-view+json": {
       "model_id": "2aef8cc7f6fd4e488335f20a3dd10f2c",
       "version_major": 2,
       "version_minor": 0
      },
      "text/plain": [
       "Line(status='deferring flush until render')"
      ]
     },
     "metadata": {},
     "output_type": "display_data"
    }
   ],
   "source": [
    "symbols = ['AAPL','AMZN', 'GOOGL']\n",
    "input_dataset = [aapl, amzn, googl]\n",
    "colors = ['salmon','seagreen','royalblue']\n",
    "val_col = 'Close'\n",
    "date_col = 'Date'\n",
    "time_series.time_series_Chart('line', symbols, val_col, \n",
    "                           date_col = date_col,\n",
    "                           start = start, end = end, \n",
    "                           data_provide=True, \n",
    "                           input_dataset = input_dataset,\n",
    "                           colors = colors,\n",
    "                           title = \"Closing Price ($)\")"
   ]
  },
  {
   "cell_type": "markdown",
   "metadata": {},
   "source": [
    "### Bar Chart"
   ]
  },
  {
   "cell_type": "code",
   "execution_count": 16,
   "metadata": {},
   "outputs": [
    {
     "data": {
      "application/vnd.jupyter.widget-view+json": {
       "model_id": "da4adf19548b4dbca09de3f2359b35e4",
       "version_major": 2,
       "version_minor": 0
      },
      "text/plain": [
       "Bar(status='deferring flush until render')"
      ]
     },
     "metadata": {},
     "output_type": "display_data"
    }
   ],
   "source": [
    "colors = ['salmon','seagreen','royalblue']\n",
    "time_series.time_series_Chart('bar', symbols, val_col, \n",
    "                           date_col = date_col,\n",
    "                           start = start, end = end, \n",
    "                           data_provide=True, \n",
    "                           input_dataset = input_dataset,\n",
    "                           stacked=True,\n",
    "                           colors = colors,\n",
    "                           title = \"Closing Price ($)\")"
   ]
  }
 ],
 "metadata": {
  "kernelspec": {
   "display_name": "Python 3",
   "language": "python",
   "name": "python3"
  },
  "language_info": {
   "codemirror_mode": {
    "name": "ipython",
    "version": 3
   },
   "file_extension": ".py",
   "mimetype": "text/x-python",
   "name": "python",
   "nbconvert_exporter": "python",
   "pygments_lexer": "ipython3",
   "version": "3.7.0"
  }
 },
 "nbformat": 4,
 "nbformat_minor": 4
}
