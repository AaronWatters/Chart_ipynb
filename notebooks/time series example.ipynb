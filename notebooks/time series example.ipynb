{
 "cells": [
  {
   "cell_type": "code",
   "execution_count": null,
   "metadata": {},
   "outputs": [],
   "source": [
    "from chart_ipynb import utils\n",
    "from chart_ipynb.chart_framework import ChartSuperClass\n",
    "import numpy as np\n",
    "import pandas as pd\n",
    "import pandas_datareader\n",
    "import pandas_datareader.data as web\n",
    "import datetime\n",
    "import time"
   ]
  },
  {
   "cell_type": "code",
   "execution_count": null,
   "metadata": {},
   "outputs": [],
   "source": [
    "api_key = '1JFowowyzc-FnajAsDkY'\n",
    "start = datetime.datetime(2017,1,1)\n",
    "end = datetime.datetime(2018,1,1)\n",
    "aapl = web.DataReader('AAPL',\"quandl\", start, end, api_key = api_key)\n",
    "amzn = web.DataReader('AMZN',\"quandl\", start, end, api_key = api_key)\n",
    "googl = web.DataReader('GOOGL',\"quandl\", start, end, api_key = api_key)"
   ]
  },
  {
   "cell_type": "code",
   "execution_count": null,
   "metadata": {},
   "outputs": [],
   "source": [
    "# aapl.head()"
   ]
  },
  {
   "cell_type": "code",
   "execution_count": null,
   "metadata": {},
   "outputs": [],
   "source": [
    "# amzn.head()"
   ]
  },
  {
   "cell_type": "code",
   "execution_count": null,
   "metadata": {},
   "outputs": [],
   "source": [
    "# googl.head()"
   ]
  },
  {
   "cell_type": "code",
   "execution_count": null,
   "metadata": {},
   "outputs": [],
   "source": [
    "col = 'Close'\n",
    "aapl_col = aapl[col]\n",
    "amzn_col = amzn[col]\n",
    "googl_col = googl[col]"
   ]
  },
  {
   "cell_type": "code",
   "execution_count": null,
   "metadata": {},
   "outputs": [],
   "source": [
    "def data_format(dataset, val_col):\n",
    "    \"\"\"\n",
    "    dataset: pd.DataFrame\n",
    "    val_col: the column name for the target value. e.g 'Close'\n",
    "    \"\"\"\n",
    "    data = dataset[val_col]\n",
    "    idx_reset_df = dataset.reset_index()\n",
    "    if 'Date' not in idx_reset_df.columns:\n",
    "        return 'please rename the date columns to \"Date\"'\n",
    "    sort_df = idx_reset_df.sort_values(by='Date')\n",
    "    sort_df['Date']=sort_df['Date'].astype(str)\n",
    "    return  list(sort_df[val_col]), list(sort_df['Date'])"
   ]
  },
  {
   "cell_type": "code",
   "execution_count": null,
   "metadata": {},
   "outputs": [],
   "source": [
    "aapl_val, aapl_label = data_format(aapl, 'Close')\n",
    "amzn_val, amzn_label = data_format(amzn, 'Close')\n",
    "googl_val, googl_label = data_format(googl, 'Close')"
   ]
  },
  {
   "cell_type": "code",
   "execution_count": null,
   "metadata": {},
   "outputs": [],
   "source": [
    "dataset1 = utils.dataset(\n",
    "                label = 'AAPL',\n",
    "                backgroundColor = utils.color_rgb('red',0.5),\n",
    "                borderColor = utils.color_rgb('red'),\n",
    "                data = aapl_val,\n",
    "                type = 'line',\n",
    "                pointRadius = 0,\n",
    "                fill = False,\n",
    "                lineTension = 0,\n",
    "                borderWidth = 2\n",
    "            )\n",
    "dataset2 = utils.dataset(\n",
    "                label = 'AMZN',\n",
    "                backgroundColor = utils.color_rgb('blue',0.5),\n",
    "                borderColor = utils.color_rgb('blue'),\n",
    "                data = amzn_val,\n",
    "                type = 'line',\n",
    "                pointRadius = 0,\n",
    "                fill = False,\n",
    "                lineTension = 0,\n",
    "                borderWidth = 2\n",
    "            )\n",
    "dataset3 = utils.dataset(\n",
    "                label = 'GOOGL',\n",
    "                backgroundColor = utils.color_rgb('green',0.5),\n",
    "                borderColor = utils.color_rgb('green'),\n",
    "                data = googl_val,\n",
    "                type = 'line',\n",
    "                pointRadius = 0,\n",
    "                fill = False,\n",
    "                lineTension = 0,\n",
    "                borderWidth = 2\n",
    "            )\n",
    "data = utils.data(\n",
    "    labels = aapl_label,\n",
    "    datasets = [dataset1,dataset2,dataset3]\n",
    ")"
   ]
  },
  {
   "cell_type": "code",
   "execution_count": null,
   "metadata": {},
   "outputs": [],
   "source": [
    "config = utils.config(\n",
    "        type = 'line',\n",
    "        data = data,\n",
    "        options = utils.options(\n",
    "            animation = {\n",
    "                'duration': 0\n",
    "            },\n",
    "            scales = {\n",
    "                'xAxes': [{\n",
    "                    'display':True,\n",
    "                    'scaleLabel':{\n",
    "                        'display':True,\n",
    "                        'labelString':'Date'\n",
    "                    }\n",
    "#                     'type': 'time',\n",
    "#                     'distribution': 'series',\n",
    "#                     'offset': True,\n",
    "                    ,'ticks': {\n",
    "                        'major': {\n",
    "                            'enabled': True,\n",
    "                            'fontStyle': 'bold'\n",
    "                        },\n",
    "                        'source': 'data',\n",
    "                        'autoSkip': True,\n",
    "                        'autoSkipPadding': 10,\n",
    "                        'maxRotation': 60,\n",
    "#                         'sampleSize': 100\n",
    "                    },\n",
    "#                     afterBuildTicks: function(scale, ticks) {\n",
    "#                         var majorUnit = scale._majorUnit;\n",
    "#                         var firstTick = ticks[0];\n",
    "#                         var i, ilen, val, tick, currMajor, lastMajor;\n",
    "\n",
    "#                         val = moment(ticks[0].value);\n",
    "#                         if ((majorUnit === 'minute' && val.second() === 0)\n",
    "#                                 || (majorUnit === 'hour' && val.minute() === 0)\n",
    "#                                 || (majorUnit === 'day' && val.hour() === 9)\n",
    "#                                 || (majorUnit === 'month' && val.date() <= 3 && val.isoWeekday() === 1)\n",
    "#                                 || (majorUnit === 'year' && val.month() === 0)) {\n",
    "#                             firstTick.major = true;\n",
    "#                         } else {\n",
    "#                             firstTick.major = false;\n",
    "#                         }\n",
    "#                         lastMajor = val.get(majorUnit);\n",
    "\n",
    "#                         for (i = 1, ilen = ticks.length; i < ilen; i++) {\n",
    "#                             tick = ticks[i];\n",
    "#                             val = moment(tick.value);\n",
    "#                             currMajor = val.get(majorUnit);\n",
    "#                             tick.major = currMajor !== lastMajor;\n",
    "#                             lastMajor = currMajor;\n",
    "#                         }\n",
    "#                         return ticks;\n",
    "#                     }\n",
    "                }],\n",
    "                'yAxes': [{\n",
    "                    'gridLines': {\n",
    "                        'drawBorder': False\n",
    "                    },\n",
    "                    'scaleLabel': {\n",
    "                        'display': True,\n",
    "                        'labelString': 'Closing price ($)'\n",
    "                    }\n",
    "                }]\n",
    "            },\n",
    "        )\n",
    ")\n"
   ]
  },
  {
   "cell_type": "code",
   "execution_count": null,
   "metadata": {},
   "outputs": [],
   "source": [
    "line_chart = ChartSuperClass()\n",
    "line_chart.initialize_chart(width=800, config=config)\n",
    "line_chart"
   ]
  },
  {
   "cell_type": "markdown",
   "metadata": {},
   "source": [
    "______\n",
    "\n",
    "# Test for time series line chart"
   ]
  },
  {
   "cell_type": "code",
   "execution_count": 1,
   "metadata": {},
   "outputs": [],
   "source": [
    "from chart_ipynb import line"
   ]
  },
  {
   "cell_type": "markdown",
   "metadata": {},
   "source": [
    "## Three datasets of stock prices from quandl"
   ]
  },
  {
   "cell_type": "code",
   "execution_count": 2,
   "metadata": {},
   "outputs": [
    {
     "data": {
      "application/vnd.jupyter.widget-view+json": {
       "model_id": "9deafde152ec47ec857f712366b0fa97",
       "version_major": 2,
       "version_minor": 0
      },
      "text/plain": [
       "Line(status='deferring flush until render')"
      ]
     },
     "metadata": {},
     "output_type": "display_data"
    }
   ],
   "source": [
    "start = '2017-1-1'\n",
    "end = '2018-1-1'\n",
    "symbols = ['AAPL','AMZN','GOOGL']\n",
    "col = 'Open'\n",
    "line.time_series_lineChart(symbols, col, start, end, website='quandl')"
   ]
  },
  {
   "cell_type": "markdown",
   "metadata": {},
   "source": [
    "## Two datasets of stock prices from quandl - Multi axis"
   ]
  },
  {
   "cell_type": "code",
   "execution_count": 3,
   "metadata": {},
   "outputs": [
    {
     "data": {
      "application/vnd.jupyter.widget-view+json": {
       "model_id": "18dc5589b8e1406da60709201a0b7a54",
       "version_major": 2,
       "version_minor": 0
      },
      "text/plain": [
       "Line(status='deferring flush until render')"
      ]
     },
     "metadata": {},
     "output_type": "display_data"
    }
   ],
   "source": [
    "from chart_ipynb import line\n",
    "start = '2017-1-1'\n",
    "end = '2018-1-1'\n",
    "symbols = ['AAPL','AMZN']\n",
    "val_col = 'Open'\n",
    "line.time_series_lineChart(symbols, val_col, start, end, website='quandl', multi_axis = True)"
   ]
  },
  {
   "cell_type": "markdown",
   "metadata": {},
   "source": [
    "## Self provide datasets "
   ]
  },
  {
   "cell_type": "code",
   "execution_count": null,
   "metadata": {},
   "outputs": [],
   "source": [
    "symbols = ['AAPL','AMZN', 'GOOGL']\n",
    "input_dataset = [aapl, amzn, googl]\n",
    "val_col = 'Close'\n",
    "date_col = 'Date'\n",
    "line.time_series_lineChart(symbols, val_col, start, end, data_provide=True, \n",
    "                       input_dataset = input_dataset, \n",
    "                       date_col = date_col)"
   ]
  },
  {
   "cell_type": "markdown",
   "metadata": {},
   "source": [
    "## Self provide datasets - Multi axis"
   ]
  },
  {
   "cell_type": "code",
   "execution_count": null,
   "metadata": {},
   "outputs": [],
   "source": [
    "symbols = ['AAPL','AMZN']\n",
    "input_dataset = [aapl, amzn]\n",
    "val_col = 'Close'\n",
    "date_col = 'Date'\n",
    "line.time_series_lineChart(symbols, val_col, start, end, data_provide=True, \n",
    "                       input_dataset = input_dataset, \n",
    "                       date_col = date_col,\n",
    "                       multi_axis = True)"
   ]
  }
 ],
 "metadata": {
  "kernelspec": {
   "display_name": "Python 3",
   "language": "python",
   "name": "python3"
  },
  "language_info": {
   "codemirror_mode": {
    "name": "ipython",
    "version": 3
   },
   "file_extension": ".py",
   "mimetype": "text/x-python",
   "name": "python",
   "nbconvert_exporter": "python",
   "pygments_lexer": "ipython3",
   "version": "3.7.0"
  }
 },
 "nbformat": 4,
 "nbformat_minor": 4
}
